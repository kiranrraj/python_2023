{
 "cells": [
  {
   "cell_type": "markdown",
   "id": "f09759df",
   "metadata": {},
   "source": [
    "# Sorting Algorithms"
   ]
  },
  {
   "cell_type": "markdown",
   "id": "a5fe4d31",
   "metadata": {},
   "source": [
    "## 1. Insertion Sort"
   ]
  },
  {
   "cell_type": "code",
   "execution_count": 1,
   "id": "6a5e4491",
   "metadata": {},
   "outputs": [
    {
     "name": "stdout",
     "output_type": "stream",
     "text": [
      "Array before sorting: [10, 5, 2, 6, 3, 7, 1, 8, 4, 9]\n",
      "Array after sorting: [1, 2, 3, 4, 5, 6, 7, 8, 9, 10]\n",
      "\n",
      "Array before sorting: [10, 15, 13, 11, 80, 29, 1, 43, 7, 2]\n",
      "Array after sorting: [1, 2, 7, 10, 11, 13, 15, 29, 43, 80]\n"
     ]
    }
   ],
   "source": [
    "def insertionSort(arr):\n",
    "    for i in range(len(arr)):\n",
    "        j = i\n",
    "        while arr[j-1] > arr[j] and j > 0:\n",
    "            arr[j-1], arr[j] = arr[j], arr[j-1]\n",
    "            j = j - 1\n",
    "    return arr\n",
    "\n",
    "arr1 = [10, 5, 2, 6, 3, 7, 1, 8, 4, 9]\n",
    "print(\"Array before sorting:\", arr1)\n",
    "insertionSort(arr1)\n",
    "print(\"Array after sorting:\", arr1)\n",
    "\n",
    "print()\n",
    "\n",
    "arr2 = [10, 15, 13, 11, 80, 29, 1, 43, 7, 2]\n",
    "print(\"Array before sorting:\", arr2)\n",
    "insertionSort(arr2)\n",
    "print(\"Array after sorting:\", arr2)\n"
   ]
  },
  {
   "cell_type": "markdown",
   "id": "31793458",
   "metadata": {},
   "source": [
    "## 2. Selection Sort"
   ]
  },
  {
   "cell_type": "code",
   "execution_count": 2,
   "id": "fb1d9034",
   "metadata": {},
   "outputs": [
    {
     "name": "stdout",
     "output_type": "stream",
     "text": [
      "Array before sorting: [10, 5, 2, 6, 3, 7, 1, 8, 4, 9]\n",
      "Array after sorting: [1, 2, 3, 4, 5, 6, 7, 8, 9, 10]\n",
      "\n",
      "Array before sorting: [10, 15, 13, 11, 80, 29, 1, 43, 7, 2]\n",
      "Array after sorting: [1, 2, 7, 10, 11, 13, 15, 29, 43, 80]\n"
     ]
    }
   ],
   "source": [
    "def selectionSort(arr):\n",
    "    for i in range(len(arr)-1):\n",
    "        current_min_index = i\n",
    "        for j in range(i+1, len(arr)):\n",
    "            if arr[j] < arr[current_min_index]:\n",
    "                current_min_index = j\n",
    "        arr[i], arr[current_min_index] = arr[current_min_index], arr[i]\n",
    "        \n",
    "\n",
    "\n",
    "arr11 = [10, 5, 2, 6, 3, 7, 1, 8, 4, 9]\n",
    "print(\"Array before sorting:\", arr11)\n",
    "selectionSort(arr11)\n",
    "print(\"Array after sorting:\", arr11)\n",
    "\n",
    "print()\n",
    "\n",
    "arr12 = [10, 15, 13, 11, 80, 29, 1, 43, 7, 2]\n",
    "print(\"Array before sorting:\", arr12)\n",
    "selectionSort(arr12)\n",
    "print(\"Array after sorting:\", arr12)\n"
   ]
  },
  {
   "cell_type": "markdown",
   "id": "0f37fb85",
   "metadata": {},
   "source": [
    "## 3. Merge Sort"
   ]
  },
  {
   "cell_type": "code",
   "execution_count": 1,
   "id": "a02c9b26",
   "metadata": {},
   "outputs": [
    {
     "name": "stdout",
     "output_type": "stream",
     "text": [
      "Array before sorting: [10, 5, 2, 6, 3, 7, 1, 8, 4, 9]\n",
      "Array after sorting: [1, 2, 3, 4, 5, 6, 7, 8, 9, 10]\n",
      "\n",
      "Array before sorting: [10, 15, 13, 11, 80, 29, 1, 43, 7, 2]\n",
      "Array after sorting: [1, 2, 7, 10, 11, 13, 15, 29, 43, 80]\n"
     ]
    }
   ],
   "source": [
    "def mergeSort(arr):\n",
    "    if len(arr) >1:\n",
    "        # Step 1 split the array into left and right\n",
    "        arrLength = len(arr)\n",
    "        leftArr = arr[:arrLength//2]\n",
    "        rightArr = arr[arrLength//2:]\n",
    "    \n",
    "        # Step 2 call mergeSort on left and right arrays\n",
    "        mergeSort(leftArr)\n",
    "        mergeSort(rightArr)\n",
    "    \n",
    "        # Step 3 Merge condition\n",
    "    \n",
    "        #Step 3.1 initialize indexes\n",
    "        leftIndex = 0\n",
    "        rightIndex = 0\n",
    "        mainIndex = 0\n",
    "    \n",
    "        # Step 3.2 check which element is smaller\n",
    "        # Add the smallest element to the front of the array\n",
    "        while leftIndex < len(leftArr) and rightIndex < len(rightArr):\n",
    "            if leftArr[leftIndex] < rightArr[rightIndex]:\n",
    "                arr[mainIndex] = leftArr[leftIndex]\n",
    "                leftIndex+=1\n",
    "            else:\n",
    "                arr[mainIndex] = rightArr[rightIndex]\n",
    "                rightIndex+=1\n",
    "            mainIndex+=1\n",
    "        \n",
    "        # Step 3.3 if any elements left in the left array add it to\n",
    "        # the main array as last elements.\n",
    "        while leftIndex < len(leftArr):\n",
    "            arr[mainIndex] = leftArr[leftIndex]\n",
    "            leftIndex+=1\n",
    "            mainIndex+=1\n",
    "        \n",
    "        # Step 3.3 if any elements left in the right array add it to\n",
    "        # the main array as last elements.\n",
    "        while rightIndex < len(rightArr):\n",
    "            arr[mainIndex] = rightArr[rightIndex]\n",
    "            rightIndex+=1\n",
    "            mainIndex+=1\n",
    "        \n",
    "        return arr\n",
    "\n",
    "arr21 = [10, 5, 2, 6, 3, 7, 1, 8, 4, 9]\n",
    "print(\"Array before sorting:\", arr21)\n",
    "mergeSort(arr21)\n",
    "print(\"Array after sorting:\", arr21)\n",
    "\n",
    "print()\n",
    "\n",
    "arr22 = [10, 15, 13, 11, 80, 29, 1, 43, 7, 2]\n",
    "print(\"Array before sorting:\", arr22)\n",
    "mergeSort(arr22)\n",
    "print(\"Array after sorting:\", arr22)"
   ]
  },
  {
   "cell_type": "markdown",
   "id": "8b6ca7a6",
   "metadata": {},
   "source": [
    "# 4. Quick Sort"
   ]
  },
  {
   "cell_type": "code",
   "execution_count": 7,
   "id": "6b62cba6",
   "metadata": {},
   "outputs": [
    {
     "name": "stdout",
     "output_type": "stream",
     "text": [
      "Array before sorting: [10, 5, 2, 6, 3, 7, 1, 8, 4, 9]\n",
      "Array after sorting: [1, 2, 3, 4, 5, 6, 7, 8, 9, 10]\n",
      "\n",
      "Array before sorting: [10, 15, 13, 11, 80, 29, 1, 43, 7, 2]\n",
      "Array after sorting: [1, 2, 7, 10, 11, 13, 15, 29, 43, 80]\n"
     ]
    }
   ],
   "source": [
    "def quickSort(arr,leftIndex,rightIndex):\n",
    "    if leftIndex < rightIndex:\n",
    "        splitIndex = splitter(arr, leftIndex, rightIndex)\n",
    "        quickSort(arr, leftIndex, splitIndex-1)\n",
    "        quickSort(arr, splitIndex+1, rightIndex)\n",
    "        \n",
    "def splitter(arr, leftIndex, rightIndex):\n",
    "    left = leftIndex\n",
    "    right = rightIndex - 1\n",
    "    pivot = arr[rightIndex]\n",
    "    \n",
    "    while left < right:\n",
    "        while left < rightIndex and arr[left] < pivot:\n",
    "            left+=1\n",
    "            \n",
    "        while right > leftIndex and arr[right] >= pivot:\n",
    "            right-=1\n",
    "            \n",
    "        if left < right:\n",
    "            arr[left], arr[right] = arr[right], arr[left]\n",
    "            \n",
    "    if arr[left] > pivot:\n",
    "        arr[left], arr[rightIndex] = arr[rightIndex], arr[left]\n",
    "    \n",
    "    return left \n",
    "\n",
    "\n",
    "arr31 = [10, 5, 2, 6, 3, 7, 1, 8, 4, 9]\n",
    "print(\"Array before sorting:\", arr31)\n",
    "quickSort(arr31, 0, len(arr31)-1)\n",
    "print(\"Array after sorting:\", arr31)\n",
    "\n",
    "print()\n",
    "\n",
    "arr32 = [10, 15, 13, 11, 80, 29, 1, 43, 7, 2]\n",
    "print(\"Array before sorting:\", arr32)\n",
    "quickSort(arr32, 0, len(arr32)-1)\n",
    "print(\"Array after sorting:\", arr32)"
   ]
  },
  {
   "cell_type": "code",
   "execution_count": null,
   "id": "276761f5",
   "metadata": {},
   "outputs": [],
   "source": []
  }
 ],
 "metadata": {
  "kernelspec": {
   "display_name": "Python 3 (ipykernel)",
   "language": "python",
   "name": "python3"
  },
  "language_info": {
   "codemirror_mode": {
    "name": "ipython",
    "version": 3
   },
   "file_extension": ".py",
   "mimetype": "text/x-python",
   "name": "python",
   "nbconvert_exporter": "python",
   "pygments_lexer": "ipython3",
   "version": "3.9.0"
  }
 },
 "nbformat": 4,
 "nbformat_minor": 5
}
