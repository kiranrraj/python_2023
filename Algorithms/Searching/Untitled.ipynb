{
 "cells": [
  {
   "cell_type": "markdown",
   "id": "5235ffd3",
   "metadata": {},
   "source": [
    "# Searching Algorithms"
   ]
  },
  {
   "cell_type": "code",
   "execution_count": 10,
   "id": "3cfb2db4",
   "metadata": {},
   "outputs": [
    {
     "name": "stdout",
     "output_type": "stream",
     "text": [
      "6\n",
      "-1\n",
      "0\n"
     ]
    }
   ],
   "source": [
    "\n",
    "def binarySearch(num, arr):\n",
    "\n",
    "    minVal = 0\n",
    "    maxVal = len(arr)-1\n",
    "    midVal = 0\n",
    "    \n",
    "    while minVal <= maxVal:\n",
    "        midVal = (minVal + maxVal) // 2\n",
    "        if arr[midVal] > num:\n",
    "            maxVal = midVal - 1\n",
    "        elif arr[midVal] < num:\n",
    "            minVal = midVal + 1\n",
    "        else:\n",
    "            return midVal\n",
    "    \n",
    "    return -1\n",
    "        \n",
    "print(binarySearch(9, [3,4,5,6,7,8,9]))\n",
    "print(binarySearch(19, [3,4,5,6,7,8,9]))\n",
    "print(binarySearch(3, [3,4,5,6,7,8,9]))"
   ]
  },
  {
   "cell_type": "code",
   "execution_count": null,
   "id": "6fef83fa",
   "metadata": {},
   "outputs": [],
   "source": []
  },
  {
   "cell_type": "code",
   "execution_count": null,
   "id": "e88a51c2",
   "metadata": {},
   "outputs": [],
   "source": []
  }
 ],
 "metadata": {
  "kernelspec": {
   "display_name": "Python 3 (ipykernel)",
   "language": "python",
   "name": "python3"
  },
  "language_info": {
   "codemirror_mode": {
    "name": "ipython",
    "version": 3
   },
   "file_extension": ".py",
   "mimetype": "text/x-python",
   "name": "python",
   "nbconvert_exporter": "python",
   "pygments_lexer": "ipython3",
   "version": "3.9.0"
  }
 },
 "nbformat": 4,
 "nbformat_minor": 5
}
