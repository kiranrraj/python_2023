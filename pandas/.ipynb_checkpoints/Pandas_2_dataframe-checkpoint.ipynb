{
 "cells": [
  {
   "cell_type": "code",
   "execution_count": 1,
   "id": "78e3feae",
   "metadata": {},
   "outputs": [],
   "source": [
    "import pandas as pd\n",
    "import numpy as np"
   ]
  },
  {
   "cell_type": "code",
   "execution_count": 2,
   "id": "2c79c6ab",
   "metadata": {},
   "outputs": [
    {
     "name": "stdout",
     "output_type": "stream",
     "text": [
      "Empty DataFrame\n",
      "Columns: []\n",
      "Index: []\n"
     ]
    }
   ],
   "source": [
    "# Create an empty data frame\n",
    "\n",
    "empty_df = pd.DataFrame()\n",
    "print(empty_df)"
   ]
  },
  {
   "cell_type": "code",
   "execution_count": 3,
   "id": "f500585a",
   "metadata": {},
   "outputs": [
    {
     "name": "stdout",
     "output_type": "stream",
     "text": [
      "    0\n",
      "0  10\n",
      "1  20\n",
      "2  30\n",
      "3  40\n",
      "4  50\n"
     ]
    }
   ],
   "source": [
    "# Create a simple data frame using array\n",
    "\n",
    "data_arr = [10, 20, 30, 40, 50]\n",
    "num_df = pd.DataFrame(data_arr)\n",
    "print(num_df)"
   ]
  },
  {
   "cell_type": "code",
   "execution_count": 4,
   "id": "cc42bfab",
   "metadata": {},
   "outputs": [
    {
     "name": "stdout",
     "output_type": "stream",
     "text": [
      "       Subject  Marks\n",
      "0    Malayalam     95\n",
      "1  Mathematics     90\n",
      "2      English     96\n",
      "3        Hindi     99\n"
     ]
    }
   ],
   "source": [
    "data = {\n",
    "    \"Subject\" : [\"Malayalam\", \"Mathematics\", \"English\", \"Hindi\"],\n",
    "    \"Marks\" : [95, 90, 96, 99]\n",
    "}\n",
    "\n",
    "marks_df = pd.DataFrame(data)\n",
    "print(marks_df)"
   ]
  },
  {
   "cell_type": "code",
   "execution_count": 5,
   "id": "1da3e93b",
   "metadata": {},
   "outputs": [
    {
     "name": "stdout",
     "output_type": "stream",
     "text": [
      "             0   1\n",
      "0    Malayalam  95\n",
      "1  Mathematics  90\n",
      "2      English  96\n",
      "3        Hindi  99\n"
     ]
    }
   ],
   "source": [
    "data = [ \n",
    "    [\"Malayalam\", 95], \n",
    "    [\"Mathematics\", 90], \n",
    "    [\"English\", 96], \n",
    "    [\"Hindi\", 99]\n",
    "]\n",
    "\n",
    "marks_df = pd.DataFrame(data)\n",
    "print(marks_df)"
   ]
  },
  {
   "cell_type": "code",
   "execution_count": 6,
   "id": "083a0b6e",
   "metadata": {},
   "outputs": [
    {
     "name": "stdout",
     "output_type": "stream",
     "text": [
      "       Subject  Mark\n",
      "0    Malayalam    95\n",
      "1  Mathematics    90\n",
      "2      English    96\n",
      "3        Hindi    99\n"
     ]
    }
   ],
   "source": [
    "data = [ \n",
    "    [\"Malayalam\", 95], \n",
    "    [\"Mathematics\", 90], \n",
    "    [\"English\", 96], \n",
    "    [\"Hindi\", 99]\n",
    "]\n",
    "\n",
    "marks_df = pd.DataFrame(data, columns=[\"Subject\", \"Mark\"])\n",
    "print(marks_df)"
   ]
  },
  {
   "cell_type": "code",
   "execution_count": 11,
   "id": "edd40e8d",
   "metadata": {},
   "outputs": [
    {
     "name": "stdout",
     "output_type": "stream",
     "text": [
      "                          0   1\n",
      "MainLanguage      Malayalam  95\n",
      "Required        Mathematics  90\n",
      "SecondLanguage      English  96\n",
      "Optional              Hindi  99\n"
     ]
    }
   ],
   "source": [
    "data = [ \n",
    "    [\"Malayalam\", 95], \n",
    "    [\"Mathematics\", 90], \n",
    "    [\"English\", 96], \n",
    "    [\"Hindi\", 99]\n",
    "]\n",
    "\n",
    "marks_df = pd.DataFrame(data, index=[\"MainLanguage\", \"Required\", \"SecondLanguage\", \"Optional\"])\n",
    "print(marks_df)"
   ]
  },
  {
   "cell_type": "code",
   "execution_count": null,
   "id": "62130cdb",
   "metadata": {},
   "outputs": [],
   "source": []
  }
 ],
 "metadata": {
  "kernelspec": {
   "display_name": "Python 3 (ipykernel)",
   "language": "python",
   "name": "python3"
  },
  "language_info": {
   "codemirror_mode": {
    "name": "ipython",
    "version": 3
   },
   "file_extension": ".py",
   "mimetype": "text/x-python",
   "name": "python",
   "nbconvert_exporter": "python",
   "pygments_lexer": "ipython3",
   "version": "3.9.0"
  }
 },
 "nbformat": 4,
 "nbformat_minor": 5
}
