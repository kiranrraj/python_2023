{
 "cells": [
  {
   "cell_type": "code",
   "execution_count": 1,
   "id": "a7ed5c32",
   "metadata": {},
   "outputs": [],
   "source": [
    "import pandas as pd\n",
    "import numpy as np"
   ]
  },
  {
   "cell_type": "markdown",
   "id": "aad5aa7a",
   "metadata": {},
   "source": [
    "## Series"
   ]
  },
  {
   "cell_type": "code",
   "execution_count": 2,
   "id": "f1b4f1fe",
   "metadata": {},
   "outputs": [
    {
     "name": "stdout",
     "output_type": "stream",
     "text": [
      "0      One\n",
      "1      Two\n",
      "2    Three\n",
      "3     Four\n",
      "4     Five\n",
      "dtype: object\n"
     ]
    }
   ],
   "source": [
    "# Creating a series \n",
    "# Pandas.series(data,index,dtype)\n",
    "\n",
    "series1 = pd.Series([\"One\", \"Two\", \"Three\", \"Four\", \"Five\"])\n",
    "print(series1)"
   ]
  },
  {
   "cell_type": "code",
   "execution_count": 3,
   "id": "d4747aaf",
   "metadata": {},
   "outputs": [
    {
     "name": "stdout",
     "output_type": "stream",
     "text": [
      "0    100\n",
      "1    100\n",
      "2    100\n",
      "3    100\n",
      "4    100\n",
      "dtype: int64\n"
     ]
    }
   ],
   "source": [
    "# Creating a series with all elements have the same value\n",
    "\n",
    "seriesScalar = pd.Series(100, index=[0,1,2,3,4])\n",
    "print(seriesScalar)"
   ]
  },
  {
   "cell_type": "code",
   "execution_count": 4,
   "id": "4df9d355",
   "metadata": {},
   "outputs": [
    {
     "name": "stdout",
     "output_type": "stream",
     "text": [
      "Name        Kiran\n",
      "Job     Developer\n",
      "Born         1950\n",
      "dtype: object\n"
     ]
    }
   ],
   "source": [
    "# Create a series from a dictionary\n",
    "\n",
    "seriesDict = pd.Series({\"Name\": \"Kiran\", \"Job\": \"Developer\", \"Born\": 1950})\n",
    "print(seriesDict)"
   ]
  },
  {
   "cell_type": "code",
   "execution_count": 5,
   "id": "a22588c9",
   "metadata": {},
   "outputs": [
    {
     "name": "stdout",
     "output_type": "stream",
     "text": [
      "Series([], dtype: object)\n"
     ]
    }
   ],
   "source": [
    "# Create an empty series\n",
    "\n",
    "empty = pd.Series()\n",
    "print(empty)"
   ]
  },
  {
   "cell_type": "code",
   "execution_count": 6,
   "id": "5ca85b56",
   "metadata": {},
   "outputs": [
    {
     "name": "stdout",
     "output_type": "stream",
     "text": [
      "True\n",
      "False\n"
     ]
    }
   ],
   "source": [
    "# Attribute\n",
    "# Check the series is empty or not\n",
    "\n",
    "empty_series = pd.Series()\n",
    "print(empty_series.empty)\n",
    "\n",
    "non_empty_series = pd.Series([10,20,30])\n",
    "print(non_empty_series.empty)"
   ]
  },
  {
   "cell_type": "code",
   "execution_count": 7,
   "id": "15b035c4",
   "metadata": {},
   "outputs": [
    {
     "name": "stdout",
     "output_type": "stream",
     "text": [
      "True\n",
      "False\n"
     ]
    }
   ],
   "source": [
    "# Attribute\n",
    "# Check the series contain NaN values\n",
    "# using the hasnans attribute\n",
    "\n",
    "data = [10, 20, 30, 40, np.NaN, 0]\n",
    "data1 = [10, 20, 30, 40, 50, 0]\n",
    "\n",
    "series5 = pd.Series(data)\n",
    "series51 = pd.Series(data1)\n",
    "\n",
    "print(series5.hasnans)\n",
    "print(series51.hasnans)"
   ]
  },
  {
   "cell_type": "code",
   "execution_count": 8,
   "id": "bba1a57f",
   "metadata": {},
   "outputs": [
    {
     "data": {
      "text/plain": [
       "array(['One', 'Two', 'Three', 'Four', 'Five'], dtype=object)"
      ]
     },
     "execution_count": 8,
     "metadata": {},
     "output_type": "execute_result"
    }
   ],
   "source": [
    "# Attributes\n",
    "# To print values from a series use value attribute\n",
    "\n",
    "series1.values"
   ]
  },
  {
   "cell_type": "code",
   "execution_count": 9,
   "id": "e08b137a",
   "metadata": {},
   "outputs": [
    {
     "data": {
      "text/plain": [
       "1"
      ]
     },
     "execution_count": 9,
     "metadata": {},
     "output_type": "execute_result"
    }
   ],
   "source": [
    "# Attributes\n",
    "# Ndim returns the number of dimensions.\n",
    "\n",
    "series1.ndim"
   ]
  },
  {
   "cell_type": "code",
   "execution_count": 10,
   "id": "e52fc470",
   "metadata": {},
   "outputs": [
    {
     "data": {
      "text/plain": [
       "5"
      ]
     },
     "execution_count": 10,
     "metadata": {},
     "output_type": "execute_result"
    }
   ],
   "source": [
    "# Attributes\n",
    "# For a series, size will return the number of elements.\n",
    "\n",
    "series1.size"
   ]
  },
  {
   "cell_type": "code",
   "execution_count": 11,
   "id": "370ef2cd",
   "metadata": {},
   "outputs": [
    {
     "data": {
      "text/plain": [
       "dtype('O')"
      ]
     },
     "execution_count": 11,
     "metadata": {},
     "output_type": "execute_result"
    }
   ],
   "source": [
    "# Attributes\n",
    "# To get the type of elements use the dtype. \n",
    "\n",
    "series1.dtype"
   ]
  },
  {
   "cell_type": "code",
   "execution_count": 12,
   "id": "37d6d002",
   "metadata": {},
   "outputs": [
    {
     "name": "stdout",
     "output_type": "stream",
     "text": [
      "Custom_Name\n",
      "New_name\n"
     ]
    }
   ],
   "source": [
    "# Attribute\n",
    "# Series name and renaming \n",
    "\n",
    "seriesName = pd.Series([1, 2, 3, 4, 5], name=\"Custom_Name\")\n",
    "print(seriesName.name)\n",
    "\n",
    "seriesName2 = seriesName.rename(\"New_name\")\n",
    "print(seriesName2.name)"
   ]
  },
  {
   "cell_type": "code",
   "execution_count": 13,
   "id": "dade0e0d",
   "metadata": {},
   "outputs": [
    {
     "data": {
      "text/plain": [
       "(5,)"
      ]
     },
     "execution_count": 13,
     "metadata": {},
     "output_type": "execute_result"
    }
   ],
   "source": [
    "# Attributes\n",
    "# To get the shape of the series. (Row, columns)\n",
    "# Since row is only one the output will be (column_count, )\n",
    "\n",
    "series1.shape"
   ]
  },
  {
   "cell_type": "code",
   "execution_count": 14,
   "id": "d4b4bc1f",
   "metadata": {},
   "outputs": [
    {
     "data": {
      "text/plain": [
       "RangeIndex(start=0, stop=5, step=1)"
      ]
     },
     "execution_count": 14,
     "metadata": {},
     "output_type": "execute_result"
    }
   ],
   "source": [
    "# Index return the RangeIndex of the series\n",
    "# RangeIndex is a memory-saving special case of an Index \n",
    "# limited to representing monotonic ranges with a 64-bit dtype.\n",
    "\n",
    "series1.index\n",
    "# RangeIndex(start=0, stop=5, step=1)"
   ]
  },
  {
   "cell_type": "code",
   "execution_count": 15,
   "id": "237dc42a",
   "metadata": {},
   "outputs": [
    {
     "name": "stdout",
     "output_type": "stream",
     "text": [
      "Index(['Name', 'Job', 'Born'], dtype='object')\n"
     ]
    }
   ],
   "source": [
    "# To get the index out of Series use index attribute.\n",
    "\n",
    "seriesDict = pd.Series({\"Name\": \"Kiran\", \"Job\": \"Developer\", \"Born\": 1950})\n",
    "print(seriesDict.index)"
   ]
  },
  {
   "cell_type": "code",
   "execution_count": 16,
   "id": "4d822c65",
   "metadata": {},
   "outputs": [
    {
     "name": "stdout",
     "output_type": "stream",
     "text": [
      "<class 'pandas.core.series.Series'>\n",
      "RangeIndex: 5 entries, 0 to 4\n",
      "Series name: None\n",
      "Non-Null Count  Dtype \n",
      "--------------  ----- \n",
      "5 non-null      object\n",
      "dtypes: object(1)\n",
      "memory usage: 168.0+ bytes\n"
     ]
    }
   ],
   "source": [
    "# Info method will print details about the series\n",
    "\n",
    "series1.info()"
   ]
  },
  {
   "cell_type": "code",
   "execution_count": 17,
   "id": "639c9b76",
   "metadata": {},
   "outputs": [
    {
     "data": {
      "text/plain": [
       "count       5\n",
       "unique      5\n",
       "top       One\n",
       "freq        1\n",
       "dtype: object"
      ]
     },
     "execution_count": 17,
     "metadata": {},
     "output_type": "execute_result"
    }
   ],
   "source": [
    "# Describe method will print details about the series\n",
    "\n",
    "series1.describe()"
   ]
  },
  {
   "cell_type": "code",
   "execution_count": 18,
   "id": "243099d9",
   "metadata": {},
   "outputs": [
    {
     "name": "stdout",
     "output_type": "stream",
     "text": [
      "[10, 20, 30, 40, 50]\n",
      "10\n",
      "50\n"
     ]
    }
   ],
   "source": [
    "# Accessing an element in the series\n",
    "\n",
    "data1 = [10, 20, 30, 40, 50]\n",
    "series2 = pd.Series(data1)\n",
    "print(data1)\n",
    "\n",
    "elem1 = series2[0]\n",
    "print(elem1)\n",
    "\n",
    "elem2 = series2[4]\n",
    "print(elem2)"
   ]
  },
  {
   "cell_type": "code",
   "execution_count": 19,
   "id": "57b273cc",
   "metadata": {},
   "outputs": [
    {
     "name": "stdout",
     "output_type": "stream",
     "text": [
      "0      0\n",
      "1      5\n",
      "2     10\n",
      "3     15\n",
      "4     20\n",
      "5     25\n",
      "6     30\n",
      "7     35\n",
      "8     40\n",
      "9     45\n",
      "10    50\n",
      "11    55\n",
      "12    60\n",
      "13    65\n",
      "14    70\n",
      "15    75\n",
      "16    80\n",
      "17    85\n",
      "18    90\n",
      "19    95\n",
      "dtype: int32\n"
     ]
    }
   ],
   "source": [
    "# Creating a series\n",
    "\n",
    "series3 = pd.Series(np.arange(0,100,5))\n",
    "print(series3)"
   ]
  },
  {
   "cell_type": "code",
   "execution_count": 20,
   "id": "c3de3013",
   "metadata": {},
   "outputs": [
    {
     "name": "stdout",
     "output_type": "stream",
     "text": [
      "0     0\n",
      "1     5\n",
      "2    10\n",
      "3    15\n",
      "4    20\n",
      "dtype: int32\n"
     ]
    }
   ],
   "source": [
    "# Elements access using index [ : stopIndex]\n",
    "# Will return all elements from the start (index 0) to the element \n",
    "# till the (stopIndex-1), stopIndex will not be considered\n",
    "\n",
    "print(series3[:5])"
   ]
  },
  {
   "cell_type": "code",
   "execution_count": 21,
   "id": "67f978fa",
   "metadata": {},
   "outputs": [
    {
     "name": "stdout",
     "output_type": "stream",
     "text": [
      "5     25\n",
      "6     30\n",
      "7     35\n",
      "8     40\n",
      "9     45\n",
      "10    50\n",
      "11    55\n",
      "12    60\n",
      "13    65\n",
      "14    70\n",
      "15    75\n",
      "16    80\n",
      "17    85\n",
      "18    90\n",
      "19    95\n",
      "dtype: int32\n"
     ]
    }
   ],
   "source": [
    "# Elements access using index [startIndex : ]\n",
    "# Return all elements from the start index to end.\n",
    "\n",
    "print(series3[5:])"
   ]
  },
  {
   "cell_type": "code",
   "execution_count": 22,
   "id": "de427156",
   "metadata": {},
   "outputs": [
    {
     "name": "stdout",
     "output_type": "stream",
     "text": [
      "5    25\n",
      "6    30\n",
      "7    35\n",
      "8    40\n",
      "9    45\n",
      "dtype: int32\n"
     ]
    }
   ],
   "source": [
    "# Elements access using index [startIndex : stopIndex]\n",
    "# Return all the elements from the start index to stopIndex -1\n",
    "\n",
    "print(series3[5:10])"
   ]
  },
  {
   "cell_type": "code",
   "execution_count": 23,
   "id": "b5033104",
   "metadata": {},
   "outputs": [
    {
     "name": "stdout",
     "output_type": "stream",
     "text": [
      "15    75\n",
      "16    80\n",
      "17    85\n",
      "18    90\n",
      "dtype: int32\n"
     ]
    }
   ],
   "source": [
    "# Elements access using index [startIndex : -1]\n",
    "# Return all elements from startIndex to lastIndex-1\n",
    "\n",
    "print(series3[15:-1])"
   ]
  },
  {
   "cell_type": "code",
   "execution_count": 24,
   "id": "2073bd73",
   "metadata": {},
   "outputs": [
    {
     "name": "stdout",
     "output_type": "stream",
     "text": [
      "0     0\n",
      "1     5\n",
      "2    10\n",
      "3    15\n",
      "4    20\n",
      "dtype: int32\n"
     ]
    }
   ],
   "source": [
    "# Elements access using index [startIndex : -Index]\n",
    "# Return all elements from start to LastIndex-Index.\n",
    "\n",
    "print(series3[:-15])"
   ]
  },
  {
   "cell_type": "code",
   "execution_count": 25,
   "id": "abe060e0",
   "metadata": {},
   "outputs": [
    {
     "name": "stdout",
     "output_type": "stream",
     "text": [
      "One      1\n",
      "Two      2\n",
      "Three    3\n",
      "Four     4\n",
      "Five     5\n",
      "dtype: int64\n",
      "Index(['One', 'Two', 'Three', 'Four', 'Five'], dtype='object')\n"
     ]
    }
   ],
   "source": [
    "# Create a series with labels.\n",
    "\n",
    "seriesLabel = pd.Series([1,2,3,4,5],index=[\"One\", \"Two\", \"Three\", \"Four\", \"Five\"])\n",
    "print(seriesLabel)\n",
    "print(seriesLabel.index)"
   ]
  },
  {
   "cell_type": "code",
   "execution_count": 26,
   "id": "b9f4646c",
   "metadata": {},
   "outputs": [
    {
     "name": "stdout",
     "output_type": "stream",
     "text": [
      "5\n"
     ]
    }
   ],
   "source": [
    "# Count method to find the number of elements in the series\n",
    "\n",
    "seriesLabel = pd.Series([1,2,3,4,5],index=[\"One\", \"Two\", \"Three\", \"Four\", \"Five\"])\n",
    "print(seriesLabel.count())"
   ]
  },
  {
   "cell_type": "code",
   "execution_count": 27,
   "id": "272003ba",
   "metadata": {},
   "outputs": [
    {
     "name": "stdout",
     "output_type": "stream",
     "text": [
      "6\n",
      "5\n"
     ]
    }
   ],
   "source": [
    "# When we use count method NaN is not counted\n",
    "\n",
    "data = [10, 20, 30, 40, 50, 0]\n",
    "series5 = pd.Series(data)\n",
    "print(series5.count())\n",
    "\n",
    "data = [10, 20, 30, 40, np.NaN, 0]\n",
    "series5 = pd.Series(data)\n",
    "print(series5.count())"
   ]
  },
  {
   "cell_type": "code",
   "execution_count": 28,
   "id": "2d85d2b4",
   "metadata": {},
   "outputs": [
    {
     "name": "stdout",
     "output_type": "stream",
     "text": [
      "[4 5 6]\n"
     ]
    }
   ],
   "source": [
    "# Return the unique values in the series using\n",
    "# the unique method\n",
    "\n",
    "series4 = pd.Series([4,4,4,5,5,5,6,6,6])\n",
    "series4_u = pd.unique(series4)\n",
    "print(series4_u)"
   ]
  },
  {
   "cell_type": "code",
   "execution_count": 29,
   "id": "ec8af13d",
   "metadata": {},
   "outputs": [
    {
     "name": "stdout",
     "output_type": "stream",
     "text": [
      "3\n"
     ]
    }
   ],
   "source": [
    "# Return the count of unique values in the series using\n",
    "# the nunique method\n",
    "\n",
    "series4 = pd.Series([4,4,4,5,5,5,6,6,6])\n",
    "print(series4.nunique())"
   ]
  },
  {
   "cell_type": "code",
   "execution_count": 30,
   "id": "bcd934cf",
   "metadata": {},
   "outputs": [
    {
     "name": "stdout",
     "output_type": "stream",
     "text": [
      "False\n",
      "True\n"
     ]
    }
   ],
   "source": [
    "# Check the series having unique values \n",
    "# using the is_unique method\n",
    "\n",
    "series4 = pd.Series([4,4,4,5,5,5,6,6,6])\n",
    "print(series4.is_unique)\n",
    "\n",
    "series4 = pd.Series([4,7,6,5,9,8,1,2,3])\n",
    "print(series4.is_unique)"
   ]
  },
  {
   "cell_type": "code",
   "execution_count": 47,
   "id": "794350ff",
   "metadata": {},
   "outputs": [
    {
     "name": "stdout",
     "output_type": "stream",
     "text": [
      "45\n",
      "45\n"
     ]
    }
   ],
   "source": [
    "# Find the sum of the series using the sum method \n",
    "\n",
    "series5 = pd.Series([4,4,4,5,5,5,6,6,6])\n",
    "sum5 = series5.sum()\n",
    "print(sum5)\n",
    "\n",
    "print(np.sum(series5))"
   ]
  },
  {
   "cell_type": "code",
   "execution_count": 49,
   "id": "794fb56c",
   "metadata": {},
   "outputs": [
    {
     "name": "stdout",
     "output_type": "stream",
     "text": [
      "400\n",
      "0     40\n",
      "1     10\n",
      "2     50\n",
      "3     20\n",
      "4    100\n",
      "dtype: int64\n"
     ]
    }
   ],
   "source": [
    "# Find the product of the series using the product method \n",
    "\n",
    "series5 = pd.Series([4,1,5,2,10])\n",
    "product5 = series5.product()\n",
    "print(product5)\n",
    "\n",
    "print(np.multiply(series5, 10))"
   ]
  },
  {
   "cell_type": "code",
   "execution_count": 33,
   "id": "a7b14ce7",
   "metadata": {},
   "outputs": [
    {
     "name": "stdout",
     "output_type": "stream",
     "text": [
      "5.0\n"
     ]
    }
   ],
   "source": [
    "# Find the mean of the series using the mean method \n",
    "\n",
    "series5 = pd.Series([4,4,4,5,5,5,6,6,6])\n",
    "mean5 = series5.mean()\n",
    "print(mean5)"
   ]
  },
  {
   "cell_type": "code",
   "execution_count": 34,
   "id": "36e59812",
   "metadata": {},
   "outputs": [
    {
     "name": "stdout",
     "output_type": "stream",
     "text": [
      "5.0\n"
     ]
    }
   ],
   "source": [
    "# Find the median of the series using the median method \n",
    "\n",
    "series5 = pd.Series([4,4,4,5,5,5,6,6,6])\n",
    "median5 = series5.median()\n",
    "print(median5)"
   ]
  },
  {
   "cell_type": "code",
   "execution_count": 35,
   "id": "6c62c85d",
   "metadata": {},
   "outputs": [
    {
     "name": "stdout",
     "output_type": "stream",
     "text": [
      "<PandasArray>\n",
      "[4, 4, 4, 5, 5, 5, 6, 6, 6]\n",
      "Length: 9, dtype: int16\n"
     ]
    }
   ],
   "source": [
    "# Create an array from the series\n",
    "\n",
    "series4 = pd.Series([4,4,4,5,5,5,6,6,6], dtype=np.int16)\n",
    "series4_arr = series4.array\n",
    "print(series4_arr)"
   ]
  },
  {
   "cell_type": "code",
   "execution_count": 36,
   "id": "83143ddd",
   "metadata": {},
   "outputs": [
    {
     "name": "stdout",
     "output_type": "stream",
     "text": [
      "9\n",
      "int16\n"
     ]
    }
   ],
   "source": [
    "series4 = pd.Series([4,4,4,5,5,5,6,6,6], dtype=np.int16)\n",
    "series4_arr = series4.array\n",
    "print(len(series4_arr))\n",
    "print(series4_arr.dtype)"
   ]
  },
  {
   "cell_type": "code",
   "execution_count": 37,
   "id": "aa7d25d3",
   "metadata": {},
   "outputs": [
    {
     "name": "stdout",
     "output_type": "stream",
     "text": [
      "0   -1.000000\n",
      "1   -0.777778\n",
      "2   -0.555556\n",
      "3   -0.333333\n",
      "4   -0.111111\n",
      "5    0.111111\n",
      "6    0.333333\n",
      "7    0.555556\n",
      "8    0.777778\n",
      "9    1.000000\n",
      "dtype: float64\n",
      "\n",
      "0    1.000000\n",
      "1    0.777778\n",
      "2    0.555556\n",
      "3    0.333333\n",
      "4    0.111111\n",
      "5    0.111111\n",
      "6    0.333333\n",
      "7    0.555556\n",
      "8    0.777778\n",
      "9    1.000000\n",
      "dtype: float64\n"
     ]
    }
   ],
   "source": [
    "# Return the absolute value of elements\n",
    "# use abs method\n",
    "\n",
    "data = np.linspace(-1, 1, 10)\n",
    "series5 = pd.Series(data)\n",
    "print(series5)\n",
    "print()\n",
    "print(series5.abs())"
   ]
  },
  {
   "cell_type": "code",
   "execution_count": 38,
   "id": "bfe9471f",
   "metadata": {},
   "outputs": [
    {
     "name": "stdout",
     "output_type": "stream",
     "text": [
      "10.09216784699164\n"
     ]
    }
   ],
   "source": [
    "# Find the standard deviation of the series \n",
    "# using the std method\n",
    "\n",
    "data = np.linspace(0, 30, 10)\n",
    "series5 = pd.Series(data)\n",
    "print(series5.std())"
   ]
  },
  {
   "cell_type": "code",
   "execution_count": 39,
   "id": "bd1522d8",
   "metadata": {},
   "outputs": [
    {
     "name": "stdout",
     "output_type": "stream",
     "text": [
      "0    10.000000\n",
      "1    12.222222\n",
      "2    14.444444\n",
      "3    16.666667\n",
      "4    18.888889\n",
      "5    21.111111\n",
      "6    23.333333\n",
      "7    25.555556\n",
      "8    27.777778\n",
      "9    30.000000\n",
      "dtype: float64\n",
      "\n",
      "10.0\n"
     ]
    }
   ],
   "source": [
    "# Find the min value of the series \n",
    "# using the min method\n",
    "\n",
    "data = np.linspace(10, 30, 10)\n",
    "series5 = pd.Series(data)\n",
    "print(series5)\n",
    "print()\n",
    "print(series5.min())"
   ]
  },
  {
   "cell_type": "code",
   "execution_count": 40,
   "id": "91fe83da",
   "metadata": {},
   "outputs": [
    {
     "name": "stdout",
     "output_type": "stream",
     "text": [
      "0    10.000000\n",
      "1    12.222222\n",
      "2    14.444444\n",
      "3    16.666667\n",
      "4    18.888889\n",
      "5    21.111111\n",
      "6    23.333333\n",
      "7    25.555556\n",
      "8    27.777778\n",
      "9    30.000000\n",
      "dtype: float64\n",
      "\n",
      "30.0\n"
     ]
    }
   ],
   "source": [
    "# Find the max value of the series \n",
    "# using the max method\n",
    "\n",
    "data = np.linspace(10, 30, 10)\n",
    "series5 = pd.Series(data)\n",
    "print(series5)\n",
    "print()\n",
    "print(series5.max())"
   ]
  },
  {
   "cell_type": "code",
   "execution_count": 41,
   "id": "44b13bf7",
   "metadata": {},
   "outputs": [
    {
     "name": "stdout",
     "output_type": "stream",
     "text": [
      "17    85\n",
      "18    90\n",
      "19    95\n",
      "dtype: int32\n",
      "\n",
      "0    0\n",
      "1    5\n",
      "dtype: int32\n",
      "\n",
      "10    50\n",
      "dtype: int32\n"
     ]
    }
   ],
   "source": [
    "# Simple arithmetics on pandas (element wise)\n",
    "data = np.arange(0, 100,5)\n",
    "series6 = pd.Series(data)\n",
    "\n",
    "print(series6[series6>80])\n",
    "print()\n",
    "print(series6[series6<10])\n",
    "print()\n",
    "print(series6[series6==50])"
   ]
  },
  {
   "cell_type": "code",
   "execution_count": 42,
   "id": "2071eb1c",
   "metadata": {},
   "outputs": [
    {
     "name": "stdout",
     "output_type": "stream",
     "text": [
      "17    7225\n",
      "18    8100\n",
      "19    9025\n",
      "dtype: int32\n",
      "\n",
      "0     0\n",
      "1    25\n",
      "dtype: int32\n",
      "\n",
      "10    2500\n",
      "dtype: int32\n"
     ]
    }
   ],
   "source": [
    "print(series6[series6>80]**2)\n",
    "print()\n",
    "print(series6[series6<10]**2)\n",
    "print()\n",
    "print(series6[series6==50]**2)"
   ]
  },
  {
   "cell_type": "code",
   "execution_count": 43,
   "id": "7e0c3c67",
   "metadata": {},
   "outputs": [
    {
     "name": "stdout",
     "output_type": "stream",
     "text": [
      "17    185\n",
      "18    190\n",
      "19    195\n",
      "dtype: int32\n",
      "\n",
      "0    100\n",
      "1    105\n",
      "dtype: int32\n",
      "\n",
      "10    150\n",
      "dtype: int32\n"
     ]
    }
   ],
   "source": [
    "print(series6[series6>80]+100)\n",
    "print()\n",
    "print(series6[series6<10]+100)\n",
    "print()\n",
    "print(series6[series6==50]+100)"
   ]
  },
  {
   "cell_type": "code",
   "execution_count": 44,
   "id": "14b998a4",
   "metadata": {},
   "outputs": [
    {
     "name": "stdout",
     "output_type": "stream",
     "text": [
      "17    35\n",
      "18    40\n",
      "19    45\n",
      "dtype: int32\n",
      "\n",
      "0   -50\n",
      "1   -45\n",
      "dtype: int32\n",
      "\n",
      "10    0\n",
      "dtype: int32\n"
     ]
    }
   ],
   "source": [
    "print(series6[series6>80]-50)\n",
    "print()\n",
    "print(series6[series6<10]-50)\n",
    "print()\n",
    "print(series6[series6==50]-50)"
   ]
  },
  {
   "cell_type": "code",
   "execution_count": 45,
   "id": "42f1412a",
   "metadata": {},
   "outputs": [
    {
     "name": "stdout",
     "output_type": "stream",
     "text": [
      "17    8.5\n",
      "18    9.0\n",
      "19    9.5\n",
      "dtype: float64\n",
      "\n",
      "0    0.0\n",
      "1    0.5\n",
      "dtype: float64\n",
      "\n",
      "10    5.0\n",
      "dtype: float64\n"
     ]
    }
   ],
   "source": [
    "print(series6[series6>80]/10)\n",
    "print()\n",
    "print(series6[series6<10]/10)\n",
    "print()\n",
    "print(series6[series6==50]/10)"
   ]
  },
  {
   "cell_type": "code",
   "execution_count": 46,
   "id": "e60f6371",
   "metadata": {},
   "outputs": [
    {
     "data": {
      "text/plain": [
       "950"
      ]
     },
     "execution_count": 46,
     "metadata": {},
     "output_type": "execute_result"
    }
   ],
   "source": [
    "np.sum(data)"
   ]
  },
  {
   "cell_type": "code",
   "execution_count": 51,
   "id": "b98dab39",
   "metadata": {},
   "outputs": [
    {
     "name": "stdout",
     "output_type": "stream",
     "text": [
      "False\n",
      "True\n"
     ]
    }
   ],
   "source": [
    "# Check an element is available in a series using \"in\"\n",
    "\n",
    "print(100 in series6)\n",
    "print(10 in series6)"
   ]
  },
  {
   "cell_type": "code",
   "execution_count": null,
   "id": "f2513f93",
   "metadata": {},
   "outputs": [],
   "source": []
  }
 ],
 "metadata": {
  "kernelspec": {
   "display_name": "Python 3 (ipykernel)",
   "language": "python",
   "name": "python3"
  },
  "language_info": {
   "codemirror_mode": {
    "name": "ipython",
    "version": 3
   },
   "file_extension": ".py",
   "mimetype": "text/x-python",
   "name": "python",
   "nbconvert_exporter": "python",
   "pygments_lexer": "ipython3",
   "version": "3.9.0"
  }
 },
 "nbformat": 4,
 "nbformat_minor": 5
}
