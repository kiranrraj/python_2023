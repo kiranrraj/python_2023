{
 "cells": [
  {
   "cell_type": "code",
   "execution_count": 1,
   "id": "032a2fbf",
   "metadata": {},
   "outputs": [],
   "source": [
    "import numpy as np\n",
    "import pandas as pd"
   ]
  },
  {
   "cell_type": "code",
   "execution_count": 2,
   "id": "f5c54292",
   "metadata": {},
   "outputs": [],
   "source": [
    "car_df = pd.read_csv('Electric_Vehicle_Population_Data.csv')"
   ]
  },
  {
   "cell_type": "code",
   "execution_count": 3,
   "id": "5e0292f2",
   "metadata": {},
   "outputs": [
    {
     "data": {
      "text/plain": [
       "138779"
      ]
     },
     "execution_count": 3,
     "metadata": {},
     "output_type": "execute_result"
    }
   ],
   "source": [
    "len(car_df)"
   ]
  },
  {
   "cell_type": "code",
   "execution_count": 4,
   "id": "0cc6d66d",
   "metadata": {},
   "outputs": [
    {
     "data": {
      "text/html": [
       "<div>\n",
       "<style scoped>\n",
       "    .dataframe tbody tr th:only-of-type {\n",
       "        vertical-align: middle;\n",
       "    }\n",
       "\n",
       "    .dataframe tbody tr th {\n",
       "        vertical-align: top;\n",
       "    }\n",
       "\n",
       "    .dataframe thead th {\n",
       "        text-align: right;\n",
       "    }\n",
       "</style>\n",
       "<table border=\"1\" class=\"dataframe\">\n",
       "  <thead>\n",
       "    <tr style=\"text-align: right;\">\n",
       "      <th></th>\n",
       "      <th>VIN (1-10)</th>\n",
       "      <th>County</th>\n",
       "      <th>City</th>\n",
       "      <th>State</th>\n",
       "      <th>Postal Code</th>\n",
       "      <th>Model Year</th>\n",
       "      <th>Make</th>\n",
       "      <th>Model</th>\n",
       "      <th>Electric Vehicle Type</th>\n",
       "      <th>Clean Alternative Fuel Vehicle (CAFV) Eligibility</th>\n",
       "      <th>Electric Range</th>\n",
       "      <th>Base MSRP</th>\n",
       "      <th>Legislative District</th>\n",
       "      <th>DOL Vehicle ID</th>\n",
       "      <th>Vehicle Location</th>\n",
       "      <th>Electric Utility</th>\n",
       "      <th>2020 Census Tract</th>\n",
       "    </tr>\n",
       "  </thead>\n",
       "  <tbody>\n",
       "    <tr>\n",
       "      <th>0</th>\n",
       "      <td>1N4AZ0CP5D</td>\n",
       "      <td>Kitsap</td>\n",
       "      <td>Bremerton</td>\n",
       "      <td>WA</td>\n",
       "      <td>98310.0</td>\n",
       "      <td>2013</td>\n",
       "      <td>NISSAN</td>\n",
       "      <td>LEAF</td>\n",
       "      <td>Battery Electric Vehicle (BEV)</td>\n",
       "      <td>Clean Alternative Fuel Vehicle Eligible</td>\n",
       "      <td>75</td>\n",
       "      <td>0</td>\n",
       "      <td>23.0</td>\n",
       "      <td>214384901</td>\n",
       "      <td>POINT (-122.61136499999998 47.575195000000065)</td>\n",
       "      <td>PUGET SOUND ENERGY INC</td>\n",
       "      <td>5.303508e+10</td>\n",
       "    </tr>\n",
       "    <tr>\n",
       "      <th>1</th>\n",
       "      <td>1N4AZ1CP8K</td>\n",
       "      <td>Kitsap</td>\n",
       "      <td>Port Orchard</td>\n",
       "      <td>WA</td>\n",
       "      <td>98366.0</td>\n",
       "      <td>2019</td>\n",
       "      <td>NISSAN</td>\n",
       "      <td>LEAF</td>\n",
       "      <td>Battery Electric Vehicle (BEV)</td>\n",
       "      <td>Clean Alternative Fuel Vehicle Eligible</td>\n",
       "      <td>150</td>\n",
       "      <td>0</td>\n",
       "      <td>26.0</td>\n",
       "      <td>271008636</td>\n",
       "      <td>POINT (-122.63926499999997 47.53730000000007)</td>\n",
       "      <td>PUGET SOUND ENERGY INC</td>\n",
       "      <td>5.303509e+10</td>\n",
       "    </tr>\n",
       "    <tr>\n",
       "      <th>2</th>\n",
       "      <td>5YJXCAE28L</td>\n",
       "      <td>King</td>\n",
       "      <td>Seattle</td>\n",
       "      <td>WA</td>\n",
       "      <td>98199.0</td>\n",
       "      <td>2020</td>\n",
       "      <td>TESLA</td>\n",
       "      <td>MODEL X</td>\n",
       "      <td>Battery Electric Vehicle (BEV)</td>\n",
       "      <td>Clean Alternative Fuel Vehicle Eligible</td>\n",
       "      <td>293</td>\n",
       "      <td>0</td>\n",
       "      <td>36.0</td>\n",
       "      <td>8781552</td>\n",
       "      <td>POINT (-122.394185 47.63919500000003)</td>\n",
       "      <td>CITY OF SEATTLE - (WA)|CITY OF TACOMA - (WA)</td>\n",
       "      <td>5.303301e+10</td>\n",
       "    </tr>\n",
       "    <tr>\n",
       "      <th>3</th>\n",
       "      <td>SADHC2S1XK</td>\n",
       "      <td>Thurston</td>\n",
       "      <td>Olympia</td>\n",
       "      <td>WA</td>\n",
       "      <td>98503.0</td>\n",
       "      <td>2019</td>\n",
       "      <td>JAGUAR</td>\n",
       "      <td>I-PACE</td>\n",
       "      <td>Battery Electric Vehicle (BEV)</td>\n",
       "      <td>Clean Alternative Fuel Vehicle Eligible</td>\n",
       "      <td>234</td>\n",
       "      <td>0</td>\n",
       "      <td>2.0</td>\n",
       "      <td>8308492</td>\n",
       "      <td>POINT (-122.8285 47.03646)</td>\n",
       "      <td>PUGET SOUND ENERGY INC</td>\n",
       "      <td>5.306701e+10</td>\n",
       "    </tr>\n",
       "    <tr>\n",
       "      <th>4</th>\n",
       "      <td>JN1AZ0CP9B</td>\n",
       "      <td>Snohomish</td>\n",
       "      <td>Everett</td>\n",
       "      <td>WA</td>\n",
       "      <td>98204.0</td>\n",
       "      <td>2011</td>\n",
       "      <td>NISSAN</td>\n",
       "      <td>LEAF</td>\n",
       "      <td>Battery Electric Vehicle (BEV)</td>\n",
       "      <td>Clean Alternative Fuel Vehicle Eligible</td>\n",
       "      <td>73</td>\n",
       "      <td>0</td>\n",
       "      <td>21.0</td>\n",
       "      <td>245524527</td>\n",
       "      <td>POINT (-122.24128499999995 47.91088000000008)</td>\n",
       "      <td>PUGET SOUND ENERGY INC</td>\n",
       "      <td>5.306104e+10</td>\n",
       "    </tr>\n",
       "  </tbody>\n",
       "</table>\n",
       "</div>"
      ],
      "text/plain": [
       "   VIN (1-10)     County          City State  Postal Code  Model Year    Make   \n",
       "0  1N4AZ0CP5D     Kitsap     Bremerton    WA      98310.0        2013  NISSAN  \\\n",
       "1  1N4AZ1CP8K     Kitsap  Port Orchard    WA      98366.0        2019  NISSAN   \n",
       "2  5YJXCAE28L       King       Seattle    WA      98199.0        2020   TESLA   \n",
       "3  SADHC2S1XK   Thurston       Olympia    WA      98503.0        2019  JAGUAR   \n",
       "4  JN1AZ0CP9B  Snohomish       Everett    WA      98204.0        2011  NISSAN   \n",
       "\n",
       "     Model           Electric Vehicle Type   \n",
       "0     LEAF  Battery Electric Vehicle (BEV)  \\\n",
       "1     LEAF  Battery Electric Vehicle (BEV)   \n",
       "2  MODEL X  Battery Electric Vehicle (BEV)   \n",
       "3   I-PACE  Battery Electric Vehicle (BEV)   \n",
       "4     LEAF  Battery Electric Vehicle (BEV)   \n",
       "\n",
       "  Clean Alternative Fuel Vehicle (CAFV) Eligibility  Electric Range   \n",
       "0           Clean Alternative Fuel Vehicle Eligible              75  \\\n",
       "1           Clean Alternative Fuel Vehicle Eligible             150   \n",
       "2           Clean Alternative Fuel Vehicle Eligible             293   \n",
       "3           Clean Alternative Fuel Vehicle Eligible             234   \n",
       "4           Clean Alternative Fuel Vehicle Eligible              73   \n",
       "\n",
       "   Base MSRP  Legislative District  DOL Vehicle ID   \n",
       "0          0                  23.0       214384901  \\\n",
       "1          0                  26.0       271008636   \n",
       "2          0                  36.0         8781552   \n",
       "3          0                   2.0         8308492   \n",
       "4          0                  21.0       245524527   \n",
       "\n",
       "                                 Vehicle Location   \n",
       "0  POINT (-122.61136499999998 47.575195000000065)  \\\n",
       "1   POINT (-122.63926499999997 47.53730000000007)   \n",
       "2           POINT (-122.394185 47.63919500000003)   \n",
       "3                      POINT (-122.8285 47.03646)   \n",
       "4   POINT (-122.24128499999995 47.91088000000008)   \n",
       "\n",
       "                               Electric Utility  2020 Census Tract  \n",
       "0                        PUGET SOUND ENERGY INC       5.303508e+10  \n",
       "1                        PUGET SOUND ENERGY INC       5.303509e+10  \n",
       "2  CITY OF SEATTLE - (WA)|CITY OF TACOMA - (WA)       5.303301e+10  \n",
       "3                        PUGET SOUND ENERGY INC       5.306701e+10  \n",
       "4                        PUGET SOUND ENERGY INC       5.306104e+10  "
      ]
     },
     "execution_count": 4,
     "metadata": {},
     "output_type": "execute_result"
    }
   ],
   "source": [
    "car_df.head()"
   ]
  },
  {
   "cell_type": "code",
   "execution_count": 5,
   "id": "a12e8687",
   "metadata": {},
   "outputs": [
    {
     "data": {
      "text/html": [
       "<div>\n",
       "<style scoped>\n",
       "    .dataframe tbody tr th:only-of-type {\n",
       "        vertical-align: middle;\n",
       "    }\n",
       "\n",
       "    .dataframe tbody tr th {\n",
       "        vertical-align: top;\n",
       "    }\n",
       "\n",
       "    .dataframe thead th {\n",
       "        text-align: right;\n",
       "    }\n",
       "</style>\n",
       "<table border=\"1\" class=\"dataframe\">\n",
       "  <thead>\n",
       "    <tr style=\"text-align: right;\">\n",
       "      <th></th>\n",
       "      <th>VIN (1-10)</th>\n",
       "      <th>County</th>\n",
       "      <th>City</th>\n",
       "      <th>State</th>\n",
       "      <th>Postal Code</th>\n",
       "      <th>Model Year</th>\n",
       "      <th>Make</th>\n",
       "      <th>Model</th>\n",
       "      <th>Electric Vehicle Type</th>\n",
       "      <th>Clean Alternative Fuel Vehicle (CAFV) Eligibility</th>\n",
       "      <th>Electric Range</th>\n",
       "      <th>Base MSRP</th>\n",
       "      <th>Legislative District</th>\n",
       "      <th>DOL Vehicle ID</th>\n",
       "      <th>Vehicle Location</th>\n",
       "      <th>Electric Utility</th>\n",
       "      <th>2020 Census Tract</th>\n",
       "    </tr>\n",
       "  </thead>\n",
       "  <tbody>\n",
       "    <tr>\n",
       "      <th>138774</th>\n",
       "      <td>KNAGV4LD6L</td>\n",
       "      <td>Clark</td>\n",
       "      <td>Vancouver</td>\n",
       "      <td>WA</td>\n",
       "      <td>98686.0</td>\n",
       "      <td>2020</td>\n",
       "      <td>KIA</td>\n",
       "      <td>OPTIMA</td>\n",
       "      <td>Plug-in Hybrid Electric Vehicle (PHEV)</td>\n",
       "      <td>Not eligible due to low battery range</td>\n",
       "      <td>28</td>\n",
       "      <td>0</td>\n",
       "      <td>17.0</td>\n",
       "      <td>122272881</td>\n",
       "      <td>POINT (-122.64839529999995 45.70104270000007)</td>\n",
       "      <td>BONNEVILLE POWER ADMINISTRATION||PUD NO 1 OF C...</td>\n",
       "      <td>5.301104e+10</td>\n",
       "    </tr>\n",
       "    <tr>\n",
       "      <th>138775</th>\n",
       "      <td>7SAYGDEE1N</td>\n",
       "      <td>Thurston</td>\n",
       "      <td>Lacey</td>\n",
       "      <td>WA</td>\n",
       "      <td>98503.0</td>\n",
       "      <td>2022</td>\n",
       "      <td>TESLA</td>\n",
       "      <td>MODEL Y</td>\n",
       "      <td>Battery Electric Vehicle (BEV)</td>\n",
       "      <td>Eligibility unknown as battery range has not b...</td>\n",
       "      <td>0</td>\n",
       "      <td>0</td>\n",
       "      <td>22.0</td>\n",
       "      <td>187390038</td>\n",
       "      <td>POINT (-122.8285 47.03646)</td>\n",
       "      <td>PUGET SOUND ENERGY INC</td>\n",
       "      <td>5.306701e+10</td>\n",
       "    </tr>\n",
       "    <tr>\n",
       "      <th>138776</th>\n",
       "      <td>5YJYGDEE7M</td>\n",
       "      <td>Benton</td>\n",
       "      <td>Richland</td>\n",
       "      <td>WA</td>\n",
       "      <td>99352.0</td>\n",
       "      <td>2021</td>\n",
       "      <td>TESLA</td>\n",
       "      <td>MODEL Y</td>\n",
       "      <td>Battery Electric Vehicle (BEV)</td>\n",
       "      <td>Eligibility unknown as battery range has not b...</td>\n",
       "      <td>0</td>\n",
       "      <td>0</td>\n",
       "      <td>8.0</td>\n",
       "      <td>181300416</td>\n",
       "      <td>POINT (-119.29441499999996 46.27187500000008)</td>\n",
       "      <td>BONNEVILLE POWER ADMINISTRATION||CITY OF RICHL...</td>\n",
       "      <td>5.300501e+10</td>\n",
       "    </tr>\n",
       "    <tr>\n",
       "      <th>138777</th>\n",
       "      <td>WBY33AW08P</td>\n",
       "      <td>Pierce</td>\n",
       "      <td>Tacoma</td>\n",
       "      <td>WA</td>\n",
       "      <td>98443.0</td>\n",
       "      <td>2023</td>\n",
       "      <td>BMW</td>\n",
       "      <td>I4</td>\n",
       "      <td>Battery Electric Vehicle (BEV)</td>\n",
       "      <td>Eligibility unknown as battery range has not b...</td>\n",
       "      <td>0</td>\n",
       "      <td>0</td>\n",
       "      <td>25.0</td>\n",
       "      <td>224612055</td>\n",
       "      <td>POINT (-122.36463499999996 47.19449000000003)</td>\n",
       "      <td>BONNEVILLE POWER ADMINISTRATION||CITY OF TACOM...</td>\n",
       "      <td>5.305394e+10</td>\n",
       "    </tr>\n",
       "    <tr>\n",
       "      <th>138778</th>\n",
       "      <td>JN1AZ0CP2B</td>\n",
       "      <td>King</td>\n",
       "      <td>Seattle</td>\n",
       "      <td>WA</td>\n",
       "      <td>98118.0</td>\n",
       "      <td>2011</td>\n",
       "      <td>NISSAN</td>\n",
       "      <td>LEAF</td>\n",
       "      <td>Battery Electric Vehicle (BEV)</td>\n",
       "      <td>Clean Alternative Fuel Vehicle Eligible</td>\n",
       "      <td>73</td>\n",
       "      <td>0</td>\n",
       "      <td>37.0</td>\n",
       "      <td>246621546</td>\n",
       "      <td>POINT (-122.28338999999994 47.549285000000054)</td>\n",
       "      <td>CITY OF SEATTLE - (WA)|CITY OF TACOMA - (WA)</td>\n",
       "      <td>5.303301e+10</td>\n",
       "    </tr>\n",
       "  </tbody>\n",
       "</table>\n",
       "</div>"
      ],
      "text/plain": [
       "        VIN (1-10)    County       City State  Postal Code  Model Year   \n",
       "138774  KNAGV4LD6L     Clark  Vancouver    WA      98686.0        2020  \\\n",
       "138775  7SAYGDEE1N  Thurston      Lacey    WA      98503.0        2022   \n",
       "138776  5YJYGDEE7M    Benton   Richland    WA      99352.0        2021   \n",
       "138777  WBY33AW08P    Pierce     Tacoma    WA      98443.0        2023   \n",
       "138778  JN1AZ0CP2B      King    Seattle    WA      98118.0        2011   \n",
       "\n",
       "          Make    Model                   Electric Vehicle Type   \n",
       "138774     KIA   OPTIMA  Plug-in Hybrid Electric Vehicle (PHEV)  \\\n",
       "138775   TESLA  MODEL Y          Battery Electric Vehicle (BEV)   \n",
       "138776   TESLA  MODEL Y          Battery Electric Vehicle (BEV)   \n",
       "138777     BMW       I4          Battery Electric Vehicle (BEV)   \n",
       "138778  NISSAN     LEAF          Battery Electric Vehicle (BEV)   \n",
       "\n",
       "        Clean Alternative Fuel Vehicle (CAFV) Eligibility  Electric Range   \n",
       "138774              Not eligible due to low battery range              28  \\\n",
       "138775  Eligibility unknown as battery range has not b...               0   \n",
       "138776  Eligibility unknown as battery range has not b...               0   \n",
       "138777  Eligibility unknown as battery range has not b...               0   \n",
       "138778            Clean Alternative Fuel Vehicle Eligible              73   \n",
       "\n",
       "        Base MSRP  Legislative District  DOL Vehicle ID   \n",
       "138774          0                  17.0       122272881  \\\n",
       "138775          0                  22.0       187390038   \n",
       "138776          0                   8.0       181300416   \n",
       "138777          0                  25.0       224612055   \n",
       "138778          0                  37.0       246621546   \n",
       "\n",
       "                                      Vehicle Location   \n",
       "138774   POINT (-122.64839529999995 45.70104270000007)  \\\n",
       "138775                      POINT (-122.8285 47.03646)   \n",
       "138776   POINT (-119.29441499999996 46.27187500000008)   \n",
       "138777   POINT (-122.36463499999996 47.19449000000003)   \n",
       "138778  POINT (-122.28338999999994 47.549285000000054)   \n",
       "\n",
       "                                         Electric Utility  2020 Census Tract  \n",
       "138774  BONNEVILLE POWER ADMINISTRATION||PUD NO 1 OF C...       5.301104e+10  \n",
       "138775                             PUGET SOUND ENERGY INC       5.306701e+10  \n",
       "138776  BONNEVILLE POWER ADMINISTRATION||CITY OF RICHL...       5.300501e+10  \n",
       "138777  BONNEVILLE POWER ADMINISTRATION||CITY OF TACOM...       5.305394e+10  \n",
       "138778       CITY OF SEATTLE - (WA)|CITY OF TACOMA - (WA)       5.303301e+10  "
      ]
     },
     "execution_count": 5,
     "metadata": {},
     "output_type": "execute_result"
    }
   ],
   "source": [
    "car_df.tail()"
   ]
  },
  {
   "cell_type": "code",
   "execution_count": 6,
   "id": "151505c3",
   "metadata": {},
   "outputs": [
    {
     "data": {
      "text/plain": [
       "(138779, 17)"
      ]
     },
     "execution_count": 6,
     "metadata": {},
     "output_type": "execute_result"
    }
   ],
   "source": [
    "car_df.shape"
   ]
  },
  {
   "cell_type": "code",
   "execution_count": 7,
   "id": "46a77d92",
   "metadata": {},
   "outputs": [
    {
     "data": {
      "text/plain": [
       "Index(['VIN (1-10)', 'County', 'City', 'State', 'Postal Code', 'Model Year',\n",
       "       'Make', 'Model', 'Electric Vehicle Type',\n",
       "       'Clean Alternative Fuel Vehicle (CAFV) Eligibility', 'Electric Range',\n",
       "       'Base MSRP', 'Legislative District', 'DOL Vehicle ID',\n",
       "       'Vehicle Location', 'Electric Utility', '2020 Census Tract'],\n",
       "      dtype='object')"
      ]
     },
     "execution_count": 7,
     "metadata": {},
     "output_type": "execute_result"
    }
   ],
   "source": [
    "car_df.columns"
   ]
  },
  {
   "cell_type": "code",
   "execution_count": 8,
   "id": "992fc742",
   "metadata": {},
   "outputs": [
    {
     "data": {
      "text/plain": [
       "pandas.core.frame.DataFrame"
      ]
     },
     "execution_count": 8,
     "metadata": {},
     "output_type": "execute_result"
    }
   ],
   "source": [
    "type(car_df)"
   ]
  },
  {
   "cell_type": "code",
   "execution_count": 9,
   "id": "dfc5e8bf",
   "metadata": {},
   "outputs": [
    {
     "name": "stdout",
     "output_type": "stream",
     "text": [
      "<class 'pandas.core.frame.DataFrame'>\n",
      "RangeIndex: 138779 entries, 0 to 138778\n",
      "Data columns (total 17 columns):\n",
      " #   Column                                             Non-Null Count   Dtype  \n",
      "---  ------                                             --------------   -----  \n",
      " 0   VIN (1-10)                                         138779 non-null  object \n",
      " 1   County                                             138776 non-null  object \n",
      " 2   City                                               138776 non-null  object \n",
      " 3   State                                              138779 non-null  object \n",
      " 4   Postal Code                                        138776 non-null  float64\n",
      " 5   Model Year                                         138779 non-null  int64  \n",
      " 6   Make                                               138779 non-null  object \n",
      " 7   Model                                              138493 non-null  object \n",
      " 8   Electric Vehicle Type                              138779 non-null  object \n",
      " 9   Clean Alternative Fuel Vehicle (CAFV) Eligibility  138779 non-null  object \n",
      " 10  Electric Range                                     138779 non-null  int64  \n",
      " 11  Base MSRP                                          138779 non-null  int64  \n",
      " 12  Legislative District                               138464 non-null  float64\n",
      " 13  DOL Vehicle ID                                     138779 non-null  int64  \n",
      " 14  Vehicle Location                                   138773 non-null  object \n",
      " 15  Electric Utility                                   138776 non-null  object \n",
      " 16  2020 Census Tract                                  138776 non-null  float64\n",
      "dtypes: float64(3), int64(4), object(10)\n",
      "memory usage: 18.0+ MB\n"
     ]
    }
   ],
   "source": [
    "car_df.info()"
   ]
  },
  {
   "cell_type": "code",
   "execution_count": 11,
   "id": "895697e8",
   "metadata": {},
   "outputs": [
    {
     "data": {
      "text/plain": [
       "138779"
      ]
     },
     "execution_count": 11,
     "metadata": {},
     "output_type": "execute_result"
    }
   ],
   "source": [
    "car_df['Model Year'].count()"
   ]
  },
  {
   "cell_type": "code",
   "execution_count": 13,
   "id": "c7fba419",
   "metadata": {},
   "outputs": [
    {
     "data": {
      "text/plain": [
       "[1997,\n",
       " 1998,\n",
       " 1999,\n",
       " 2000,\n",
       " 2002,\n",
       " 2003,\n",
       " 2008,\n",
       " 2010,\n",
       " 2011,\n",
       " 2012,\n",
       " 2013,\n",
       " 2014,\n",
       " 2015,\n",
       " 2016,\n",
       " 2017,\n",
       " 2018,\n",
       " 2019,\n",
       " 2020,\n",
       " 2021,\n",
       " 2022,\n",
       " 2023,\n",
       " 2024]"
      ]
     },
     "execution_count": 13,
     "metadata": {},
     "output_type": "execute_result"
    }
   ],
   "source": [
    "set(car_df['Model Year'])"
   ]
  },
  {
   "cell_type": "code",
   "execution_count": 16,
   "id": "c82f7040",
   "metadata": {},
   "outputs": [
    {
     "data": {
      "text/plain": [
       "22"
      ]
     },
     "execution_count": 16,
     "metadata": {},
     "output_type": "execute_result"
    }
   ],
   "source": [
    "len(set(car_df['Model Year']))"
   ]
  },
  {
   "cell_type": "code",
   "execution_count": null,
   "id": "0a7bad09",
   "metadata": {},
   "outputs": [],
   "source": []
  }
 ],
 "metadata": {
  "kernelspec": {
   "display_name": "Python 3 (ipykernel)",
   "language": "python",
   "name": "python3"
  },
  "language_info": {
   "codemirror_mode": {
    "name": "ipython",
    "version": 3
   },
   "file_extension": ".py",
   "mimetype": "text/x-python",
   "name": "python",
   "nbconvert_exporter": "python",
   "pygments_lexer": "ipython3",
   "version": "3.9.0"
  }
 },
 "nbformat": 4,
 "nbformat_minor": 5
}
