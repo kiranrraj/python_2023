{
 "cells": [
  {
   "cell_type": "markdown",
   "id": "b44bfcfb",
   "metadata": {},
   "source": [
    "# Python List "
   ]
  },
  {
   "cell_type": "code",
   "execution_count": 1,
   "id": "78b02922",
   "metadata": {},
   "outputs": [
    {
     "name": "stdout",
     "output_type": "stream",
     "text": [
      "[1, 2, 3, 'Str', None, (1, 2)]\n"
     ]
    }
   ],
   "source": [
    "# List are variable length.\n",
    "# List can be modified.\n",
    "\n",
    "list1= [1, 2, 3, \"Str\", None, (1,2)]\n",
    "print(list1)"
   ]
  },
  {
   "cell_type": "code",
   "execution_count": 2,
   "id": "739ecd69",
   "metadata": {},
   "outputs": [
    {
     "name": "stdout",
     "output_type": "stream",
     "text": [
      "List: [1, 2, 3, 'Str', None, (1, 2)]\n",
      "First element in list: 1\n",
      "Last element in list: (1, 2)\n"
     ]
    }
   ],
   "source": [
    "# Access list\n",
    "\n",
    "list1= [1, 2, 3, \"Str\", None, (1,2)]\n",
    "print(\"List:\", list1)\n",
    "print(\"First element in list:\",list1[0])\n",
    "print(\"Last element in list:\", list1[-1])"
   ]
  },
  {
   "cell_type": "code",
   "execution_count": 25,
   "id": "8e14e78e",
   "metadata": {},
   "outputs": [
    {
     "name": "stdout",
     "output_type": "stream",
     "text": [
      "List: [1, 2, 3, 'Str', None, (1, 2)]\n",
      "Length of list 6\n"
     ]
    }
   ],
   "source": [
    "# Find length of the list\n",
    "\n",
    "list1= [1, 2, 3, \"Str\", None, (1,2)]\n",
    "print(\"List:\", list1)\n",
    "print(\"Length of list\", len(list1))"
   ]
  },
  {
   "cell_type": "code",
   "execution_count": 27,
   "id": "1ea58191",
   "metadata": {},
   "outputs": [
    {
     "name": "stdout",
     "output_type": "stream",
     "text": [
      "List ['aa', 'aa', 'bb', 'bb', 'cc', 'bb', 'cc', 'bb']\n",
      "Count of aa in the list 2\n",
      "Count of bb in the list 4\n"
     ]
    }
   ],
   "source": [
    "# Find count of a specific element in the list\n",
    "\n",
    "list1 = [\"aa\", \"aa\", \"bb\", \"bb\", \"cc\", \"bb\", \"cc\", \"bb\"]\n",
    "print(\"List\",list1)\n",
    "print(\"Count of aa in the list\", list1.count(\"aa\"))\n",
    "print(\"Count of bb in the list\", list1.count(\"bb\"))"
   ]
  },
  {
   "cell_type": "code",
   "execution_count": 3,
   "id": "4cb311f1",
   "metadata": {},
   "outputs": [
    {
     "name": "stdout",
     "output_type": "stream",
     "text": [
      "[10, 20, 30, 40, 5, 15, 25, 35]\n"
     ]
    }
   ],
   "source": [
    "# Concatinate two list using + operator\n",
    "\n",
    "list1 = [10, 20, 30, 40]\n",
    "list2 = [5, 15, 25, 35]\n",
    "list3 = list1 + list2\n",
    "print(list3)"
   ]
  },
  {
   "cell_type": "code",
   "execution_count": 4,
   "id": "0ef364c1",
   "metadata": {},
   "outputs": [
    {
     "name": "stdout",
     "output_type": "stream",
     "text": [
      "[10, 20, 30, 40, 5, 15, 25, 35]\n"
     ]
    }
   ],
   "source": [
    "# Extend an list using extend method\n",
    "\n",
    "list1 = [10, 20, 30, 40]\n",
    "list2 = [5, 15, 25, 35]\n",
    "list1.extend(list2)\n",
    "print(list1)"
   ]
  },
  {
   "cell_type": "code",
   "execution_count": 5,
   "id": "3616ceaa",
   "metadata": {},
   "outputs": [
    {
     "name": "stdout",
     "output_type": "stream",
     "text": [
      "[0, 10, 20, 30, 40, 50, 60, 70, 80, 90]\n",
      "[0, 10, 20, 30, 40, 50, 60, 70, 80, 90, 100]\n",
      "[0, 10, 20, 30, 40, 50, 60, 70, 80, 90, 100, 110]\n",
      "[0, 10, 20, 30, 40, 50, 60, 70, 80, 90, 100, 110, [120, 130]]\n"
     ]
    }
   ],
   "source": [
    "# Add elements into list --append method\n",
    "\n",
    "list1 = list(range(0, 100, 10))\n",
    "print(list1)\n",
    "\n",
    "list1.append(100)\n",
    "print(list1)\n",
    "list1.append(110)\n",
    "print(list1)\n",
    "list1.append([120, 130])\n",
    "print(list1)"
   ]
  },
  {
   "cell_type": "code",
   "execution_count": 6,
   "id": "0f9bb769",
   "metadata": {},
   "outputs": [
    {
     "name": "stdout",
     "output_type": "stream",
     "text": [
      "[0, 10, 20, 30, 40, 50, 60, 70, 80, 90]\n",
      "[100, 0, 10, 20, 30, 40, 50, 60, 70, 80, 90]\n",
      "[100, 0, 10, 20, 30, 110, 40, 50, 60, 70, 80, 90]\n",
      "[100, 0, 10, 20, 30, 110, 40, 50, [120, 130], 60, 70, 80, 90]\n"
     ]
    }
   ],
   "source": [
    "# Add elements into list --insert method\n",
    "\n",
    "list1 = list(range(0, 100, 10))\n",
    "print(list1)\n",
    "\n",
    "list1.insert(0, 100)\n",
    "print(list1)\n",
    "list1.insert(5, 110)\n",
    "print(list1)\n",
    "list1.insert(8, [120, 130])\n",
    "print(list1)"
   ]
  },
  {
   "cell_type": "code",
   "execution_count": 7,
   "id": "8ed23b39",
   "metadata": {},
   "outputs": [
    {
     "name": "stdout",
     "output_type": "stream",
     "text": [
      "[0, 10, 20, 30, 40, 50, 60, 70, 80, 90]\n",
      "\n",
      "[0, 10, 20, 30, 40, 50, 60, 70, 80]\n",
      "Element removed: 90\n",
      "\n",
      "[0, 10, 20, 30, 40, 50, 60, 70]\n",
      "Element removed: 80\n",
      "\n",
      "[10, 20, 10, 20, 40, 70]\n",
      "Element removed at position 5: 40\n",
      "\n",
      "[10, 20, 10, 20, 40, 40]\n",
      "Element removed at position -1: 70\n"
     ]
    }
   ],
   "source": [
    "# Remove elements from list --pop method\n",
    "\n",
    "list1 = list(range(0, 100, 10))\n",
    "print(list1)\n",
    "\n",
    "print()\n",
    "popElem = list1.pop()\n",
    "print(list1)\n",
    "print(\"Element removed:\", popElem)\n",
    "\n",
    "print()\n",
    "popElem = list1.pop()\n",
    "print(list1)\n",
    "print(\"Element removed:\", popElem)\n",
    "\n",
    "print()\n",
    "list1=[10, 20, 10, 20, 40, 40, 70]\n",
    "popElem = list1.pop(5)\n",
    "print(list1)\n",
    "print(\"Element removed at position 5:\", popElem)\n",
    "\n",
    "print()\n",
    "list1=[10, 20, 10, 20, 40, 40, 70]\n",
    "popElem = list1.pop(-1)\n",
    "print(list1)\n",
    "print(\"Element removed at position -1:\", popElem)"
   ]
  },
  {
   "cell_type": "code",
   "execution_count": 8,
   "id": "f0433e88",
   "metadata": {},
   "outputs": [
    {
     "name": "stdout",
     "output_type": "stream",
     "text": [
      "['aa', 'a1', 'b1', 'bb']\n",
      "List after list.remove('bb'): ['aa', 'a1', 'b1']\n",
      "\n",
      "['aa', 'aa', 'bb', 'bb']\n",
      "List after list.remove('bb'): ['aa', 'aa', 'bb']\n",
      "\n",
      "[0, 10, 20, 30, 40, 50, 60, 70, 80, 90]\n",
      "List after list.remove(50): [0, 10, 20, 30, 40, 60, 70, 80, 90]\n"
     ]
    }
   ],
   "source": [
    "# Remove elements from list --remove method\n",
    "\n",
    "list1 = [\"aa\", \"a1\", \"b1\", \"bb\"]\n",
    "print(list1)\n",
    "\n",
    "popElem = list1.remove(\"bb\")\n",
    "print(\"List after list.remove('bb'):\",list1)\n",
    "print()\n",
    "\n",
    "# Removes only the first occurance of the element 'bb'\n",
    "list1 = [\"aa\", \"aa\", \"bb\", \"bb\"]\n",
    "print(list1)\n",
    "popElem = list1.remove(\"bb\")\n",
    "print(\"List after list.remove('bb'):\",list1)\n",
    "\n",
    "print()\n",
    "list1 = list(range(0, 100, 10))\n",
    "print(list1)\n",
    "popElem = list1.remove(50)\n",
    "print(\"List after list.remove(50):\",list1)"
   ]
  },
  {
   "cell_type": "code",
   "execution_count": 24,
   "id": "7412a1ce",
   "metadata": {},
   "outputs": [
    {
     "name": "stdout",
     "output_type": "stream",
     "text": [
      "List: ['aa', 'a1', 'b1', 'bb']\n",
      "List after clear method is called []\n"
     ]
    }
   ],
   "source": [
    "# Clear method in list\n",
    "\n",
    "list1 = [\"aa\", \"a1\", \"b1\", \"bb\"]\n",
    "print(\"List:\",list1)\n",
    "list1.clear()\n",
    "print(\"List after clear method is called\", list1)"
   ]
  },
  {
   "cell_type": "code",
   "execution_count": 9,
   "id": "5947b401",
   "metadata": {},
   "outputs": [
    {
     "name": "stdout",
     "output_type": "stream",
     "text": [
      "['aa', 'aa', 'bb', 'bb']\n",
      "Is 'aa' in list1 ?? True\n",
      "Is 'ab' in list1 ?? False\n"
     ]
    }
   ],
   "source": [
    "# Check element is in a list using \"in\"\n",
    "\n",
    "list1 = [\"aa\", \"aa\", \"bb\", \"bb\"]\n",
    "print(list1)\n",
    "print(\"Is 'aa' in list1 ??\",\"aa\" in list1)\n",
    "print(\"Is 'ab' in list1 ??\",\"ab\" in list1)"
   ]
  },
  {
   "cell_type": "code",
   "execution_count": 10,
   "id": "c731dc8b",
   "metadata": {},
   "outputs": [
    {
     "name": "stdout",
     "output_type": "stream",
     "text": [
      "[100, 20, 10, 20, 40, 40, 20, 90, 70]\n",
      "[100, 20, 10, 20]\n",
      "[10, 20, 40]\n",
      "[100, 20, 10, 20, 40, 40, 20, 90]\n"
     ]
    }
   ],
   "source": [
    "# Slice method [start:stop:step]\n",
    "\n",
    "list1=[100, 20, 10, 20, 40, 40, 20, 90, 70]\n",
    "print(list1)\n",
    "\n",
    "# Print elements from index 0 to index 3(stop index is exempted)\n",
    "print(list1[:4])\n",
    "\n",
    "# Print elements from index 2 to 4(stop index is exempted)\n",
    "print(list1[2:5])\n",
    "\n",
    "# Print all elements except last element\n",
    "print(list1[:-1])"
   ]
  },
  {
   "cell_type": "code",
   "execution_count": 11,
   "id": "a8282284",
   "metadata": {},
   "outputs": [
    {
     "name": "stdout",
     "output_type": "stream",
     "text": [
      "[100, 20, 10, 20, 50, 40, 80, 90, 70]\n",
      "[50, 40, 80, 90, 70]\n",
      "[40, 80, 90, 70]\n",
      "[20, 50]\n"
     ]
    }
   ],
   "source": [
    "# Slice method [start:stop:step]\n",
    "\n",
    "list1=[100, 20, 10, 20, 50, 40, 80, 90, 70]\n",
    "print(list1)\n",
    "# Print elements from index 4 till end of the list(stop index is exempted)\n",
    "print(list1[4:])\n",
    "\n",
    "# Print last four index value\n",
    "print(list1[-4:])\n",
    "\n",
    "# Print elements at index -6 and index -5 \n",
    "# (Negative means count from last, final element is -1)\n",
    "print(list1[-6:-4])"
   ]
  },
  {
   "cell_type": "code",
   "execution_count": 12,
   "id": "3820b5a0",
   "metadata": {},
   "outputs": [
    {
     "name": "stdout",
     "output_type": "stream",
     "text": [
      "[100, 110, 10, 20, 50, 40, 80, 90, 70]\n",
      "[100, 10, 50, 80, 70]\n",
      "[70, 90, 80, 40, 50, 20, 10, 110, 100]\n"
     ]
    }
   ],
   "source": [
    "# Slice method [start:stop:step]\n",
    "\n",
    "list1=[100, 110, 10, 20, 50, 40, 80, 90, 70]\n",
    "print(list1)\n",
    "print(list1[::2])\n",
    "\n",
    "print(list1[::-1])"
   ]
  },
  {
   "cell_type": "code",
   "execution_count": 13,
   "id": "90924c1a",
   "metadata": {},
   "outputs": [
    {
     "name": "stdout",
     "output_type": "stream",
     "text": [
      "Unsorted list [100, 20, 10, 20, 40, 40, 20, 90, 70]\n",
      "Sorted list [10, 20, 20, 20, 40, 40, 70, 90, 100]\n"
     ]
    }
   ],
   "source": [
    "# Sort list using sort method\n",
    "\n",
    "list1=[100, 20, 10, 20, 40, 40, 20, 90, 70]\n",
    "print(\"Unsorted list\", list1)\n",
    "list1.sort()\n",
    "print(\"Sorted list\",list1)"
   ]
  },
  {
   "cell_type": "code",
   "execution_count": 14,
   "id": "4c2b32fd",
   "metadata": {},
   "outputs": [
    {
     "name": "stdout",
     "output_type": "stream",
     "text": [
      "Unsorted list ['abcd', 'ab', 'abc', 'a', 'abcde', 'b']\n",
      "Sorted list ['a', 'b', 'ab', 'abc', 'abcd', 'abcde']\n"
     ]
    }
   ],
   "source": [
    "# Sort list using sort method\n",
    "\n",
    "list1 = [\"abcd\", \"ab\", \"abc\", \"a\", \"abcde\", \"b\"]\n",
    "print(\"Unsorted list\", list1)\n",
    "list1.sort(key=len)\n",
    "print(\"Sorted list\",list1)"
   ]
  },
  {
   "cell_type": "code",
   "execution_count": 15,
   "id": "7651989c",
   "metadata": {},
   "outputs": [
    {
     "name": "stdout",
     "output_type": "stream",
     "text": [
      "Unsorted list [100, 20, 10, 20, 40, 40, 20, 90, 70]\n",
      "Sorted list [10, 20, 20, 20, 40, 40, 70, 90, 100]\n"
     ]
    }
   ],
   "source": [
    "# Sort list using sorted method\n",
    "\n",
    "list1=[100, 20, 10, 20, 40, 40, 20, 90, 70]\n",
    "print(\"Unsorted list\", list1)\n",
    "list1 = sorted(list1)\n",
    "print(\"Sorted list\",list1)"
   ]
  },
  {
   "cell_type": "code",
   "execution_count": 16,
   "id": "ec1fabff",
   "metadata": {},
   "outputs": [
    {
     "name": "stdout",
     "output_type": "stream",
     "text": [
      "Unsorted list ['k', 'i', 'r', 'a', 'n']\n",
      "Sorted list ['a', 'i', 'k', 'n', 'r']\n"
     ]
    }
   ],
   "source": [
    "# Sort list using sorted method\n",
    "\n",
    "list1=list(\"kiran\")\n",
    "print(\"Unsorted list\", list1)\n",
    "list1 = sorted(list1)\n",
    "print(\"Sorted list\",list1)"
   ]
  },
  {
   "cell_type": "code",
   "execution_count": 17,
   "id": "a0e80a83",
   "metadata": {},
   "outputs": [
    {
     "name": "stdout",
     "output_type": "stream",
     "text": [
      "list [10, 20, 30, 40, 50, 60, 70, 80, 90]\n",
      "Reversed list [90, 80, 70, 60, 50, 40, 30, 20, 10]\n"
     ]
    }
   ],
   "source": [
    "# Reverse a list use reversed method\n",
    "\n",
    "list1=[10, 20, 30, 40, 50, 60, 70, 80, 90]\n",
    "print(\"list\", list1)\n",
    "list1 = list(reversed(list1))\n",
    "print(\"Reversed list\",list1)"
   ]
  },
  {
   "cell_type": "code",
   "execution_count": 18,
   "id": "de5cae5f",
   "metadata": {},
   "outputs": [
    {
     "name": "stdout",
     "output_type": "stream",
     "text": [
      "list [10, 20, 30, 40, 50, 60, 70, 80, 90]\n",
      "Reversed list [90, 80, 70, 60, 50, 40, 30, 20, 10]\n"
     ]
    }
   ],
   "source": [
    "# Reverse a list use reverse method\n",
    "\n",
    "list1=[10, 20, 30, 40, 50, 60, 70, 80, 90]\n",
    "print(\"list\", list1)\n",
    "list1.reverse()\n",
    "print(\"Reversed list\",list1)"
   ]
  },
  {
   "cell_type": "code",
   "execution_count": 19,
   "id": "8c4712fb",
   "metadata": {},
   "outputs": [
    {
     "name": "stdout",
     "output_type": "stream",
     "text": [
      "[100, 20, 10, 20, 40, 40, 20, 90, 70]\n",
      "Index:0. Value 100\n",
      "Index:1. Value 20\n",
      "Index:2. Value 10\n",
      "Index:3. Value 20\n",
      "Index:4. Value 40\n",
      "Index:5. Value 40\n",
      "Index:6. Value 20\n",
      "Index:7. Value 90\n",
      "Index:8. Value 70\n"
     ]
    }
   ],
   "source": [
    "# Enumerate\n",
    "list1=[100, 20, 10, 20, 40, 40, 20, 90, 70]\n",
    "print(list1)\n",
    "\n",
    "for index, value in enumerate(list1):\n",
    "    print(f\"Index:{index}. Value {value}\")\n"
   ]
  },
  {
   "cell_type": "code",
   "execution_count": 20,
   "id": "f55128c0",
   "metadata": {},
   "outputs": [
    {
     "name": "stdout",
     "output_type": "stream",
     "text": [
      "List 1 [1, 2, 3, 4, 5, 6, 7]\n",
      "List 2 [10, 20, 30, 40, 50, 60, 70]\n",
      "List 3 [(1, 10), (2, 20), (3, 30), (4, 40), (5, 50), (6, 60), (7, 70)]\n"
     ]
    }
   ],
   "source": [
    "# Zip function to create list of tuples from lists\n",
    "\n",
    "list1 = [1, 2, 3, 4, 5, 6, 7]\n",
    "list2 = [10, 20, 30, 40, 50, 60, 70]\n",
    "list3 = list(zip(list1, list2))\n",
    "print(\"List 1\", list1)\n",
    "print(\"List 2\", list2)\n",
    "print(\"List 3\", list3)"
   ]
  },
  {
   "cell_type": "code",
   "execution_count": 21,
   "id": "7dba54a0",
   "metadata": {},
   "outputs": [
    {
     "name": "stdout",
     "output_type": "stream",
     "text": [
      "List 1 [1, 2, 3, 4, 5, 6, 7]\n",
      "List 2 [10, 20, 30, 40, 50, 60, 70]\n",
      "List 3 [100, 200, 300, 400, 500, 600, 700]\n",
      "List 4 [(1, 10, 100), (2, 20, 200), (3, 30, 300), (4, 40, 400), (5, 50, 500), (6, 60, 600), (7, 70, 700)]\n"
     ]
    }
   ],
   "source": [
    "# Zip function to create list of tuples from lists\n",
    "\n",
    "list1 = [1, 2, 3, 4, 5, 6, 7]\n",
    "list2 = [10, 20, 30, 40, 50, 60, 70]\n",
    "list3 = [100, 200, 300, 400, 500, 600, 700]\n",
    "list4 = list(zip(list1, list2, list3))\n",
    "print(\"List 1\", list1)\n",
    "print(\"List 2\", list2)\n",
    "print(\"List 3\", list3)\n",
    "print(\"List 4\", list4)"
   ]
  },
  {
   "cell_type": "code",
   "execution_count": 22,
   "id": "2138e4f5",
   "metadata": {},
   "outputs": [
    {
     "name": "stdout",
     "output_type": "stream",
     "text": [
      "0 1 10\n",
      "1 2 20\n",
      "2 3 30\n",
      "3 4 40\n",
      "4 5 50\n",
      "5 6 60\n",
      "6 7 70\n"
     ]
    }
   ],
   "source": [
    "# Iterate over multiple list at same time.\n",
    "\n",
    "list1 = [1, 2, 3, 4, 5, 6, 7]\n",
    "list2 = [10, 20, 30, 40, 50, 60, 70]\n",
    "\n",
    "for i, (x,y) in enumerate(zip(list1, list2)):\n",
    "    print(i,x,y)"
   ]
  },
  {
   "cell_type": "code",
   "execution_count": null,
   "id": "e538d152",
   "metadata": {},
   "outputs": [],
   "source": []
  }
 ],
 "metadata": {
  "kernelspec": {
   "display_name": "Python 3 (ipykernel)",
   "language": "python",
   "name": "python3"
  },
  "language_info": {
   "codemirror_mode": {
    "name": "ipython",
    "version": 3
   },
   "file_extension": ".py",
   "mimetype": "text/x-python",
   "name": "python",
   "nbconvert_exporter": "python",
   "pygments_lexer": "ipython3",
   "version": "3.9.0"
  }
 },
 "nbformat": 4,
 "nbformat_minor": 5
}
