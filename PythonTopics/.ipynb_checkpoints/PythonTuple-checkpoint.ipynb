{
 "cells": [
  {
   "cell_type": "code",
   "execution_count": 1,
   "id": "5df8a285",
   "metadata": {},
   "outputs": [
    {
     "name": "stdout",
     "output_type": "stream",
     "text": [
      "(1, 2, 3)\n"
     ]
    }
   ],
   "source": [
    "# Simple tuple\n",
    "\n",
    "myTup = (1,2,3)\n",
    "print(myTup)"
   ]
  },
  {
   "cell_type": "code",
   "execution_count": 2,
   "id": "68ee4b92",
   "metadata": {},
   "outputs": [
    {
     "name": "stdout",
     "output_type": "stream",
     "text": [
      "((1, 2, 3), (4, 5, 6))\n"
     ]
    }
   ],
   "source": [
    "# Nested tuple\n",
    "\n",
    "nestedTup = ((1,2,3), (4,5,6))\n",
    "print(nestedTup)"
   ]
  },
  {
   "cell_type": "code",
   "execution_count": 3,
   "id": "9335eeb2",
   "metadata": {},
   "outputs": [
    {
     "name": "stdout",
     "output_type": "stream",
     "text": [
      "('t', 'u', 'p', 'l', 'e')\n"
     ]
    }
   ],
   "source": [
    "# Tuple for string\n",
    "\n",
    "strTup=tuple(\"tuple\")\n",
    "print(strTup)"
   ]
  },
  {
   "cell_type": "code",
   "execution_count": 4,
   "id": "0dc6ad78",
   "metadata": {},
   "outputs": [
    {
     "name": "stdout",
     "output_type": "stream",
     "text": [
      "('t', 'u', 'p', 'l', 'e')\n",
      "t\n"
     ]
    }
   ],
   "source": [
    "# Get elements from tuple\n",
    "\n",
    "strTup = tuple(\"tuple\")\n",
    "print(strTup)\n",
    "print(strTup[0])"
   ]
  },
  {
   "cell_type": "code",
   "execution_count": 5,
   "id": "4d661635",
   "metadata": {},
   "outputs": [
    {
     "name": "stdout",
     "output_type": "stream",
     "text": [
      "('t', 'u', 'p', 'l', 'e')\n"
     ]
    }
   ],
   "source": [
    "# Item assignment is not supported in tuple.\n",
    "\n",
    "strTup = tuple(\"tuple\")\n",
    "print(strTup)\n",
    "# strTup[0] = \"T\" TypeError: 'tuple' object does not support item assignment"
   ]
  },
  {
   "cell_type": "code",
   "execution_count": 6,
   "id": "43e2b17a",
   "metadata": {},
   "outputs": [
    {
     "name": "stdout",
     "output_type": "stream",
     "text": [
      "([1, 2, 3], 4, 5, 7)\n",
      "([1, 2, 3, 10], 4, 5, 7)\n"
     ]
    }
   ],
   "source": [
    "# Mutable object in the tuple can be modified.\n",
    "\n",
    "listTup = ([1,2,3], 4, 5, 7)\n",
    "print(listTup)\n",
    "\n",
    "listTup[0].append(10)\n",
    "print(listTup)"
   ]
  },
  {
   "cell_type": "code",
   "execution_count": 7,
   "id": "4eb9eb3e",
   "metadata": {},
   "outputs": [
    {
     "name": "stdout",
     "output_type": "stream",
     "text": [
      "(0, 9, 8, 7, 1, 2, 3, 4)\n"
     ]
    }
   ],
   "source": [
    "# Tuple concatination\n",
    "\n",
    "tup1 = (0, 9, 8, 7)\n",
    "tup2 = (1, 2, 3, 4)\n",
    "tup3 = tup1 + tup2\n",
    "print(tup3)"
   ]
  },
  {
   "cell_type": "code",
   "execution_count": 8,
   "id": "a8df2a13",
   "metadata": {},
   "outputs": [
    {
     "name": "stdout",
     "output_type": "stream",
     "text": [
      "(0, 9, 8, 7, 0, 9, 8, 7, 0, 9, 8, 7)\n"
     ]
    }
   ],
   "source": [
    "# Concatination using *\n",
    "\n",
    "tup1 = (0, 9, 8, 7)\n",
    "tup2 = tup1*3\n",
    "print(tup2)"
   ]
  },
  {
   "cell_type": "code",
   "execution_count": 9,
   "id": "c4250c9a",
   "metadata": {},
   "outputs": [
    {
     "name": "stdout",
     "output_type": "stream",
     "text": [
      "10 20 30 40\n"
     ]
    }
   ],
   "source": [
    "# Unpacking tuples\n",
    "\n",
    "tup1 = (10, 20, 30, 40)\n",
    "a,b,c,d = tup1\n",
    "print(a, b, c, d)"
   ]
  },
  {
   "cell_type": "code",
   "execution_count": 10,
   "id": "ffdb5f0a",
   "metadata": {},
   "outputs": [
    {
     "name": "stdout",
     "output_type": "stream",
     "text": [
      "30 40 50\n"
     ]
    }
   ],
   "source": [
    "# Unpacking tuples (Nested)\n",
    "\n",
    "tup1 = (10, 20, (30, 40, 50))\n",
    "a,b,(c,d,e) = tup1\n",
    "print(c, d, e)"
   ]
  },
  {
   "cell_type": "code",
   "execution_count": 11,
   "id": "4367ef62",
   "metadata": {},
   "outputs": [
    {
     "name": "stdout",
     "output_type": "stream",
     "text": [
      "[20, 30, 40, 50]\n",
      "20\n"
     ]
    }
   ],
   "source": [
    "# Unpacking multiple values into a single variable using *\n",
    "\n",
    "tup1 = (10, 20, 30, 40, 50)\n",
    "a,*rem = tup1\n",
    "print(rem)\n",
    "print(rem[0])"
   ]
  },
  {
   "cell_type": "code",
   "execution_count": 12,
   "id": "bc9e21a5",
   "metadata": {},
   "outputs": [
    {
     "name": "stdout",
     "output_type": "stream",
     "text": [
      "3\n"
     ]
    }
   ],
   "source": [
    "# The count() method returns the number of times a user specified element is in the tuple.\n",
    "\n",
    "tup1 = (10, 20, 10, 40, 10)\n",
    "print(tup1.count(10))"
   ]
  },
  {
   "cell_type": "code",
   "execution_count": 18,
   "id": "d55f9fdf",
   "metadata": {},
   "outputs": [
    {
     "name": "stdout",
     "output_type": "stream",
     "text": [
      "(10, 20, 30, 40, 50)\n",
      "Index of 30 is 3\n",
      "\n",
      "(10, 20, 10, 40, 10)\n",
      "Index of 10 is 0\n",
      "\n",
      "(10, 20, 10, 40, 10)\n",
      "Index of 10 is (with start index of 1) 2\n",
      "\n",
      "(10, 20, 10, 40, 10)\n",
      "Index of 10 is (with start index of 3) 4\n",
      "\n",
      "(10, 20, 10, 40, 50, 60, 10)\n",
      "10 not in tuple between index 3 and index 6\n"
     ]
    }
   ],
   "source": [
    "# Index method: index() method returns the first occurrence of the matching element\n",
    "# tuple.index(elem, startIndex, endIndex)\n",
    "# startIndex and endIndex are optional\n",
    "# ValueError exception is raised if the element is not in the tuple\n",
    "\n",
    "tup1 = (10, 20, 30, 40, 50)\n",
    "index = tup1.index(40)\n",
    "print(tup1)\n",
    "print(\"Index of 30 is\",index)\n",
    "\n",
    "print()\n",
    "\n",
    "tup1 = (10, 20, 10, 40, 10)\n",
    "print(tup1)\n",
    "index = tup1.index(10)\n",
    "print(\"Index of 10 is\",index)\n",
    "\n",
    "print()\n",
    "\n",
    "tup1 = (10, 20, 10, 40, 10)\n",
    "print(tup1)\n",
    "index = tup1.index(10, 1)\n",
    "print(\"Index of 10 is (with start index of 1)\",index)\n",
    "\n",
    "print()\n",
    "\n",
    "tup1 = (10, 20, 10, 40, 10)\n",
    "print(tup1)\n",
    "index = tup1.index(10, 3)\n",
    "print(\"Index of 10 is (with start index of 3)\",index)\n",
    "\n",
    "print()\n",
    "\n",
    "tup1 = (10, 20, 10, 40, 50, 60, 10)\n",
    "print(tup1)\n",
    "try:\n",
    "    index = tup1.index(10, 3, 6)\n",
    "    print(\"Index of 10 is (with start index of 3)\",index)\n",
    "except ValueError:\n",
    "    print(\"10 not in tuple between index 3 and index 6\")"
   ]
  },
  {
   "cell_type": "code",
   "execution_count": 25,
   "id": "085c2d0f",
   "metadata": {},
   "outputs": [
    {
     "name": "stdout",
     "output_type": "stream",
     "text": [
      "Tuple: (10, 20, 30, 40, 50, 60, 70)\n",
      "Largest number in the tup1 is 70\n",
      "Smallest number in the tup1 is 10\n",
      "Length of the tup1 is 7\n"
     ]
    }
   ],
   "source": [
    "# Find length, maximum and minimum value in the tuple\n",
    "\n",
    "tup1 = (10, 20, 30, 40, 50, 60, 70)\n",
    "print(\"Tuple:\",tup1)\n",
    "\n",
    "print(\"Largest number in the tup1 is\",max(tup1))\n",
    "\n",
    "print(\"Smallest number in the tup1 is\",min(tup1))\n",
    "\n",
    "print(\"Length of the tup1 is\",len(tup1))"
   ]
  },
  {
   "cell_type": "code",
   "execution_count": 34,
   "id": "348b9b14",
   "metadata": {},
   "outputs": [
    {
     "name": "stdout",
     "output_type": "stream",
     "text": [
      "Tuple: ('I', 'N', 'D', 'I', 'A')\n",
      "('A',)\n",
      "('I',)\n",
      "('D',)\n",
      "('N',)\n",
      "('I',)\n",
      "Reversed tuple ('A', 'I', 'D', 'N', 'I')\n"
     ]
    }
   ],
   "source": [
    "# Reverse a tuple\n",
    "\n",
    "def reverseTup(tup):\n",
    "    if len(tup) == 0:\n",
    "        return tup\n",
    "    else:\n",
    "        return (tup[-1],) + reverseTup(tup[:-1])\n",
    "    \n",
    "    \n",
    "tup = tuple(\"INDIA\")\n",
    "print(\"Tuple:\", tup)\n",
    "print(\"Reversed tuple\", reverseTup(tup))"
   ]
  },
  {
   "cell_type": "code",
   "execution_count": 35,
   "id": "bf61d46f",
   "metadata": {},
   "outputs": [
    {
     "name": "stdout",
     "output_type": "stream",
     "text": [
      "Tuple: ('I', 'N', 'D', 'I', 'A')\n",
      "Reverse the tuple ('A', 'I', 'D', 'N', 'I')\n"
     ]
    }
   ],
   "source": [
    "# Reverse a tuple\n",
    "\n",
    "tup = tuple(\"INDIA\")\n",
    "print(\"Tuple:\",tup)\n",
    "print(\"Reverse the tuple\",tup[::-1])"
   ]
  },
  {
   "cell_type": "code",
   "execution_count": 37,
   "id": "f247abb7",
   "metadata": {},
   "outputs": [
    {
     "name": "stdout",
     "output_type": "stream",
     "text": [
      "Tuple: ('I', 'N', 'D', 'I', 'A')\n",
      "Reverse the tuple ('A', 'I', 'D', 'N', 'I')\n"
     ]
    }
   ],
   "source": [
    "# Reverse a tuple\n",
    "\n",
    "tup = tuple(\"INDIA\")\n",
    "print(\"Tuple:\",tup)\n",
    "\n",
    "revtup=()\n",
    "for i in range(len(tup)-1, -1, -1):\n",
    "    revtup += (tup[i],)\n",
    "    \n",
    "print(\"Reverse the tuple\",revtup)"
   ]
  },
  {
   "cell_type": "code",
   "execution_count": 41,
   "id": "dd6b27ae",
   "metadata": {},
   "outputs": [
    {
     "name": "stdout",
     "output_type": "stream",
     "text": [
      "[(1,), (2,), (3, 4), (5, 6, 7), (8, 9, 10, 11)]\n"
     ]
    }
   ],
   "source": [
    "# Remove empty tuples from a list of tuples\n",
    "\n",
    "tupList = [(), (), (), (1,), (2,), (3,4), (5,6,7), (8,9,10,11)]\n",
    "\n",
    "def removeEmpty(listTup):\n",
    "    newTup = [tup for tup in listTup if len(tup) != 0]\n",
    "    return newTup\n",
    "\n",
    "print(removeEmpty(tupList))\n"
   ]
  },
  {
   "cell_type": "code",
   "execution_count": 44,
   "id": "78872177",
   "metadata": {},
   "outputs": [
    {
     "name": "stdout",
     "output_type": "stream",
     "text": [
      "((1,), (2,), (3, 4), (5, 6, 7), (8, 9, 10, 11))\n"
     ]
    }
   ],
   "source": [
    "# Remove empty tuples from a list of tuples\n",
    "\n",
    "tupList = [(), (), (), (1,), (2,), (3,4), (5,6,7), (8,9,10,11)]\n",
    "\n",
    "def removeEmpty(listTup):\n",
    "    newTup=()\n",
    "    for tup in listTup:\n",
    "        if len(tup)!=0:\n",
    "            newTup+=(tup,);\n",
    "    return newTup\n",
    "\n",
    "print(removeEmpty(tupList))"
   ]
  },
  {
   "cell_type": "code",
   "execution_count": 45,
   "id": "62b5b031",
   "metadata": {},
   "outputs": [
    {
     "name": "stdout",
     "output_type": "stream",
     "text": [
      "None\n"
     ]
    }
   ],
   "source": [
    "# Remove empty tuples from a list of tuples\n",
    "\n",
    "tupList = [(), (), (), (1,), (2,), (3,4), (5,6,7), (8,9,10,11)]\n",
    "\n",
    "def removeEmpty(listTup):\n",
    "    for tup in listTup:\n",
    "        if len(tup)==0:\n",
    "            listTup.remove(tup)\n",
    "    return listTup\n",
    "\n",
    "\n",
    "print(removeEmpty(tupList))"
   ]
  },
  {
   "cell_type": "code",
   "execution_count": null,
   "id": "e99c41d6",
   "metadata": {},
   "outputs": [],
   "source": []
  }
 ],
 "metadata": {
  "kernelspec": {
   "display_name": "Python 3 (ipykernel)",
   "language": "python",
   "name": "python3"
  },
  "language_info": {
   "codemirror_mode": {
    "name": "ipython",
    "version": 3
   },
   "file_extension": ".py",
   "mimetype": "text/x-python",
   "name": "python",
   "nbconvert_exporter": "python",
   "pygments_lexer": "ipython3",
   "version": "3.9.0"
  }
 },
 "nbformat": 4,
 "nbformat_minor": 5
}
