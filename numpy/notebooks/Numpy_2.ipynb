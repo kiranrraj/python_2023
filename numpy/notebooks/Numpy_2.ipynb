{
 "cells": [
  {
   "cell_type": "markdown",
   "id": "d885405f",
   "metadata": {},
   "source": [
    "\n",
    "# Numpy\n",
    "#### This notebook contains \n",
    "1. Basic array operations (addition, subtraction, multiplication, division...)\n",
    "2. Reshape\n",
    "3. Flatten\n",
    "4. Random\n",
    "5. Unique"
   ]
  },
  {
   "cell_type": "code",
   "execution_count": 1,
   "id": "a740fa22",
   "metadata": {},
   "outputs": [],
   "source": [
    "import numpy as np"
   ]
  },
  {
   "cell_type": "markdown",
   "id": "9a87f4f3",
   "metadata": {},
   "source": [
    "### Addition"
   ]
  },
  {
   "cell_type": "code",
   "execution_count": 2,
   "id": "3c6869c9",
   "metadata": {},
   "outputs": [
    {
     "name": "stdout",
     "output_type": "stream",
     "text": [
      "[ 27  43  81 127 150]\n"
     ]
    }
   ],
   "source": [
    "arr1 = np.array([15, 25, 15, 35, 50])\n",
    "arr2 = np.array([12, 18, 66, 92, 100])\n",
    "arr3 = arr1 + arr2\n",
    "print(arr3)"
   ]
  },
  {
   "cell_type": "code",
   "execution_count": 3,
   "id": "81d14f08",
   "metadata": {},
   "outputs": [
    {
     "name": "stdout",
     "output_type": "stream",
     "text": [
      "[40 50 40 60 75]\n"
     ]
    }
   ],
   "source": [
    "arr1 = np.array([15, 25, 15, 35, 50])\n",
    "arr2 = arr1 + 25\n",
    "print(arr2)"
   ]
  },
  {
   "cell_type": "code",
   "execution_count": 4,
   "id": "56c6f3f8",
   "metadata": {},
   "outputs": [
    {
     "name": "stdout",
     "output_type": "stream",
     "text": [
      "[[32 37 12]\n",
      " [20 25 93]]\n"
     ]
    }
   ],
   "source": [
    "arr1 = np.array([[11,32,3], [14,8,32]])\n",
    "arr2 = np.array([[21,5,9], [6,17,61]])\n",
    "arr3 = arr1 + arr2\n",
    "print(arr3)"
   ]
  },
  {
   "cell_type": "markdown",
   "id": "fc02b997",
   "metadata": {},
   "source": [
    "### Subtraction"
   ]
  },
  {
   "cell_type": "code",
   "execution_count": 5,
   "id": "99bae847",
   "metadata": {},
   "outputs": [
    {
     "name": "stdout",
     "output_type": "stream",
     "text": [
      "[  3   7 -51 -57 -50]\n"
     ]
    }
   ],
   "source": [
    "arr1 = np.array([15, 25, 15, 35, 50])\n",
    "arr2 = np.array([12, 18, 66, 92, 100])\n",
    "arr3 = arr1 - arr2\n",
    "print(arr3)"
   ]
  },
  {
   "cell_type": "code",
   "execution_count": 6,
   "id": "5ba4047b",
   "metadata": {},
   "outputs": [
    {
     "name": "stdout",
     "output_type": "stream",
     "text": [
      "[ 0 10  0 20 35]\n"
     ]
    }
   ],
   "source": [
    "arr1 = np.array([15, 25, 15, 35, 50])\n",
    "arr2 = arr1 - 15\n",
    "print(arr2)"
   ]
  },
  {
   "cell_type": "code",
   "execution_count": 7,
   "id": "851f98a5",
   "metadata": {},
   "outputs": [
    {
     "name": "stdout",
     "output_type": "stream",
     "text": [
      "[[-10  27  -6]\n",
      " [  8  -9 -29]]\n"
     ]
    }
   ],
   "source": [
    "arr1 = np.array([[11,32,3], [14,8,32]])\n",
    "arr2 = np.array([[21,5,9], [6,17,61]])\n",
    "arr3 = arr1 - arr2\n",
    "print(arr3)"
   ]
  },
  {
   "cell_type": "markdown",
   "id": "a4040eb3",
   "metadata": {},
   "source": [
    "### Multiplication"
   ]
  },
  {
   "cell_type": "code",
   "execution_count": 8,
   "id": "f35c79e9",
   "metadata": {},
   "outputs": [
    {
     "name": "stdout",
     "output_type": "stream",
     "text": [
      "[ 180  450  990 3220 5000]\n"
     ]
    }
   ],
   "source": [
    "arr1 = np.array([15, 25, 15, 35, 50])\n",
    "arr2 = np.array([12, 18, 66, 92, 100])\n",
    "arr3 = arr2 * arr1\n",
    "print(arr3)"
   ]
  },
  {
   "cell_type": "code",
   "execution_count": 9,
   "id": "ee9577ef",
   "metadata": {},
   "outputs": [
    {
     "name": "stdout",
     "output_type": "stream",
     "text": [
      "[150 250 150 350 500]\n"
     ]
    }
   ],
   "source": [
    "arr1 = np.array([15, 25, 15, 35, 50])\n",
    "arr2 = arr1 * 10\n",
    "print(arr2)"
   ]
  },
  {
   "cell_type": "code",
   "execution_count": 10,
   "id": "9d43e4f4",
   "metadata": {},
   "outputs": [
    {
     "name": "stdout",
     "output_type": "stream",
     "text": [
      "[[ 231  160   27]\n",
      " [  84  136 1952]]\n"
     ]
    }
   ],
   "source": [
    "arr1 = np.array([[11,32,3], [14,8,32]])\n",
    "arr2 = np.array([[21,5,9], [6,17,61]])\n",
    "arr3 = arr1 * arr2\n",
    "print(arr3)"
   ]
  },
  {
   "cell_type": "markdown",
   "id": "7fcc5c2b",
   "metadata": {},
   "source": [
    "### Division"
   ]
  },
  {
   "cell_type": "code",
   "execution_count": 11,
   "id": "720e0705",
   "metadata": {},
   "outputs": [
    {
     "name": "stdout",
     "output_type": "stream",
     "text": [
      "[1.25       1.38888889 0.22727273 0.38043478 0.5       ]\n"
     ]
    }
   ],
   "source": [
    "arr1 = np.array([15, 25, 15, 35, 50])\n",
    "arr2 = np.array([12, 18, 66, 92, 100])\n",
    "arr3 = arr1 / arr2\n",
    "print(arr3)"
   ]
  },
  {
   "cell_type": "code",
   "execution_count": 12,
   "id": "4e3b8ba6",
   "metadata": {},
   "outputs": [
    {
     "name": "stdout",
     "output_type": "stream",
     "text": [
      "[ 3.  5.  3.  7. 10.]\n"
     ]
    }
   ],
   "source": [
    "arr1 = np.array([15, 25, 15, 35, 50])\n",
    "arr2 = arr1 / 5\n",
    "print(arr2)"
   ]
  },
  {
   "cell_type": "code",
   "execution_count": 13,
   "id": "f2b011f5",
   "metadata": {},
   "outputs": [
    {
     "name": "stdout",
     "output_type": "stream",
     "text": [
      "[[0.5        6.         0.33333333]\n",
      " [2.33333333 0.5        8.        ]]\n"
     ]
    }
   ],
   "source": [
    "arr1 = np.array([[11,30,3], [14,8,32]])\n",
    "arr2 = np.array([[22,5,9], [6,16,4]])\n",
    "arr3 = arr1 / arr2\n",
    "print(arr3)"
   ]
  },
  {
   "cell_type": "markdown",
   "id": "6100973f",
   "metadata": {},
   "source": [
    "### Exponential"
   ]
  },
  {
   "cell_type": "code",
   "execution_count": 14,
   "id": "f2f92d4e",
   "metadata": {},
   "outputs": [
    {
     "name": "stdout",
     "output_type": "stream",
     "text": [
      "[ 25  36 512  27  81]\n"
     ]
    }
   ],
   "source": [
    "# To get exponential value use **\n",
    "\n",
    "arr1 = np.array([5, 6, 8, 3, 9])\n",
    "arr2 = np.array([2, 2, 3, 3, 2])\n",
    "arr3 = arr1 ** arr2\n",
    "print(arr3)"
   ]
  },
  {
   "cell_type": "code",
   "execution_count": 15,
   "id": "975cf236",
   "metadata": {},
   "outputs": [
    {
     "name": "stdout",
     "output_type": "stream",
     "text": [
      "[[ 121 1024   27]\n",
      " [  14  512 1024]]\n"
     ]
    }
   ],
   "source": [
    "# To get exponential value use **\n",
    "\n",
    "arr1 = np.array([[11,32,3], [14,8,32]])\n",
    "arr2 = np.array([[2,2,3], [1,3,2]])\n",
    "arr3 = arr1 ** arr2\n",
    "print(arr3)"
   ]
  },
  {
   "cell_type": "code",
   "execution_count": 16,
   "id": "a2767311",
   "metadata": {},
   "outputs": [
    {
     "name": "stdout",
     "output_type": "stream",
     "text": [
      "[[ 121 1024    9]\n",
      " [ 196   64 1024]]\n"
     ]
    }
   ],
   "source": [
    "# To get exponential value use **\n",
    "\n",
    "arr1 = np.array([[11,32,3], [14,8,32]])\n",
    "arr2 = arr1 ** 2\n",
    "print(arr2)"
   ]
  },
  {
   "cell_type": "markdown",
   "id": "6d01d965",
   "metadata": {},
   "source": [
    "### Modulus operator"
   ]
  },
  {
   "cell_type": "code",
   "execution_count": 17,
   "id": "540ca45a",
   "metadata": {},
   "outputs": [
    {
     "name": "stdout",
     "output_type": "stream",
     "text": [
      "[1 0 2 0 1]\n"
     ]
    }
   ],
   "source": [
    "arr1 = np.array([5, 6, 8, 3, 9])\n",
    "arr2 = np.array([2, 2, 3, 3, 2])\n",
    "arr3 = arr1 % arr2\n",
    "print(arr3)"
   ]
  },
  {
   "cell_type": "code",
   "execution_count": 18,
   "id": "f9123ba1",
   "metadata": {},
   "outputs": [
    {
     "name": "stdout",
     "output_type": "stream",
     "text": [
      "[[1 0 0]\n",
      " [0 2 0]]\n"
     ]
    }
   ],
   "source": [
    "arr1 = np.array([[11,32,3], [14,8,32]])\n",
    "arr2 = np.array([[2,2,3], [1,3,2]])\n",
    "arr3 = arr1 % arr2\n",
    "print(arr3)"
   ]
  },
  {
   "cell_type": "code",
   "execution_count": 19,
   "id": "1cf3a6d5",
   "metadata": {},
   "outputs": [
    {
     "name": "stdout",
     "output_type": "stream",
     "text": [
      "[[1 0 1]\n",
      " [0 0 0]]\n"
     ]
    }
   ],
   "source": [
    "arr1 = np.array([[11,32,3], [14,8,32]])\n",
    "arr2 = arr1 % 2\n",
    "print(arr2)"
   ]
  },
  {
   "cell_type": "markdown",
   "id": "7c055cb4",
   "metadata": {},
   "source": [
    "### Dot product"
   ]
  },
  {
   "cell_type": "code",
   "execution_count": 20,
   "id": "e179d28f",
   "metadata": {},
   "outputs": [
    {
     "name": "stdout",
     "output_type": "stream",
     "text": [
      "73\n"
     ]
    }
   ],
   "source": [
    "# To get a dot product use @\n",
    "\n",
    "arr1 = np.array([5, 6, 8, 3, 9])\n",
    "arr2 = np.array([2, 2, 3, 3, 2])\n",
    "arr3 = arr1 @ arr2\n",
    "print(arr3)"
   ]
  },
  {
   "cell_type": "code",
   "execution_count": 21,
   "id": "410d9a70",
   "metadata": {},
   "outputs": [
    {
     "name": "stdout",
     "output_type": "stream",
     "text": [
      "[[ 66 136 103]\n",
      " [164 244 122]\n",
      " [ 16  26  13]]\n"
     ]
    }
   ],
   "source": [
    "# To get a dot product use @\n",
    "\n",
    "arr1 = np.array([[11,32,3], [14,8,32], [1,2,3]])\n",
    "arr2 = np.array([[2,2,3], [1,3,2], [4,6,2]])\n",
    "arr3 = arr1 @ arr2\n",
    "print(arr3)"
   ]
  },
  {
   "cell_type": "markdown",
   "id": "9a70b13b",
   "metadata": {},
   "source": [
    "## Reshape"
   ]
  },
  {
   "cell_type": "code",
   "execution_count": 22,
   "id": "55917a72",
   "metadata": {},
   "outputs": [
    {
     "name": "stdout",
     "output_type": "stream",
     "text": [
      "[5 6 7 8]\n",
      "[[5 6]\n",
      " [7 8]]\n"
     ]
    }
   ],
   "source": [
    "# Change the shape of an array\n",
    "\n",
    "arr1 = np.arange(5,9)\n",
    "print(arr1)\n",
    "\n",
    "# Create a 2x2 dim array from 1D array\n",
    "arr2 = arr1.reshape(2,2)\n",
    "print(arr2)"
   ]
  },
  {
   "cell_type": "code",
   "execution_count": 23,
   "id": "80ad124b",
   "metadata": {},
   "outputs": [
    {
     "name": "stdout",
     "output_type": "stream",
     "text": [
      "[0 1 2 3 4 5 6 7 8]\n",
      "[[0 1 2]\n",
      " [3 4 5]\n",
      " [6 7 8]]\n"
     ]
    }
   ],
   "source": [
    "# Change the shape of an array\n",
    "arr1 = np.arange(9)\n",
    "print(arr1)\n",
    "\n",
    "# Create a 3x3 dim array from 1D array\n",
    "arr2 = arr1.reshape(3,3)\n",
    "print(arr2)"
   ]
  },
  {
   "cell_type": "code",
   "execution_count": 24,
   "id": "4a696d37",
   "metadata": {},
   "outputs": [
    {
     "name": "stdout",
     "output_type": "stream",
     "text": [
      "[ 0  1  2  3  4  5  6  7  8  9 10 11 12 13 14 15 16 17]\n",
      "[[[ 0  1  2]\n",
      "  [ 3  4  5]]\n",
      "\n",
      " [[ 6  7  8]\n",
      "  [ 9 10 11]]\n",
      "\n",
      " [[12 13 14]\n",
      "  [15 16 17]]]\n"
     ]
    }
   ],
   "source": [
    "# Change the shape of an array\n",
    "arr1 = np.arange(18)\n",
    "print(arr1)\n",
    "\n",
    "# Create a 3x2x3 dim array from 1D array\n",
    "arr2 = arr1.reshape(3,2,3)\n",
    "print(arr2)"
   ]
  },
  {
   "cell_type": "code",
   "execution_count": 25,
   "id": "872189bf",
   "metadata": {},
   "outputs": [
    {
     "name": "stdout",
     "output_type": "stream",
     "text": [
      "[0 1 2 3 4 5 6 7]\n",
      "[[[0 1]\n",
      "  [2 3]]\n",
      "\n",
      " [[4 5]\n",
      "  [6 7]]]\n"
     ]
    }
   ],
   "source": [
    "# Change the shape of an array\n",
    "arr1 = np.arange(8)\n",
    "print(arr1)\n",
    "\n",
    "# Create a 2x2x2 dim array from 1D array\n",
    "arr2 = arr1.reshape(2,2,2)\n",
    "print(arr2)"
   ]
  },
  {
   "cell_type": "markdown",
   "id": "929bee9f",
   "metadata": {},
   "source": [
    "## Flatten"
   ]
  },
  {
   "cell_type": "code",
   "execution_count": 26,
   "id": "9f259e3b",
   "metadata": {},
   "outputs": [
    {
     "name": "stdout",
     "output_type": "stream",
     "text": [
      "[[11 32  3]\n",
      " [14  8 32]]\n",
      "\n",
      "[11 32  3 14  8 32]\n"
     ]
    }
   ],
   "source": [
    "# Flatten a multi dim to a single dim\n",
    "\n",
    "arr1 = np.array([[11,32,3], [14,8,32]])\n",
    "print(arr1)\n",
    "print()\n",
    "arr2 = arr1.flatten()\n",
    "print(arr2)"
   ]
  },
  {
   "cell_type": "code",
   "execution_count": 27,
   "id": "303b8ab3",
   "metadata": {},
   "outputs": [
    {
     "name": "stdout",
     "output_type": "stream",
     "text": [
      "[[[ 1  2  3]\n",
      "  [ 4  5  6]]\n",
      "\n",
      " [[11 12 13]\n",
      "  [14 15 16]]\n",
      "\n",
      " [[21 22 23]\n",
      "  [24 25 26]]]\n",
      "\n",
      "[ 1  2  3  4  5  6 11 12 13 14 15 16 21 22 23 24 25 26]\n"
     ]
    }
   ],
   "source": [
    "# Flatten a multi dim to a single dim\n",
    "\n",
    "arr1 = np.array([[[1,2,3],[4,5,6]],[[11,12,13],[14,15,16]],[[21,22,23],[24,25,26]]])\n",
    "print(arr1)\n",
    "print()\n",
    "arr2 = arr1.flatten()\n",
    "print(arr2)"
   ]
  },
  {
   "cell_type": "markdown",
   "id": "fdec9362",
   "metadata": {},
   "source": [
    "### Random"
   ]
  },
  {
   "cell_type": "code",
   "execution_count": 28,
   "id": "90c148dc",
   "metadata": {},
   "outputs": [
    {
     "name": "stdout",
     "output_type": "stream",
     "text": [
      "84\n",
      "81\n"
     ]
    }
   ],
   "source": [
    "# Generate a random integer between 0 and 100\n",
    "\n",
    "random1 = np.random.randint(100)\n",
    "print(random1)\n",
    "\n",
    "random2 = np.random.randint(100)\n",
    "print(random2)"
   ]
  },
  {
   "cell_type": "code",
   "execution_count": 29,
   "id": "f0f64006",
   "metadata": {},
   "outputs": [
    {
     "name": "stdout",
     "output_type": "stream",
     "text": [
      "42\n"
     ]
    }
   ],
   "source": [
    "# Generate a random integer between 40 and 50\n",
    "\n",
    "random1 = np.random.randint(40, 50)\n",
    "print(random1)"
   ]
  },
  {
   "cell_type": "code",
   "execution_count": 30,
   "id": "e24be897",
   "metadata": {},
   "outputs": [
    {
     "name": "stdout",
     "output_type": "stream",
     "text": [
      "[77 57 61 55 52]\n"
     ]
    }
   ],
   "source": [
    "# Generate array of 5 random integer between 40 and 80\n",
    "\n",
    "random1 = np.random.randint(40, 80, 5)\n",
    "print(random1)"
   ]
  },
  {
   "cell_type": "code",
   "execution_count": 31,
   "id": "93669a9a",
   "metadata": {},
   "outputs": [
    {
     "name": "stdout",
     "output_type": "stream",
     "text": [
      "[[72 71]\n",
      " [66 46]]\n"
     ]
    }
   ],
   "source": [
    "# Generate a 2x2 random array, with elements between 40 and 80\n",
    "\n",
    "random1 = np.random.randint(40, 80, (2,2))\n",
    "print(random1)"
   ]
  },
  {
   "cell_type": "code",
   "execution_count": 32,
   "id": "02e61194",
   "metadata": {},
   "outputs": [
    {
     "name": "stdout",
     "output_type": "stream",
     "text": [
      "[[3 8 1]\n",
      " [2 1 9]\n",
      " [2 3 8]]\n"
     ]
    }
   ],
   "source": [
    "# Generate a 3x3 random array, with elements between 0 and 10\n",
    "\n",
    "random1 = np.random.randint(0, 10, (3,3))\n",
    "print(random1)"
   ]
  },
  {
   "cell_type": "code",
   "execution_count": 33,
   "id": "84123a56",
   "metadata": {},
   "outputs": [
    {
     "name": "stdout",
     "output_type": "stream",
     "text": [
      "[0.51593095]\n"
     ]
    }
   ],
   "source": [
    "# Generate a random float\n",
    "\n",
    "random1 = np.random.rand(1)\n",
    "print(random1)"
   ]
  },
  {
   "cell_type": "code",
   "execution_count": 34,
   "id": "c52658f6",
   "metadata": {},
   "outputs": [
    {
     "name": "stdout",
     "output_type": "stream",
     "text": [
      "[0.42950037 0.18256834 0.58884949]\n"
     ]
    }
   ],
   "source": [
    "# Generate array of 3 random float elements\n",
    "\n",
    "random1 = np.random.rand(3)\n",
    "print(random1)"
   ]
  },
  {
   "cell_type": "code",
   "execution_count": 35,
   "id": "48e2806b",
   "metadata": {},
   "outputs": [
    {
     "name": "stdout",
     "output_type": "stream",
     "text": [
      "[[0.32829987 0.11416224 0.67094006]\n",
      " [0.201388   0.76845589 0.26603474]\n",
      " [0.1253359  0.82695193 0.31011882]]\n"
     ]
    }
   ],
   "source": [
    "# Generate 3x3 array of random float elements\n",
    "\n",
    "random1 = np.random.rand(3,3)\n",
    "print(random1)"
   ]
  },
  {
   "cell_type": "code",
   "execution_count": 36,
   "id": "0ffde611",
   "metadata": {},
   "outputs": [
    {
     "name": "stdout",
     "output_type": "stream",
     "text": [
      "-0.1275542960574231\n"
     ]
    }
   ],
   "source": [
    "# Generate a random normal distribution \n",
    "# Gaussian Distribution\n",
    "\n",
    "random1 = np.random.normal()\n",
    "print(random1)"
   ]
  },
  {
   "cell_type": "code",
   "execution_count": 37,
   "id": "c414fe2d",
   "metadata": {},
   "outputs": [
    {
     "name": "stdout",
     "output_type": "stream",
     "text": [
      "[[-1.35871862  0.04590987 -0.77959497]\n",
      " [-0.39050767  1.80304972  0.56657468]\n",
      " [-0.56853046  1.00032129  0.7522336 ]]\n"
     ]
    }
   ],
   "source": [
    "# Generate 3x3 array of random normal distribution float elements\n",
    "# Gaussian Distribution\n",
    "\n",
    "random1 = np.random.normal(size=(3,3))\n",
    "print(random1)"
   ]
  },
  {
   "cell_type": "code",
   "execution_count": 38,
   "id": "2394ed27",
   "metadata": {},
   "outputs": [
    {
     "name": "stdout",
     "output_type": "stream",
     "text": [
      "[[-10.23752959   0.64850037   3.66477671]\n",
      " [ 17.83707909   0.47426405  12.21597471]\n",
      " [  1.86011609   9.45358143   1.70960635]]\n"
     ]
    }
   ],
   "source": [
    "# Generate 3x3 array of random normal distribution \n",
    "# With mean at 5 and standard deviation of 8\n",
    "# loc = mean, scale = standard deviation\n",
    "\n",
    "random1 = np.random.normal(loc=5, scale=8, size=(3,3))\n",
    "print(random1)"
   ]
  },
  {
   "cell_type": "code",
   "execution_count": 39,
   "id": "e5a94601",
   "metadata": {},
   "outputs": [
    {
     "name": "stdout",
     "output_type": "stream",
     "text": [
      "[10 20 30 40 50]\n",
      "[30 10 40 20 50]\n"
     ]
    }
   ],
   "source": [
    "# To shuffle an array use shuffle method\n",
    "# Orginal array will have effect.\n",
    "\n",
    "arr1 = np.array([10, 20, 30, 40, 50])\n",
    "print(arr1)\n",
    "np.random.shuffle(arr1)\n",
    "print(arr1)"
   ]
  },
  {
   "cell_type": "code",
   "execution_count": 40,
   "id": "82c7a3e2",
   "metadata": {},
   "outputs": [
    {
     "name": "stdout",
     "output_type": "stream",
     "text": [
      "[50 30 20 40 10]\n",
      "[30 50 20 40 10]\n"
     ]
    }
   ],
   "source": [
    "# To generate a rearraged array out of an array use permutation method.\n",
    "# Orginal array will have no effect.\n",
    "\n",
    "arr1 = np.array([50, 30, 20, 40, 10])\n",
    "print(arr1)\n",
    "arr2 = np.random.permutation(arr1)\n",
    "print(arr2)"
   ]
  },
  {
   "cell_type": "code",
   "execution_count": 41,
   "id": "dc4e1377",
   "metadata": {},
   "outputs": [
    {
     "name": "stdout",
     "output_type": "stream",
     "text": [
      "1\n"
     ]
    }
   ],
   "source": [
    "# To select a random variable from an array use choice method\n",
    "\n",
    "arr1 = [4,1,8,5,3,9,2]\n",
    "elem = np.random.choice(arr1)\n",
    "print(elem)"
   ]
  },
  {
   "cell_type": "code",
   "execution_count": 42,
   "id": "fb22bbfd",
   "metadata": {},
   "outputs": [
    {
     "name": "stdout",
     "output_type": "stream",
     "text": [
      "[[4 8]\n",
      " [5 9]]\n"
     ]
    }
   ],
   "source": [
    "# To select a random variable from an array use choice method\n",
    "\n",
    "arr1 = [4,1,8,5,3,9,20]\n",
    "elem = np.random.choice(arr1, size=(2,2))\n",
    "print(elem)"
   ]
  },
  {
   "cell_type": "markdown",
   "id": "0c624ba0",
   "metadata": {},
   "source": [
    "## Unique"
   ]
  },
  {
   "cell_type": "code",
   "execution_count": 43,
   "id": "584cc63d",
   "metadata": {},
   "outputs": [
    {
     "name": "stdout",
     "output_type": "stream",
     "text": [
      "[ 1  3  4  5  8  9 20]\n"
     ]
    }
   ],
   "source": [
    "# Remove duplicates from the array.\n",
    "\n",
    "arr1 = [9,4,1,8,5,4,8,3,9,20,1,4,20]\n",
    "uniq = np.unique(arr1)\n",
    "print(uniq)"
   ]
  },
  {
   "cell_type": "code",
   "execution_count": 44,
   "id": "13fc54f7",
   "metadata": {},
   "outputs": [
    {
     "name": "stdout",
     "output_type": "stream",
     "text": [
      "[[0 1 5]\n",
      " [0 3 1]\n",
      " [1 4 1]]\n"
     ]
    }
   ],
   "source": [
    "arr1 = np.array([[1, 4, 1], [0, 3, 1], [0, 1, 5]])\n",
    "arr2 = np.unique(arr1, axis=0)\n",
    "print(arr2)"
   ]
  },
  {
   "cell_type": "code",
   "execution_count": 45,
   "id": "f94fef57",
   "metadata": {},
   "outputs": [
    {
     "name": "stdout",
     "output_type": "stream",
     "text": [
      "[[1 1 4]\n",
      " [0 1 3]\n",
      " [0 5 1]]\n"
     ]
    }
   ],
   "source": [
    "arr1 = np.array([[1, 4, 1], [0, 3, 1], [0, 1, 5]])\n",
    "arr2 = np.unique(arr1, axis=1)\n",
    "print(arr2)"
   ]
  },
  {
   "cell_type": "code",
   "execution_count": 46,
   "id": "6446958b",
   "metadata": {},
   "outputs": [
    {
     "name": "stdout",
     "output_type": "stream",
     "text": [
      "[0 1 3 4 5]\n"
     ]
    }
   ],
   "source": [
    "arr1 = np.array([[1, 4, 1], [0, 3, 1], [0, 1, 5]])\n",
    "arr2 = np.unique(arr1)\n",
    "print(arr2)"
   ]
  },
  {
   "cell_type": "code",
   "execution_count": 47,
   "id": "621e121b",
   "metadata": {},
   "outputs": [
    {
     "name": "stdout",
     "output_type": "stream",
     "text": [
      "[0 1 3 4 5] [2 4 1 1 1]\n"
     ]
    }
   ],
   "source": [
    "# If return_counts is set to True, along with the unique elements\n",
    "# also return the number of times each unique item appears in the array\n",
    "\n",
    "arr1 = np.array([[1, 4, 1], [0, 3, 1], [0, 1, 5]])\n",
    "arr2, unique_counts = np.unique(arr1, return_counts=True)\n",
    "print(arr2, unique_counts)"
   ]
  },
  {
   "cell_type": "code",
   "execution_count": 48,
   "id": "5d47410f",
   "metadata": {},
   "outputs": [
    {
     "name": "stdout",
     "output_type": "stream",
     "text": [
      "[0 1 3 4 5] [3 0 4 1 8]\n"
     ]
    }
   ],
   "source": [
    "# If return_index is set to True, along with the unique elements\n",
    "#  also return the indices of array that result in the unique array.\n",
    "\n",
    "arr1 = np.array([1, 4, 1, 0, 3, 1, 0, 1, 5])\n",
    "arr2, unique_index = np.unique(arr1, return_index=True)\n",
    "print(arr2, unique_index)"
   ]
  },
  {
   "cell_type": "code",
   "execution_count": null,
   "id": "946055f8",
   "metadata": {},
   "outputs": [],
   "source": []
  }
 ],
 "metadata": {
  "kernelspec": {
   "display_name": "Python 3 (ipykernel)",
   "language": "python",
   "name": "python3"
  },
  "language_info": {
   "codemirror_mode": {
    "name": "ipython",
    "version": 3
   },
   "file_extension": ".py",
   "mimetype": "text/x-python",
   "name": "python",
   "nbconvert_exporter": "python",
   "pygments_lexer": "ipython3",
   "version": "3.9.0"
  }
 },
 "nbformat": 4,
 "nbformat_minor": 5
}
