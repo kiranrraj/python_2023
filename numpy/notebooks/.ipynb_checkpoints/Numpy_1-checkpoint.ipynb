{
 "cells": [
  {
   "cell_type": "code",
   "execution_count": 1,
   "id": "d1e9773b",
   "metadata": {},
   "outputs": [],
   "source": [
    "import numpy as np"
   ]
  },
  {
   "cell_type": "markdown",
   "id": "6b18254e",
   "metadata": {},
   "source": [
    "1. ndim will tell you the number of axes (dimensions) of an array.\n",
    "\n",
    "2. size will tell you the total number of elements of the array, which is the product of the elements of the array’s shape.\n",
    "\n",
    "3. shape will display a tuple of integers that indicate the number of elements in each dimension of the array. "
   ]
  },
  {
   "cell_type": "markdown",
   "id": "d1a8c5ca",
   "metadata": {},
   "source": [
    "## Some basic methods to create array in numpy are\n",
    "\n",
    "1. np.arange()\n",
    "2. np.linspace()\n",
    "3. np.array()\n",
    "2. np.ones()\n",
    "4. np.zeros()\n",
    "5. np.empty()\n",
    "6. np.fill()\n",
    "7. np.identity()\n",
    "8. np.eye()\n",
    "9. np.diag()"
   ]
  },
  {
   "cell_type": "code",
   "execution_count": 6,
   "id": "10a9597b",
   "metadata": {},
   "outputs": [
    {
     "name": "stdout",
     "output_type": "stream",
     "text": [
      "[0 1 2 3 4 5 6 7 8 9]\n",
      "int32\n",
      "[5 6 7 8 9]\n",
      "int32\n",
      "[ 5 10 15 20 25 30 35 40 45]\n",
      "int32\n",
      "[ 5 10 15 20 25 30 35 40 45]\n",
      "int8\n"
     ]
    }
   ],
   "source": [
    "# Create a numpy array using arange\n",
    "# arange(start, stop, step, dtype)\n",
    "\n",
    "\n",
    "#1. arange(stop)\n",
    "myArr1 = np.arange(10)\n",
    "print(myArr1)            # [0 1 2 3 4 5 6 7 8 9]\n",
    "print(myArr1.dtype)      # int32\n",
    "\n",
    "\n",
    "#2. arange(start, stop)\n",
    "myArr1 = np.arange(5, 10)\n",
    "print(myArr1)            # [5 6 7 8 9]\n",
    "print(myArr1.dtype)      # int32\n",
    "\n",
    "\n",
    "#3. arange(start, stop, step)\n",
    "myArr1 = np.arange(5, 50, 5)\n",
    "print(myArr1)            # [ 5 10 15 20 25 30 35 40 45]\n",
    "print(myArr1.dtype)      # int32\n",
    "\n",
    "\n",
    "#4. arange(start, stop, step, dtype)\n",
    "myArr1 = np.arange(5, 50, 5, dtype=np.int8)\n",
    "print(myArr1)            # [ 5 10 15 20 25 30 35 40 45]\n",
    "print(myArr1.dtype)      # int8\n"
   ]
  },
  {
   "cell_type": "code",
   "execution_count": 23,
   "id": "7d7af35a",
   "metadata": {},
   "outputs": [
    {
     "name": "stdout",
     "output_type": "stream",
     "text": [
      "[ 1.          1.18367347  1.36734694  1.55102041  1.73469388  1.91836735\n",
      "  2.10204082  2.28571429  2.46938776  2.65306122  2.83673469  3.02040816\n",
      "  3.20408163  3.3877551   3.57142857  3.75510204  3.93877551  4.12244898\n",
      "  4.30612245  4.48979592  4.67346939  4.85714286  5.04081633  5.2244898\n",
      "  5.40816327  5.59183673  5.7755102   5.95918367  6.14285714  6.32653061\n",
      "  6.51020408  6.69387755  6.87755102  7.06122449  7.24489796  7.42857143\n",
      "  7.6122449   7.79591837  7.97959184  8.16326531  8.34693878  8.53061224\n",
      "  8.71428571  8.89795918  9.08163265  9.26530612  9.44897959  9.63265306\n",
      "  9.81632653 10.        ]\n",
      "50\n",
      "float64\n",
      "[ 1.  2.  3.  4.  5.  6.  7.  8.  9. 10.]\n",
      "10\n",
      "float64\n",
      "[ 1.  2.  3.  4.  5.  6.  7.  8.  9. 10.]\n",
      "10\n",
      "float64\n",
      "(array([ 1.,  2.,  3.,  4.,  5.,  6.,  7.,  8.,  9., 10.]), 1.0)\n",
      "2\n"
     ]
    }
   ],
   "source": [
    "# Create a numpy array using linspace\n",
    "# linspace(start, stop, num=50, endpoint=True, retstep=False)\n",
    "\n",
    "\n",
    "# 1. linspace(start,stop)\n",
    "myArr2 = np.linspace(1,10)\n",
    "print(myArr2)\n",
    "print(len(myArr2))              # 50\n",
    "print(myArr2.dtype)             # float64\n",
    "\n",
    "\n",
    "# 2. linspace(start,stop,num)\n",
    "myArr2 = np.linspace(1,10,10)\n",
    "print(myArr2)                   # [ 1.  2.  3.  4.  5.  6.  7.  8.  9. 10.]\n",
    "print(len(myArr2))              # 10\n",
    "print(myArr2.dtype)             # float64\n",
    "\n",
    "\n",
    "# 3. linspace(start, stop, num, endpoint)\n",
    "# When endpoint is set to False the end value is excluded\n",
    "myArr2 = np.linspace(1, 11, 10, endpoint=False)\n",
    "print(myArr2)                   # [ 1.  2.  3.  4.  5.  6.  7.  8.  9. 10.]\n",
    "print(len(myArr2))              # 10\n",
    "print(myArr2.dtype)             # float64\n",
    "\n",
    "\n",
    "# 4. linspace(start, stop, num, endpoint, retstep)\n",
    "# to get the inteval vaalue between the array elements set retstep=True\n",
    "myArr2 = np.linspace(1, 10, 10, retstep=True )\n",
    "print(myArr2)                   # (array([ 1.,  2.,  3.,  4.,  5.,  6.,  7.,  8.,  9., 10.]), 1.0)\n",
    "print(len(myArr2))              # 2 (array, interval)\n",
    "# print(myArr2.dtype)           # AttributeError: 'tuple' object has no attribute 'dtype'"
   ]
  },
  {
   "cell_type": "code",
   "execution_count": 63,
   "id": "daacc62e",
   "metadata": {},
   "outputs": [
    {
     "name": "stdout",
     "output_type": "stream",
     "text": [
      "[1 2 3 4] <class 'numpy.ndarray'>\n",
      "[1 2 3 4] <class 'numpy.ndarray'>\n",
      "[[[1 2 3 4 5 6]]] <class 'numpy.ndarray'>\n",
      "[1 2 3 4 5 6] int8\n",
      "[2 3 4 5 6] <class 'numpy.ndarray'>\n",
      "[0 0 0 0]\n"
     ]
    }
   ],
   "source": [
    "# Create an numpy array using array and asarray methods\n",
    "\n",
    "myArr3 = np.array([1,2,3,4])\n",
    "print(myArr3, type(myArr3))           # [1 2 3 4] <class 'numpy.ndarray'>\n",
    "\n",
    "myList = [1,2,3,4]\n",
    "myArr3 = np.array(myList)\n",
    "print(myArr3, type(myArr3))           # [1 2 3 4] <class 'numpy.ndarray'>\n",
    "\n",
    "myList = [1,2,3,4,5,6]\n",
    "myArr3 = np.array(myList, ndmin=3)\n",
    "print(myArr3, type(myArr3))           # [ [ [1 2 3 4 5 6] ] ] <class 'numpy.ndarray'>\n",
    "\n",
    "myArr3 = np.array([1,2,3,4,5,6], \n",
    "                  dtype=np.int8)\n",
    "print(myArr3, myArr3.dtype)           # [1 2 3 4 5 6] int8\n",
    "\n",
    "myTup = (2, 3, 4, 5, 6)\n",
    "myArr3 = np.array(myTup)\n",
    "print(myArr3, type(myArr3))           # [2 3 4 5 6] <class 'numpy.ndarray'>\n",
    "\n",
    "\n",
    "myList = [0,0,0,0]\n",
    "myArr3 = np.asarray(myList)\n",
    "print(myArr3)                         # [0 0 0 0]\n"
   ]
  },
  {
   "cell_type": "code",
   "execution_count": 38,
   "id": "60ef320d",
   "metadata": {},
   "outputs": [
    {
     "name": "stdout",
     "output_type": "stream",
     "text": [
      "[[1. 1. 1.]] <class 'numpy.ndarray'> (1, 3)\n",
      "[[1 1]\n",
      " [1 1]]\n"
     ]
    }
   ],
   "source": [
    "# Create an array of ones using ones method.\n",
    "\n",
    "myArr4 = np.ones((1,3))\n",
    "print(myArr4, type(myArr4), myArr4.shape)\n",
    "# [ [1. 1. 1.] ] <class 'numpy.ndarray'> (1, 3)\n",
    "\n",
    "myLikeArr = [[1,1], [2,2]]\n",
    "myArr4 = np.ones_like(myLikeArr)\n",
    "print(myArr4)                         # [ [1 1] [1 1] ]"
   ]
  },
  {
   "cell_type": "code",
   "execution_count": 42,
   "id": "f5656616",
   "metadata": {},
   "outputs": [
    {
     "name": "stdout",
     "output_type": "stream",
     "text": [
      "[[0. 0. 0.]] <class 'numpy.ndarray'> (1, 3)\n",
      "[[0 0]\n",
      " [0 0]]\n"
     ]
    }
   ],
   "source": [
    "# Create an array of zeros using zeros method.\n",
    "\n",
    "myArr5 = np.zeros((1,3))\n",
    "print(myArr5, type(myArr5), myArr5.shape)\n",
    "# [ [0. 0. 0.] ] <class 'numpy.ndarray'> (1, 3)\n",
    "\n",
    "myLikeArr = [[1,1], [2,2]]\n",
    "myArr5 = np.zeros_like(myLikeArr)\n",
    "print(myArr5)                         # [ [0 0] [0 0] ]"
   ]
  },
  {
   "cell_type": "code",
   "execution_count": 43,
   "id": "666c2f37",
   "metadata": {},
   "outputs": [
    {
     "name": "stdout",
     "output_type": "stream",
     "text": [
      "[]\n",
      "[[0. 0. 0.]]\n"
     ]
    }
   ],
   "source": [
    "# Create an empty array\n",
    "\n",
    "myArr6 = np.array([])\n",
    "print(myArr6)\n",
    "\n",
    "# Empty method does not create an empty array\n",
    "# Return an array with user specified shape and type, with uninitialized entries\n",
    "myArr6 = np.empty((1,3))\n",
    "print(myArr6)                        # [[2.12199579e-314 5.27662110e-321 6.95314444e-310]]"
   ]
  },
  {
   "cell_type": "code",
   "execution_count": 52,
   "id": "9f2e22e1",
   "metadata": {},
   "outputs": [
    {
     "name": "stdout",
     "output_type": "stream",
     "text": [
      "[['*' '*']\n",
      " ['*' '*']]\n",
      "[11 11 11 11 11 11]\n",
      "[[11 11 11]\n",
      " [11 11 11]]\n"
     ]
    }
   ],
   "source": [
    "# Create an array filled with a user specified value\n",
    "\n",
    "myArr7 = np.full((2,2), \"*\")\n",
    "print(myArr7)\n",
    "# [ ['*' '*'] ['*' '*'] ]\n",
    "\n",
    "myLikeArr = [1,2,3,4,5,6]\n",
    "myArr7 = np.full_like(myLikeArr, 11)\n",
    "print(myArr7)                        # [11 11 11 11 11 11]\n",
    "\n",
    "myLikeArr = [1,2,3,4,5,6]\n",
    "myArr7 = np.full_like(myLikeArr, \n",
    "                      11, \n",
    "                      shape=(2,3))\n",
    "print(myArr7)                        # [ [11 11 11] [11 11 11] ]"
   ]
  },
  {
   "cell_type": "code",
   "execution_count": 67,
   "id": "728448dd",
   "metadata": {},
   "outputs": [
    {
     "name": "stdout",
     "output_type": "stream",
     "text": [
      "[[1. 0. 0.]\n",
      " [0. 1. 0.]\n",
      " [0. 0. 1.]]\n",
      "[[1. 0.]\n",
      " [0. 1.]]\n"
     ]
    }
   ],
   "source": [
    "# Create an identity matrix using identity method.\n",
    "# numpy.identity(n, dtype=None, *, like=None)\n",
    "\n",
    "myArr = np.identity(3)\n",
    "print(myArr)                         # [[1. 0. 0.] [0. 1. 0.] [0. 0. 1.]]\n",
    "\n",
    "myArr = np.identity(2)\n",
    "print(myArr)                         # [[1. 0.] [0. 1.]]\n"
   ]
  },
  {
   "cell_type": "code",
   "execution_count": 72,
   "id": "d7cd3893",
   "metadata": {},
   "outputs": [
    {
     "name": "stdout",
     "output_type": "stream",
     "text": [
      "[[1. 0.]\n",
      " [0. 1.]]\n",
      "[[1. 0. 0.]\n",
      " [0. 1. 0.]\n",
      " [0. 0. 1.]]\n",
      "[[1. 0. 0. 0.]\n",
      " [0. 1. 0. 0.]\n",
      " [0. 0. 1. 0.]]\n",
      "[[0. 1. 0. 0.]\n",
      " [0. 0. 1. 0.]\n",
      " [0. 0. 0. 1.]]\n"
     ]
    }
   ],
   "source": [
    "# Create an identity matrix using eye method.\n",
    "# numpy.eye(N, M=None, k=0, dtype=<class 'float'>, order='C', *, like=None)\n",
    "\n",
    "# N: Number of rows in the output.\n",
    "# M: Number of columns in the output. If None, defaults to N.\n",
    "# k: Index of the diagonal: 0 (the default) refers to the main diagonal, \n",
    "#                          a positive value refers to an upper diagonal, \n",
    "#                          and a negative value to a lower diagonal.\n",
    "\n",
    "myArr = np.eye(2)\n",
    "print(myArr)                         # [[1. 0.] [0. 1.]]\n",
    "\n",
    "myArr = np.eye(3)\n",
    "print(myArr)                         # [[1. 0. 0.] [0. 1. 0.] [0. 0. 1.]]\n",
    "\n",
    "myArr = np.eye(3,4)\n",
    "print(myArr)                         # [[1. 0. 0. 0.] [0. 1. 0. 0.] [0. 0. 1. 0.]]\n",
    "\n",
    "myArr = np.eye(3,4,1)\n",
    "print(myArr)                         # [[0. 1. 0. 0.] [0. 0. 1. 0.] [0. 0. 0. 1.]]"
   ]
  },
  {
   "cell_type": "code",
   "execution_count": 76,
   "id": "6f4db078",
   "metadata": {},
   "outputs": [
    {
     "name": "stdout",
     "output_type": "stream",
     "text": [
      "[1. 1. 1.]\n",
      "[4. 2. 8.]\n",
      "[[4. 0. 0.]\n",
      " [0. 2. 0.]\n",
      " [0. 0. 8.]]\n"
     ]
    }
   ],
   "source": [
    "# Extract diagonals from a matrix \n",
    "# Create a matrix with diagonal elements specified by user\n",
    "\n",
    "myArr = [ [1., 0., 0., 0.],\n",
    "          [0., 1., 0., 0.],\n",
    "          [0., 0., 1., 0.] ]\n",
    "myDiag = np.diag(myArr)\n",
    "print(myDiag)                     # [1. 1. 1.]\n",
    "\n",
    "myArr = [ [4., 5., 6., 7.],\n",
    "          [1., 2., 3., 4.],\n",
    "          [6., 7., 8., 9.] ]\n",
    "myDiag = np.diag(myArr)\n",
    "print(myDiag)                     # [4. 2. 8.]\n",
    "\n",
    "myDiaMat = np.diag(myDiag)\n",
    "print(myDiaMat)                   # [[4. 0. 0.] [0. 2. 0.] [0. 0. 8.]]\n"
   ]
  },
  {
   "cell_type": "code",
   "execution_count": 79,
   "id": "ee11ee8e",
   "metadata": {},
   "outputs": [
    {
     "name": "stdout",
     "output_type": "stream",
     "text": [
      "[[1 0 0]\n",
      " [0 2 0]\n",
      " [0 0 3]]\n",
      "[[0 1 0 0]\n",
      " [0 0 2 0]\n",
      " [0 0 0 3]\n",
      " [0 0 0 0]]\n",
      "[[0 0 0 0]\n",
      " [1 0 0 0]\n",
      " [0 2 0 0]\n",
      " [0 0 3 0]]\n"
     ]
    }
   ],
   "source": [
    "# Create a matrix with user specified elements as diagonals.\n",
    "# numpy.diagflat(v, k=0)\n",
    "# v : Input data, which is flattened and set as the k-th diagonal of the output.\n",
    "# k : Diagonal to set; 0, the default, corresponds to the “main” diagonal, \n",
    "#                      a positive (negative) k giving the number of the diagonal above (below) the main.\n",
    "\n",
    "myDiag = [1,2,3]\n",
    "myArr = np.diagflat(myDiag)\n",
    "print(myArr)                    # [[1 0 0] [0 2 0] [0 0 3]]\n",
    "\n",
    "myDiag = [1,2,3]\n",
    "myArr = np.diagflat(myDiag, 1)\n",
    "print(myArr)                    # [[0 1 0 0] [0 0 2 0] [0 0 0 3] [0 0 0 0]]\n",
    "\n",
    "myDiag = [1,2,3]\n",
    "myArr = np.diagflat(myDiag, -1)\n",
    "print(myArr)                    # [[0 0 0 0] [1 0 0 0] [0 2 0 0] [0 0 3 0]]"
   ]
  },
  {
   "cell_type": "code",
   "execution_count": 3,
   "id": "c1d723b9",
   "metadata": {},
   "outputs": [
    {
     "name": "stdout",
     "output_type": "stream",
     "text": [
      "[[1 2 3]\n",
      " [4 5 6]]\n",
      "Ndim: 2\n",
      "Size 6\n",
      "Shape (2, 3)\n"
     ]
    }
   ],
   "source": [
    "arr1 = np.array([[1,2,3], [4,5,6]])\n",
    "print(arr1)\n",
    "print(\"Ndim:\",arr1.ndim)\n",
    "print(\"Size\",arr1.size)\n",
    "print(\"Shape\",arr1.shape)"
   ]
  },
  {
   "cell_type": "code",
   "execution_count": 4,
   "id": "351514d1",
   "metadata": {},
   "outputs": [
    {
     "name": "stdout",
     "output_type": "stream",
     "text": [
      "[[[ 1  2  3]\n",
      "  [ 4  5  6]]\n",
      "\n",
      " [[11 12 13]\n",
      "  [14 15 16]]\n",
      "\n",
      " [[21 22 23]\n",
      "  [24 25 26]]]\n",
      "Ndim: 3\n",
      "Size 18\n",
      "Shape (3, 2, 3)\n"
     ]
    }
   ],
   "source": [
    "arr1 = np.array([[[1,2,3],[4,5,6]],[[11,12,13],[14,15,16]],[[21,22,23],[24,25,26]]])\n",
    "print(arr1)\n",
    "print(\"Ndim:\",arr1.ndim)\n",
    "print(\"Size\",arr1.size)\n",
    "print(\"Shape\",arr1.shape)"
   ]
  },
  {
   "cell_type": "code",
   "execution_count": 5,
   "id": "38b6e84c",
   "metadata": {},
   "outputs": [
    {
     "name": "stdout",
     "output_type": "stream",
     "text": [
      "20\n"
     ]
    }
   ],
   "source": [
    "# To access an array element\n",
    "arr1 = np.array([10, 20, 30, 40, 50])\n",
    "print(arr1[1])"
   ]
  },
  {
   "cell_type": "code",
   "execution_count": 6,
   "id": "20c31e34",
   "metadata": {},
   "outputs": [
    {
     "name": "stdout",
     "output_type": "stream",
     "text": [
      "4\n"
     ]
    }
   ],
   "source": [
    "# To access an array element\n",
    "arr1 = np.array([[1,2,3], [4,5,6]])\n",
    "print(arr1[1,0])"
   ]
  },
  {
   "cell_type": "code",
   "execution_count": 7,
   "id": "212d4555",
   "metadata": {},
   "outputs": [
    {
     "name": "stdout",
     "output_type": "stream",
     "text": [
      "1\n"
     ]
    }
   ],
   "source": [
    "# To access an array element\n",
    "arr1 = np.array([[[1,2,3],[4,5,6]],[[11,12,13],[14,15,16]],[[21,22,23],[24,25,26]]])\n",
    "print(arr1[0,0,0])"
   ]
  },
  {
   "cell_type": "code",
   "execution_count": 8,
   "id": "9d7dd327",
   "metadata": {},
   "outputs": [
    {
     "name": "stdout",
     "output_type": "stream",
     "text": [
      "26\n"
     ]
    }
   ],
   "source": [
    "# To access an array element\n",
    "arr1 = np.array([[[1,2,3],[4,5,6]],[[11,12,13],[14,15,16]],[[21,22,23],[24,25,26]]])\n",
    "print(arr1[-1,-1,-1])"
   ]
  },
  {
   "cell_type": "code",
   "execution_count": 9,
   "id": "a259b18d",
   "metadata": {},
   "outputs": [
    {
     "name": "stdout",
     "output_type": "stream",
     "text": [
      "[24 25 26]\n"
     ]
    }
   ],
   "source": [
    "# To access an array element\n",
    "arr1 = np.array([[[1,2,3],[4,5,6]],[[11,12,13],[14,15,16]],[[21,22,23],[24,25,26]]])\n",
    "print(arr1[-1,-1])"
   ]
  },
  {
   "cell_type": "code",
   "execution_count": 10,
   "id": "b721803a",
   "metadata": {},
   "outputs": [
    {
     "name": "stdout",
     "output_type": "stream",
     "text": [
      "[1 2 3]\n"
     ]
    }
   ],
   "source": [
    "# To access an array element\n",
    "arr1 = np.array([[[1,2,3],[4,5,6]],[[11,12,13],[14,15,16]],[[21,22,23],[24,25,26]]])\n",
    "print(arr1[0,0])"
   ]
  },
  {
   "cell_type": "code",
   "execution_count": 11,
   "id": "9760fc23",
   "metadata": {},
   "outputs": [
    {
     "name": "stdout",
     "output_type": "stream",
     "text": [
      "[[1 2 3]\n",
      " [4 5 6]]\n"
     ]
    }
   ],
   "source": [
    "# To access an array element\n",
    "arr1 = np.array([[[1,2,3],[4,5,6]],[[11,12,13],[14,15,16]],[[21,22,23],[24,25,26]]])\n",
    "print(arr1[0])"
   ]
  },
  {
   "cell_type": "code",
   "execution_count": 12,
   "id": "9c519b1d",
   "metadata": {},
   "outputs": [
    {
     "name": "stdout",
     "output_type": "stream",
     "text": [
      "[[11 12 13]\n",
      " [14 15 16]]\n",
      "\n",
      "[11 12 13]\n",
      "\n",
      "12\n"
     ]
    }
   ],
   "source": [
    "# To access an array element\n",
    "arr1 = np.array([[[1,2,3],[4,5,6]],[[11,12,13],[14,15,16]],[[21,22,23],[24,25,26]]])\n",
    "print(arr1[1])\n",
    "print()\n",
    "print(arr1[1,0])\n",
    "print()\n",
    "print(arr1[1,0,1])"
   ]
  },
  {
   "cell_type": "code",
   "execution_count": 13,
   "id": "2ce5c35a",
   "metadata": {},
   "outputs": [
    {
     "name": "stdout",
     "output_type": "stream",
     "text": [
      "[14 15 16]\n"
     ]
    }
   ],
   "source": [
    "# To access an array element\n",
    "arr1 = np.array([[[1,2,3],[4,5,6]],[[11,12,13],[14,15,16]],[[21,22,23],[24,25,26]]])\n",
    "print(arr1[1,-1])"
   ]
  },
  {
   "cell_type": "markdown",
   "id": "3b00fb54",
   "metadata": {},
   "source": [
    "## Slicing"
   ]
  },
  {
   "cell_type": "code",
   "execution_count": 14,
   "id": "a3f44e05",
   "metadata": {},
   "outputs": [
    {
     "name": "stdout",
     "output_type": "stream",
     "text": [
      "[0 1 2 3 4 5 6 7 8 9]\n",
      "\n",
      "[0 1 2 3]\n",
      "[5 6 7 8]\n"
     ]
    }
   ],
   "source": [
    "arr1 = np.arange(10)\n",
    "print(arr1)\n",
    "print()\n",
    "print(arr1[0:4])\n",
    "print(arr1[5:-1])"
   ]
  },
  {
   "cell_type": "code",
   "execution_count": 15,
   "id": "adf01f01",
   "metadata": {},
   "outputs": [
    {
     "name": "stdout",
     "output_type": "stream",
     "text": [
      "[0 1 2 3 4 5 6 7 8 9]\n",
      "\n",
      "[9]\n",
      "[4 5 6 7 8 9]\n"
     ]
    }
   ],
   "source": [
    "arr1 = np.arange(10)\n",
    "print(arr1)\n",
    "print()\n",
    "print(arr1[-1:])\n",
    "print(arr1[4:])"
   ]
  },
  {
   "cell_type": "code",
   "execution_count": 16,
   "id": "c9cd0207",
   "metadata": {},
   "outputs": [
    {
     "name": "stdout",
     "output_type": "stream",
     "text": [
      "[ 10.  20.  30.  40.  50.  60.  70.  80.  90. 100.]\n",
      "\n",
      "[10. 20. 30. 40.]\n",
      "[ 60.  70.  80.  90. 100.]\n",
      "[50.]\n",
      "[ 10.  20.  30.  40.  60.  70.  80.  90. 100.]\n"
     ]
    }
   ],
   "source": [
    "arr1 = np.linspace(10, 100, 10)\n",
    "print(arr1)\n",
    "print()\n",
    "print(arr1[arr1<50])\n",
    "print(arr1[arr1>50])\n",
    "print(arr1[arr1==50])\n",
    "print(arr1[arr1!=50])"
   ]
  },
  {
   "cell_type": "code",
   "execution_count": 17,
   "id": "7094bffb",
   "metadata": {},
   "outputs": [
    {
     "name": "stdout",
     "output_type": "stream",
     "text": [
      "[ 10.  20.  30.  40.  50.  60.  70.  80.  90. 100.]\n",
      "\n",
      "[False False False False False  True  True  True  True  True]\n",
      "[ 60.  70.  80.  90. 100.]\n",
      "\n",
      "[ True  True  True  True False False False False False False]\n",
      "[10. 20. 30. 40.]\n",
      "\n",
      "[False False False False  True False False False False False]\n",
      "[50.]\n"
     ]
    }
   ],
   "source": [
    "arr1 = np.linspace(10, 100, 10)\n",
    "print(arr1)\n",
    "print()\n",
    "index = (arr1 >50)\n",
    "print(index)\n",
    "print(arr1[index])\n",
    "print()\n",
    "index = (arr1 < 50)\n",
    "print(index)\n",
    "print(arr1[index])\n",
    "print()\n",
    "index = (arr1 == 50)\n",
    "print(index)\n",
    "print(arr1[index])"
   ]
  },
  {
   "cell_type": "code",
   "execution_count": 18,
   "id": "914a3d4b",
   "metadata": {},
   "outputs": [
    {
     "name": "stdout",
     "output_type": "stream",
     "text": [
      "[ 0  5 10 15 20 25 30 35 40 45 50 55 60 65 70 75 80 85 90 95]\n",
      "\n",
      "[80]\n",
      "\n",
      "[ 0 15 30 45 60 75 90]\n",
      "\n",
      "[ 5 10 20 25 35 40 50 55 65 70 80 85 95]\n"
     ]
    }
   ],
   "source": [
    "arr1 = np.arange(0, 100, 5)\n",
    "print(arr1)\n",
    "print()\n",
    "print(arr1[arr1==(30+50)])\n",
    "print()\n",
    "print(arr1[arr1%15==0])\n",
    "print()\n",
    "print(arr1[arr1%15!=0])"
   ]
  },
  {
   "cell_type": "code",
   "execution_count": 19,
   "id": "50aac49e",
   "metadata": {},
   "outputs": [
    {
     "name": "stdout",
     "output_type": "stream",
     "text": [
      "[ 0  5 10 15 20 25 30 35 40 45 50 55 60 65 70 75 80 85 90 95]\n",
      "\n",
      "[ 0 15 30 45 60 75 90]\n",
      "\n",
      "[60 75 90]\n"
     ]
    }
   ],
   "source": [
    "arr1 = np.arange(0, 100, 5)\n",
    "print(arr1)\n",
    "print()\n",
    "print(arr1[arr1%15==0])\n",
    "print()\n",
    "print(arr1[(arr1%15==0) & (arr1>50)])"
   ]
  },
  {
   "cell_type": "code",
   "execution_count": 20,
   "id": "c125f118",
   "metadata": {},
   "outputs": [
    {
     "name": "stdout",
     "output_type": "stream",
     "text": [
      "[ 0  5 10 15 20 25 30 35 40 45 50 55 60 65 70 75 80 85 90 95]\n",
      "\n",
      "[ 0 15 30 45 60 75 90]\n",
      "\n",
      "[85 90 95]\n",
      "\n",
      "[ 0 15 30 45 60 75 85 90 95]\n"
     ]
    }
   ],
   "source": [
    "arr1 = np.arange(0, 100, 5)\n",
    "print(arr1)\n",
    "print()\n",
    "print(arr1[arr1%15==0])\n",
    "print()\n",
    "print(arr1[arr1>80])\n",
    "print()\n",
    "print(arr1[(arr1%15==0) | (arr1>80)])"
   ]
  },
  {
   "cell_type": "markdown",
   "id": "ef3c1a2d",
   "metadata": {},
   "source": [
    "## Add, Remove, Sort Elements in an array"
   ]
  },
  {
   "cell_type": "markdown",
   "id": "739990d3",
   "metadata": {},
   "source": [
    "### Add arrays using concatenation"
   ]
  },
  {
   "cell_type": "code",
   "execution_count": 27,
   "id": "3ef5f9f4",
   "metadata": {},
   "outputs": [
    {
     "name": "stdout",
     "output_type": "stream",
     "text": [
      "[1 2 3 4 5 6 7 8]\n"
     ]
    }
   ],
   "source": [
    "# Add two array use np.concatenate()\n",
    "# numpy.concatenate((a1, a2, ...), axis=0, out=None, dtpe,...)\n",
    "\n",
    "arr1 = np.array([1,2,3,4])\n",
    "arr2 = np.array([5,6,7,8])\n",
    "arr3 = np.concatenate((arr1,arr2)) \n",
    "print(arr3)"
   ]
  },
  {
   "cell_type": "code",
   "execution_count": 28,
   "id": "edab3e98",
   "metadata": {},
   "outputs": [
    {
     "name": "stdout",
     "output_type": "stream",
     "text": [
      "[[ 1  2  3  4]\n",
      " [10 11 12 13]]\n",
      "\n",
      "[[ 5  6  7  8]\n",
      " [15 16 17 18]]\n",
      "\n",
      "Adding above arrays (axis is default, 0) gives\n",
      "[[ 1  2  3  4]\n",
      " [10 11 12 13]\n",
      " [ 5  6  7  8]\n",
      " [15 16 17 18]]\n"
     ]
    }
   ],
   "source": [
    "arr1 = np.array([[1,2,3,4],[10, 11, 12, 13]])\n",
    "arr2 = np.array([[5,6,7,8],[15,16,17,18]])\n",
    "print(arr1)\n",
    "print()\n",
    "print(arr2)\n",
    "print()\n",
    "print(\"Adding above arrays (axis is default, 0) gives\")\n",
    "arr3 = np.concatenate((arr1, arr2))\n",
    "print(arr3)"
   ]
  },
  {
   "cell_type": "code",
   "execution_count": 29,
   "id": "3b16de86",
   "metadata": {},
   "outputs": [
    {
     "name": "stdout",
     "output_type": "stream",
     "text": [
      "[[ 1  2  3  4]\n",
      " [10 11 12 13]]\n",
      "\n",
      "[[ 5  6  7  8]\n",
      " [15 16 17 18]]\n",
      "\n",
      "Adding above arrays with axis set to None gives\n",
      "[ 1  2  3  4 10 11 12 13  5  6  7  8 15 16 17 18]\n",
      "True\n"
     ]
    }
   ],
   "source": [
    "# Add two array use np.concatenate()\n",
    "# If axis is None, arrays are flattened before use\n",
    "\n",
    "arr1 = np.array([[1,2,3,4],[10, 11, 12, 13]])\n",
    "arr2 = np.array([[5,6,7,8],[15,16,17,18]])\n",
    "print(arr1)\n",
    "print()\n",
    "print(arr2)\n",
    "print()\n",
    "print(\"Adding above arrays with axis set to None gives\")\n",
    "arr3 = np.concatenate((arr1, arr2), axis=None)\n",
    "print(arr3)\n",
    "print(isinstance(arr3, np.ndarray))"
   ]
  },
  {
   "cell_type": "code",
   "execution_count": 30,
   "id": "ed65345b",
   "metadata": {},
   "outputs": [
    {
     "name": "stdout",
     "output_type": "stream",
     "text": [
      "[[ 1  2  3  4]\n",
      " [10 11 12 13]]\n",
      "\n",
      "[[ 5  6  7  8]\n",
      " [15 16 17 18]]\n",
      "\n",
      "Adding above arrays with axis set to 1 gives\n",
      "[[ 1  2  3  4  5  6  7  8]\n",
      " [10 11 12 13 15 16 17 18]]\n"
     ]
    }
   ],
   "source": [
    "# Add two array use np.concatenate()\n",
    "# If axis is None, arrays are flattened before use\n",
    "\n",
    "arr1 = np.array([[1,2,3,4],[10, 11, 12, 13]])\n",
    "arr2 = np.array([[5,6,7,8],[15,16,17,18]])\n",
    "print(arr1)\n",
    "print()\n",
    "print(arr2)\n",
    "print()\n",
    "print(\"Adding above arrays with axis set to 1 gives\")\n",
    "arr3 = np.concatenate((arr1, arr2), axis=1)\n",
    "print(arr3)"
   ]
  },
  {
   "cell_type": "markdown",
   "id": "d7e7f840",
   "metadata": {},
   "source": [
    "### Remove elements from array using remove method"
   ]
  },
  {
   "cell_type": "code",
   "execution_count": 31,
   "id": "358076b5",
   "metadata": {},
   "outputs": [
    {
     "name": "stdout",
     "output_type": "stream",
     "text": [
      "[1 2 3 4 5] [1 2 3 5]\n"
     ]
    }
   ],
   "source": [
    "# Remove elements from array using delete method\n",
    "# np.delete(array, indexToRemove), index start with zero\n",
    "# A copy of arr with the elements specified by obj removed. \n",
    "# Delete does not occur in-place.\n",
    "\n",
    "arr1 = np.array([1,2,3,4,5])\n",
    "# Index 3 means 4th element \n",
    "arr2 = np.delete(arr1, 3)\n",
    "print(arr1, arr2)"
   ]
  },
  {
   "cell_type": "code",
   "execution_count": 32,
   "id": "eaf8cb1a",
   "metadata": {},
   "outputs": [
    {
     "name": "stdout",
     "output_type": "stream",
     "text": [
      "[1 2 3 4 5] [1 2 3 4]\n"
     ]
    }
   ],
   "source": [
    "# Remove elements from array using delete method\n",
    "\n",
    "arr1 = np.array([1,2,3,4,5])\n",
    "# -1 means last element\n",
    "arr2 = np.delete(arr1, -1) \n",
    "print(arr1, arr2)"
   ]
  },
  {
   "cell_type": "code",
   "execution_count": 33,
   "id": "71c950ff",
   "metadata": {},
   "outputs": [
    {
     "name": "stdout",
     "output_type": "stream",
     "text": [
      "[10 20 30 40 50] [10 20 40]\n"
     ]
    }
   ],
   "source": [
    "# Remove elements from array using delete method\n",
    "\n",
    "arr1 = np.array([10,20,30,40,50])\n",
    "# [2, 4] means elements at index 2 and 4\n",
    "# elements at position 3 and position 5\n",
    "arr2 = np.delete(arr1, [2,4]) \n",
    "print(arr1, arr2)"
   ]
  },
  {
   "cell_type": "code",
   "execution_count": 34,
   "id": "934570a4",
   "metadata": {},
   "outputs": [
    {
     "name": "stdout",
     "output_type": "stream",
     "text": [
      "[10 20 30 40 50] [10 20 40 50]\n"
     ]
    }
   ],
   "source": [
    "# Remove elements from array using delete method\n",
    "\n",
    "arr1 = np.array([10,20,30,40,50])\n",
    "\n",
    "# Conditional deletion\n",
    "arr2 = np.delete(arr1, np.where(arr1==30)) \n",
    "print(arr1, arr2)"
   ]
  },
  {
   "cell_type": "code",
   "execution_count": 35,
   "id": "0d439167",
   "metadata": {},
   "outputs": [
    {
     "name": "stdout",
     "output_type": "stream",
     "text": [
      "[[3 2 5]\n",
      " [7 4 1]\n",
      " [6 5 4]]\n",
      "\n",
      "[[3 5]\n",
      " [7 1]\n",
      " [6 4]]\n",
      "\n",
      "[[2 5]\n",
      " [4 1]\n",
      " [5 4]]\n"
     ]
    }
   ],
   "source": [
    "# Remove elements from array using delete method\n",
    "# Delete columns (axis = 1)\n",
    "arr1 = np.array([[3,2,5], [7,4,1], [6,5,4]])\n",
    "print(arr1)\n",
    "\n",
    "print()\n",
    "# Delete the column at the 1st index\n",
    "arr2 = np.delete(arr1, 1, axis=1) \n",
    "print(arr2)\n",
    "\n",
    "print()\n",
    "# Delete the column at the 0st index\n",
    "arr2 = np.delete(arr1, 0, axis=1) \n",
    "print(arr2)"
   ]
  },
  {
   "cell_type": "code",
   "execution_count": 36,
   "id": "46c2c7ce",
   "metadata": {},
   "outputs": [
    {
     "name": "stdout",
     "output_type": "stream",
     "text": [
      "[[3 2 5]\n",
      " [7 4 1]\n",
      " [6 5 4]]\n",
      "\n",
      "[[3 2 5]\n",
      " [6 5 4]]\n",
      "\n",
      "[[7 4 1]\n",
      " [6 5 4]]\n",
      "\n",
      "[[7 4 1]]\n"
     ]
    }
   ],
   "source": [
    "# Remove elements from array using delete method\n",
    "# Delete array (axis = 0)\n",
    "arr1 = np.array([[3,2,5], [7,4,1], [6,5,4]])\n",
    "print(arr1)\n",
    "\n",
    "print()\n",
    "# Delete the 0th row\n",
    "arr2 = np.delete(arr1, 1, axis=0) \n",
    "print(arr2)\n",
    "\n",
    "print()\n",
    "# Delete the first row\n",
    "arr2 = np.delete(arr1, 0, axis=0) \n",
    "print(arr2)\n",
    "\n",
    "print()\n",
    "# Delete the 0th and 2nd rows\n",
    "arr2 = np.delete(arr1, [0,2], axis=0) \n",
    "print(arr2)"
   ]
  },
  {
   "cell_type": "markdown",
   "id": "e7898528",
   "metadata": {},
   "source": [
    "### Sort elements using the sort method"
   ]
  },
  {
   "cell_type": "code",
   "execution_count": 37,
   "id": "4e5c0d79",
   "metadata": {},
   "outputs": [
    {
     "name": "stdout",
     "output_type": "stream",
     "text": [
      "Array before sorting: [3 1 9 5 4 6 8 2 7]\n",
      "Array after sorting: [1 2 3 4 5 6 7 8 9]\n",
      "Check the sort is permanent:  [3 1 9 5 4 6 8 2 7]\n"
     ]
    }
   ],
   "source": [
    "# Sort an array in numpy using sort method\n",
    "# numpy.sort(a, axis=-1, kind=None, order=None)\n",
    "# Sort method returns a copy of the array, original array is unchanged\n",
    "\n",
    "arr1 = np.array([3,1,9,5,4,6,8,2,7])\n",
    "print(\"Array before sorting:\", arr1)\n",
    "\n",
    "print(\"Array after sorting:\", np.sort(arr1))\n",
    "\n",
    "print(\"Check the sort is permanent: \", arr1)"
   ]
  },
  {
   "cell_type": "code",
   "execution_count": 38,
   "id": "9efc7a72",
   "metadata": {},
   "outputs": [
    {
     "name": "stdout",
     "output_type": "stream",
     "text": [
      "[[2 3 5]\n",
      " [1 4 7]\n",
      " [4 5 6]]\n",
      "\n",
      "[[2 3 5]\n",
      " [1 4 7]\n",
      " [4 5 6]]\n",
      "\n",
      "[1 2 3 4 4 5 5 6 7]\n",
      "\n",
      "[[3 2 1]\n",
      " [6 4 4]\n",
      " [7 5 5]]\n",
      "\n"
     ]
    }
   ],
   "source": [
    "# Axis along which to sort. If None, the array is flattened before sorting. \n",
    "# The default is -1, which sorts along the last axis.\n",
    "\n",
    "arr1 = np.array([[3,2,5], [7,4,1], [6,5,4]])\n",
    "print(np.sort(arr1))\n",
    "print()\n",
    "\n",
    "arr1 = np.array([[3,2,5], [7,4,1], [6,5,4]])\n",
    "print(np.sort(arr1, axis=-1))\n",
    "print()\n",
    "\n",
    "arr1 = np.array([[3,2,5], [7,4,1], [6,5,4]])\n",
    "print(np.sort(arr1, axis=None))\n",
    "print()\n",
    "\n",
    "# Sort done on the column\n",
    "arr1 = np.array([[3,2,5], [7,4,1], [6,5,4]])\n",
    "print(np.sort(arr1, axis=0))\n",
    "print()\n"
   ]
  },
  {
   "cell_type": "markdown",
   "id": "8709ee44",
   "metadata": {},
   "source": [
    "### Sum"
   ]
  },
  {
   "cell_type": "code",
   "execution_count": 39,
   "id": "8d3456c1",
   "metadata": {},
   "outputs": [
    {
     "name": "stdout",
     "output_type": "stream",
     "text": [
      "[]\n",
      "Sum = 0.0\n",
      "\n",
      "[[3 2 5]\n",
      " [7 4 1]\n",
      " [6 5 4]]\n",
      "Sum = 37\n"
     ]
    }
   ],
   "source": [
    "arr1 = []\n",
    "print(arr1)\n",
    "print(\"Sum =\",np.sum(arr1))\n",
    "print()\n",
    "arr1 = np.array([[3,2,5], [7,4,1], [6,5,4]])\n",
    "print(arr1)\n",
    "print(\"Sum =\",np.sum(arr1))"
   ]
  },
  {
   "cell_type": "code",
   "execution_count": 40,
   "id": "f94b95cd",
   "metadata": {},
   "outputs": [
    {
     "name": "stdout",
     "output_type": "stream",
     "text": [
      "[[[ 1  2  3]\n",
      "  [ 4  5  6]]\n",
      "\n",
      " [[11 12 13]\n",
      "  [14 15 16]]\n",
      "\n",
      " [[21 22 23]\n",
      "  [24 25 26]]]\n",
      "\n",
      "Sum = 243\n"
     ]
    }
   ],
   "source": [
    "arr1 = np.array([[[1,2,3],[4,5,6]],[[11,12,13],[14,15,16]],[[21,22,23],[24,25,26]]])\n",
    "print(arr1)\n",
    "print()\n",
    "print(\"Sum =\",np.sum(arr1))"
   ]
  },
  {
   "cell_type": "code",
   "execution_count": 41,
   "id": "e79dc884",
   "metadata": {},
   "outputs": [
    {
     "name": "stdout",
     "output_type": "stream",
     "text": [
      "[[[ 1  2  3]\n",
      "  [ 4  5  6]]\n",
      "\n",
      " [[11 12 13]\n",
      "  [14 15 16]]\n",
      "\n",
      " [[21 22 23]\n",
      "  [24 25 26]]]\n",
      "\n",
      "Sum = 243\n",
      "\n",
      "Sum = [[33 36 39]\n",
      " [42 45 48]]\n",
      "\n",
      "Sum = [[ 5  7  9]\n",
      " [25 27 29]\n",
      " [45 47 49]]\n"
     ]
    }
   ],
   "source": [
    "arr1 = np.array([[[1,2,3],[4,5,6]],[[11,12,13],[14,15,16]],[[21,22,23],[24,25,26]]])\n",
    "print(arr1)\n",
    "print()\n",
    "print(\"Sum =\",np.sum(arr1))\n",
    "print()\n",
    "print(\"Sum =\",np.sum(arr1, axis=0))\n",
    "print()\n",
    "print(\"Sum =\",np.sum(arr1, axis=1))"
   ]
  },
  {
   "cell_type": "markdown",
   "id": "6dcee957",
   "metadata": {},
   "source": [
    "### Max"
   ]
  },
  {
   "cell_type": "code",
   "execution_count": 42,
   "id": "2b81d8a0",
   "metadata": {},
   "outputs": [
    {
     "name": "stdout",
     "output_type": "stream",
     "text": [
      "[[3 2 5]\n",
      " [7 4 1]\n",
      " [6 5 4]]\n",
      "Max = 7\n"
     ]
    }
   ],
   "source": [
    "arr1 = np.array([[3,2,5], [7,4,1], [6,5,4]])\n",
    "print(arr1)\n",
    "print(\"Max =\",np.max(arr1))"
   ]
  },
  {
   "cell_type": "code",
   "execution_count": 43,
   "id": "b017bc89",
   "metadata": {},
   "outputs": [
    {
     "name": "stdout",
     "output_type": "stream",
     "text": [
      "[[[ 1  2  3]\n",
      "  [ 4  5  6]]\n",
      "\n",
      " [[11 12 13]\n",
      "  [14 15 16]]\n",
      "\n",
      " [[21 22 23]\n",
      "  [24 25 26]]]\n",
      "\n",
      "Max = 26\n"
     ]
    }
   ],
   "source": [
    "arr1 = np.array([[[1,2,3],[4,5,6]],[[11,12,13],[14,15,16]],[[21,22,23],[24,25,26]]])\n",
    "print(arr1)\n",
    "print()\n",
    "print(\"Max =\",np.max(arr1))"
   ]
  },
  {
   "cell_type": "code",
   "execution_count": 44,
   "id": "ac3b3530",
   "metadata": {},
   "outputs": [
    {
     "name": "stdout",
     "output_type": "stream",
     "text": [
      "[[[ 1 12  3]\n",
      "  [14  5  6]]\n",
      "\n",
      " [[11  2  3]\n",
      "  [ 4  5 16]]]\n",
      "\n",
      "Max = [[11 12  3]\n",
      " [14  5 16]]\n",
      "\n",
      "Max = [[14 12  6]\n",
      " [11  5 16]]\n"
     ]
    }
   ],
   "source": [
    "arr1 = np.array([[[1,12,3],[14,5,6]],[[11,2,3],[4,5,16]]])\n",
    "print(arr1)\n",
    "print()\n",
    "print(\"Max =\",np.max(arr1, axis=0))\n",
    "print()\n",
    "print(\"Max =\",np.max(arr1, axis=1))"
   ]
  },
  {
   "cell_type": "code",
   "execution_count": 45,
   "id": "2c282c08",
   "metadata": {},
   "outputs": [
    {
     "name": "stdout",
     "output_type": "stream",
     "text": [
      "[[[ 1 12  3]\n",
      "  [ 4  5  6]]\n",
      "\n",
      " [[11 12 13]\n",
      "  [ 4  5 16]]\n",
      "\n",
      " [[21 22 23]\n",
      "  [ 4 25  6]]]\n",
      "\n",
      "Max = [[21 22 23]\n",
      " [ 4 25 16]]\n",
      "\n",
      "Max = [[ 4 12  6]\n",
      " [11 12 16]\n",
      " [21 25 23]]\n"
     ]
    }
   ],
   "source": [
    "arr1 = np.array([[[1,12,3],[4,5,6]],[[11,12,13],[4,5,16]],[[21,22,23],[4,25,6]]])\n",
    "print(arr1)\n",
    "print()\n",
    "print(\"Max =\",np.max(arr1, axis=0))\n",
    "print()\n",
    "print(\"Max =\",np.max(arr1, axis=1))"
   ]
  },
  {
   "cell_type": "markdown",
   "id": "c1f87ac3",
   "metadata": {},
   "source": [
    "### Min"
   ]
  },
  {
   "cell_type": "code",
   "execution_count": 46,
   "id": "165a476d",
   "metadata": {},
   "outputs": [
    {
     "name": "stdout",
     "output_type": "stream",
     "text": [
      "[[3 2 5]\n",
      " [7 4 1]\n",
      " [6 5 4]]\n",
      "Min = 1\n"
     ]
    }
   ],
   "source": [
    "arr1 = np.array([[3,2,5], [7,4,1], [6,5,4]])\n",
    "print(arr1)\n",
    "print(\"Min =\",np.min(arr1))"
   ]
  },
  {
   "cell_type": "code",
   "execution_count": 47,
   "id": "ed3e28f2",
   "metadata": {},
   "outputs": [
    {
     "name": "stdout",
     "output_type": "stream",
     "text": [
      "[[[100  20  30]\n",
      "  [ 40  50  60]]\n",
      "\n",
      " [[ 11  12  13]\n",
      "  [ 14  15  16]]\n",
      "\n",
      " [[ 21  22  23]\n",
      "  [ 24  25  26]]]\n",
      "\n",
      "Min = 11\n"
     ]
    }
   ],
   "source": [
    "arr1 = np.array([[[100,20,30],[40,50,60]],[[11,12,13],[14,15,16]],[[21,22,23],[24,25,26]]])\n",
    "print(arr1)\n",
    "print()\n",
    "print(\"Min =\",np.min(arr1))"
   ]
  },
  {
   "cell_type": "code",
   "execution_count": 48,
   "id": "fdb32ddc",
   "metadata": {},
   "outputs": [
    {
     "name": "stdout",
     "output_type": "stream",
     "text": [
      "[[[ 1 12  3]\n",
      "  [14  5  6]]\n",
      "\n",
      " [[11  2  3]\n",
      "  [ 4  5 16]]]\n",
      "\n",
      "Min = [[1 2 3]\n",
      " [4 5 6]]\n",
      "\n",
      "Min = [[1 5 3]\n",
      " [4 2 3]]\n"
     ]
    }
   ],
   "source": [
    "arr1 = np.array([[[1,12,3],[14,5,6]],[[11,2,3],[4,5,16]]])\n",
    "print(arr1)\n",
    "print()\n",
    "print(\"Min =\",np.min(arr1, axis=0))\n",
    "print()\n",
    "print(\"Min =\",np.min(arr1, axis=1))"
   ]
  },
  {
   "cell_type": "code",
   "execution_count": 49,
   "id": "0591b37c",
   "metadata": {},
   "outputs": [
    {
     "name": "stdout",
     "output_type": "stream",
     "text": [
      "[[[ 1 12  3]\n",
      "  [ 4  5  6]]\n",
      "\n",
      " [[11 12 13]\n",
      "  [ 4  5 16]]\n",
      "\n",
      " [[21 22 23]\n",
      "  [ 4 25  6]]]\n",
      "\n",
      "Min = [[ 1 12  3]\n",
      " [ 4  5  6]]\n",
      "\n",
      "Min = [[ 1  5  3]\n",
      " [ 4  5 13]\n",
      " [ 4 22  6]]\n"
     ]
    }
   ],
   "source": [
    "arr1 = np.array([[[1,12,3],[4,5,6]],[[11,12,13],[4,5,16]],[[21,22,23],[4,25,6]]])\n",
    "print(arr1)\n",
    "print()\n",
    "print(\"Min =\",np.min(arr1, axis=0))\n",
    "print()\n",
    "print(\"Min =\",np.min(arr1, axis=1))"
   ]
  },
  {
   "cell_type": "markdown",
   "id": "a72b0e87",
   "metadata": {},
   "source": [
    "### Average"
   ]
  },
  {
   "cell_type": "code",
   "execution_count": 50,
   "id": "3e84a4e9",
   "metadata": {},
   "outputs": [
    {
     "name": "stdout",
     "output_type": "stream",
     "text": [
      "[[3 2 4]\n",
      " [7 4 1]\n",
      " [6 5 4]]\n",
      "Average = 4.0\n"
     ]
    }
   ],
   "source": [
    "arr1 = np.array([[3,2,4], [7,4,1], [6,5,4]])\n",
    "print(arr1)\n",
    "print(\"Average =\",np.average(arr1))"
   ]
  },
  {
   "cell_type": "code",
   "execution_count": 51,
   "id": "c0978d0b",
   "metadata": {},
   "outputs": [
    {
     "name": "stdout",
     "output_type": "stream",
     "text": [
      "[[[100  20  30]\n",
      "  [ 40  50  60]]\n",
      "\n",
      " [[ 11  12  13]\n",
      "  [ 14  15  16]]\n",
      "\n",
      " [[ 21  22  23]\n",
      "  [ 24  25  26]]]\n",
      "\n",
      "Average = 29.0\n"
     ]
    }
   ],
   "source": [
    "arr1 = np.array([[[100,20,30],[40,50,60]],[[11,12,13],[14,15,16]],[[21,22,23],[24,25,26]]])\n",
    "print(arr1)\n",
    "print()\n",
    "print(\"Average =\",np.average(arr1))"
   ]
  },
  {
   "cell_type": "code",
   "execution_count": 52,
   "id": "1a404780",
   "metadata": {},
   "outputs": [
    {
     "name": "stdout",
     "output_type": "stream",
     "text": [
      "[[[ 1 12  3]\n",
      "  [14  5  6]]\n",
      "\n",
      " [[11  2  3]\n",
      "  [ 4  5 16]]]\n",
      "\n",
      "Average = [[ 6.  7.  3.]\n",
      " [ 9.  5. 11.]]\n",
      "\n",
      "Average = [[7.5 8.5 4.5]\n",
      " [7.5 3.5 9.5]]\n"
     ]
    }
   ],
   "source": [
    "arr1 = np.array([[[1,12,3],[14,5,6]],[[11,2,3],[4,5,16]]])\n",
    "print(arr1)\n",
    "print()\n",
    "print(\"Average =\",np.average(arr1, axis=0))\n",
    "print()\n",
    "print(\"Average =\",np.average(arr1, axis=1))"
   ]
  },
  {
   "cell_type": "code",
   "execution_count": 53,
   "id": "62ed8d99",
   "metadata": {},
   "outputs": [
    {
     "name": "stdout",
     "output_type": "stream",
     "text": [
      "[[[ 1 12  3]\n",
      "  [ 4  5  6]]\n",
      "\n",
      " [[11 12 13]\n",
      "  [ 4  5 16]]\n",
      "\n",
      " [[21 22 23]\n",
      "  [ 4 25  6]]]\n",
      "\n",
      "Average = [[11.         15.33333333 13.        ]\n",
      " [ 4.         11.66666667  9.33333333]]\n",
      "\n",
      "Average = [[ 2.5  8.5  4.5]\n",
      " [ 7.5  8.5 14.5]\n",
      " [12.5 23.5 14.5]]\n"
     ]
    }
   ],
   "source": [
    "arr1 = np.array([[[1,12,3],[4,5,6]],[[11,12,13],[4,5,16]],[[21,22,23],[4,25,6]]])\n",
    "print(arr1)\n",
    "print()\n",
    "print(\"Average =\",np.average(arr1, axis=0))\n",
    "print()\n",
    "print(\"Average =\",np.average(arr1, axis=1))"
   ]
  },
  {
   "cell_type": "code",
   "execution_count": null,
   "id": "f6071905",
   "metadata": {},
   "outputs": [],
   "source": []
  }
 ],
 "metadata": {
  "kernelspec": {
   "display_name": "Python 3 (ipykernel)",
   "language": "python",
   "name": "python3"
  },
  "language_info": {
   "codemirror_mode": {
    "name": "ipython",
    "version": 3
   },
   "file_extension": ".py",
   "mimetype": "text/x-python",
   "name": "python",
   "nbconvert_exporter": "python",
   "pygments_lexer": "ipython3",
   "version": "3.9.0"
  }
 },
 "nbformat": 4,
 "nbformat_minor": 5
}
