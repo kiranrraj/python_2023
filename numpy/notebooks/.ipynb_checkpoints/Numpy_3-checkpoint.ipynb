{
 "cells": [
  {
   "cell_type": "code",
   "execution_count": 1,
   "id": "8484e15a",
   "metadata": {},
   "outputs": [],
   "source": [
    "import numpy as np"
   ]
  },
  {
   "cell_type": "code",
   "execution_count": 2,
   "id": "d0dc29b3",
   "metadata": {},
   "outputs": [
    {
     "name": "stdout",
     "output_type": "stream",
     "text": [
      "Types <class 'list'> <class 'numpy.ndarray'>\n",
      "Array [[1 2 3]\n",
      " [4 5 6]]\n",
      "Array [[1 4]\n",
      " [2 5]\n",
      " [3 6]]\n"
     ]
    }
   ],
   "source": [
    "# Move axis numpy.moveaxis(a, source, destination)\n",
    "# Move axes of an array to new positions. Other axes remain in their original order\n",
    "\n",
    "myArr = [[1,2,3],[4,5,6]]\n",
    "myNpArr = np.array(myArr)\n",
    "print(\"Types\",type(myArr), type(myNpArr))\n",
    "print(\"Array\",myNpArr)\n",
    "\n",
    "myNewArr = np.moveaxis(myNpArr,0,-1)\n",
    "print(\"Array\",myNewArr)"
   ]
  },
  {
   "cell_type": "code",
   "execution_count": 3,
   "id": "0dc4ba0a",
   "metadata": {},
   "outputs": [
    {
     "name": "stdout",
     "output_type": "stream",
     "text": [
      "Array [1 2 3 4 5 6]\n",
      "Array [1 2 3 4 5 6]\n",
      "Array [6 1 2 3 4 5]\n",
      "Array [5 6 1 2 3 4]\n",
      "Array [4 5 6 1 2 3]\n"
     ]
    }
   ],
   "source": [
    "# Roll element along an axis\n",
    "# numpy.roll(a, shift, axis=None)\n",
    "# Roll array elements along a given axis.Elements that roll beyond the last position are re-introduced at the first.\n",
    "\n",
    "myArr = [1,2,3,4,5,6]\n",
    "myNpArr = np.array(myArr)\n",
    "print(\"Array\",myNpArr)\n",
    "\n",
    "myNewArr = np.roll(myNpArr,0)\n",
    "print(\"Array\",myNewArr)\n",
    "\n",
    "myNewArr = np.roll(myNpArr,1)\n",
    "print(\"Array\",myNewArr)\n",
    "\n",
    "myNewArr = np.roll(myNpArr,2)\n",
    "print(\"Array\",myNewArr)\n",
    "\n",
    "myNewArr = np.roll(myNpArr,3)\n",
    "print(\"Array\",myNewArr)"
   ]
  },
  {
   "cell_type": "code",
   "execution_count": 4,
   "id": "f12b1557",
   "metadata": {},
   "outputs": [
    {
     "name": "stdout",
     "output_type": "stream",
     "text": [
      "Array [1 2 3 4 5 6]\n",
      "Appended Array [1 2 3 4 5 6 0]\n",
      "Array [1 2 3 4 5 6]\n",
      "------------------------\n",
      "Appended Array [1 2 3 4 5 6 3]\n",
      "Array [1 2 3 4 5 6]\n",
      "------------------------\n",
      "Appended Array [1 2 3 4 5 6 3]\n",
      "Appended Array [1 2 3 4 5 6 3 9]\n"
     ]
    }
   ],
   "source": [
    "# Append\n",
    "# numpy.append(arr, values, axis=None)\n",
    "# Append values to the end of an array.\n",
    "# Returns a copy of arr with values appended to axis, append does not occur in-place.\n",
    "\n",
    "myArr = [1,2,3,4,5,6]\n",
    "myNpArr = np.array(myArr)\n",
    "\n",
    "print(\"Array\",myNpArr)\n",
    "myNewArr = np.append(myNpArr, 0)\n",
    "print(\"Appended Array\",myNewArr)\n",
    "print(\"Array\",myNpArr)\n",
    "print(\"------------------------\")\n",
    "myNewArr = np.append(myNpArr, 3)\n",
    "print(\"Appended Array\",myNewArr)\n",
    "print(\"Array\",myNpArr)\n",
    "print(\"------------------------\")\n",
    "print(\"Appended Array\",myNewArr)\n",
    "myNewArr = np.append(myNewArr, 9)\n",
    "print(\"Appended Array\",myNewArr)"
   ]
  },
  {
   "cell_type": "code",
   "execution_count": 5,
   "id": "34c865d0",
   "metadata": {},
   "outputs": [
    {
     "name": "stdout",
     "output_type": "stream",
     "text": [
      "[[1, 2, 3], [4, 5, 6], [7, 8, 9]]\n",
      "[1 2 3 4 5 6 7 8 9 0]\n"
     ]
    }
   ],
   "source": [
    "myArr = [[1,2,3], [4,5,6], [7,8,9]]\n",
    "print(myArr)\n",
    "print(np.append(myArr, 0))"
   ]
  },
  {
   "cell_type": "markdown",
   "id": "476e16f3",
   "metadata": {},
   "source": [
    "# Statistics"
   ]
  },
  {
   "cell_type": "markdown",
   "id": "f835816b",
   "metadata": {},
   "source": [
    "## 1. Median"
   ]
  },
  {
   "cell_type": "code",
   "execution_count": 6,
   "id": "ea4dc6f9",
   "metadata": {},
   "outputs": [
    {
     "name": "stdout",
     "output_type": "stream",
     "text": [
      "5.0\n",
      "When axis is set to zero, median of column is calculated.\n",
      "[4. 5. 6.]\n",
      "When axis is set to one, median of row is calculated.\n",
      "[2. 5. 8.]\n",
      "40.5\n",
      "When axis is set to zero, median of column is calculated.\n",
      "[23. 36. 55. 61.]\n",
      "When axis is set to one, median of row is calculated.\n",
      "[13.  50.  79.5]\n"
     ]
    }
   ],
   "source": [
    "# Median \n",
    "# numpy.median(a, axis=None, out=None, overwrite_input=False, keepdims=False)\n",
    "# Compute the median along the specified axis. Returns the median of the array elements.\n",
    "\n",
    "myArr = [[1,2,3], [4,5,6], [7,8,9]]\n",
    "print(np.median(myArr))\n",
    "\n",
    "print(\"When axis is set to zero, median of column is calculated.\")\n",
    "print(np.median(myArr,axis=0))\n",
    "\n",
    "print(\"When axis is set to one, median of row is calculated.\")\n",
    "print(np.median(myArr,axis=1))\n",
    "\n",
    "\n",
    "myArr = [[21,0,11, 15], [23,45,55,61], [99,36,60, 100]]\n",
    "print(np.median(myArr))\n",
    "\n",
    "print(\"When axis is set to zero, median of column is calculated.\")\n",
    "print(np.median(myArr,axis=0))\n",
    "\n",
    "# When the number of element is even then the median is found out after the elements are sorted, \n",
    "# then the two middle numbers are added and divided by two. \n",
    "# For example in the below array when axis 1 is consided for median, the elements are sorted as\n",
    "# each row contains for elements so the rows will be [0, 11, 15, 21] [23, 45, 55, 61] and [36, 60, 99, 100]\n",
    "# the output will be (11+15)/2 = 13, (45+55)/2 = 50 and (60+99)/2 = 79.5 \n",
    "\n",
    "print(\"When axis is set to one, median of row is calculated.\")\n",
    "print(np.median(myArr,axis=1))"
   ]
  },
  {
   "cell_type": "code",
   "execution_count": 7,
   "id": "43631b96",
   "metadata": {},
   "outputs": [
    {
     "name": "stdout",
     "output_type": "stream",
     "text": [
      "Median nan\n",
      "NaN Median 6.0\n"
     ]
    }
   ],
   "source": [
    "# Finding Median ignoring NaN values \n",
    "# numpy.nanmedian(a, axis=None, out=None, overwrite_input=False, keepdims=<no value>)\n",
    "\n",
    "myArr = [[1, np.NaN,3], [4,np.NaN,6], [7,8,9]]\n",
    "print(\"Median\",np.median(myArr))\n",
    "\n",
    "myArr = [[1, np.NaN,3], [4,np.NaN,6], [7,8,9]]\n",
    "print(\"NaN Median\",np.nanmedian(myArr))"
   ]
  },
  {
   "cell_type": "markdown",
   "id": "947491c8",
   "metadata": {},
   "source": [
    "## 2. Mean"
   ]
  },
  {
   "cell_type": "code",
   "execution_count": 8,
   "id": "8421befa",
   "metadata": {},
   "outputs": [
    {
     "name": "stdout",
     "output_type": "stream",
     "text": [
      "5.0\n",
      "36.0\n",
      "[44.66666667 17.         40.33333333 42.        ]\n",
      "[16.5 38.5 53. ]\n"
     ]
    }
   ],
   "source": [
    "# Mean\n",
    "# numpy.mean(a, axis=None, dtype=None, out=None, keepdims=<no value>, *, where=<no value>)\n",
    "# Compute the arithmetic mean along the specified axis. Returns the average of the array elements. \n",
    "# The average is taken over the flattened array by default, otherwise over the specified axis.\n",
    "\n",
    "myArr = [[1,2,3], [4,5,6], [7,8,9]]\n",
    "print(np.mean(myArr))\n",
    "\n",
    "myArr = [[12, 0, 45, 9], [23, 15, 55, 61], [99, 36, 21, 56]]\n",
    "print(np.mean(myArr))\n",
    "\n",
    "print(np.mean(myArr, axis=0))\n",
    "\n",
    "print(np.mean(myArr, axis=1))"
   ]
  },
  {
   "cell_type": "code",
   "execution_count": 9,
   "id": "b61bc33c",
   "metadata": {},
   "outputs": [
    {
     "name": "stdout",
     "output_type": "stream",
     "text": [
      "Mean nan\n",
      "NaN Mean 5.428571428571429\n"
     ]
    }
   ],
   "source": [
    "# Finding mean by ignoring the nan values\n",
    "# numpy.nanmean(a, axis=None, dtype=None, out=None, keepdims=<no value>, *, where=<no value>)\n",
    "\n",
    "myArr = [[1, np.NaN,3], [4,np.NaN,6], [7,8,9]]\n",
    "print(\"Mean\",np.mean(myArr))\n",
    "\n",
    "myArr = [[1, np.NaN,3], [4,np.NaN,6], [7,8,9]]\n",
    "print(\"NaN Mean\",np.nanmean(myArr))"
   ]
  },
  {
   "cell_type": "markdown",
   "id": "7e27ec93",
   "metadata": {},
   "source": [
    "## 3. Standard deviation"
   ]
  },
  {
   "cell_type": "code",
   "execution_count": 10,
   "id": "a322fbec",
   "metadata": {},
   "outputs": [
    {
     "name": "stdout",
     "output_type": "stream",
     "text": [
      "2.581988897471611\n",
      "27.190684679377483\n",
      "[38.68103181 14.76482306 14.26728971 23.42363479]\n",
      "[17.03672504 19.81792118 29.31723043]\n"
     ]
    }
   ],
   "source": [
    "# Standard deviation\n",
    "# numpy.std(a, axis=None, dtype=None, out=None, ddof=0, keepdims=<no value>, *, where=<no value>)\n",
    "# Compute the standard deviation along the specified axis.Returns the standard deviation, \n",
    "# a measure of the spread of a distribution, of the array elements. \n",
    "# The standard deviation is computed for the flattened array by default, otherwise over the specified axis.\n",
    "\n",
    "myArr = [[1,2,3], [4,5,6], [7,8,9]]\n",
    "print(np.std(myArr))\n",
    "\n",
    "myArr = [[12, 0, 45, 9], [23, 15, 55, 61], [99, 36, 21, 56]]\n",
    "print(np.std(myArr))\n",
    "\n",
    "print(np.std(myArr, axis=0))\n",
    "\n",
    "print(np.std(myArr, axis=1))"
   ]
  },
  {
   "cell_type": "code",
   "execution_count": 11,
   "id": "d1b9bd43",
   "metadata": {},
   "outputs": [
    {
     "name": "stdout",
     "output_type": "stream",
     "text": [
      "Standard Deviation nan\n",
      "NaN Standard Deviation 2.6649654437396615\n"
     ]
    }
   ],
   "source": [
    "# Finding standard deviation by ignoring the nan values\n",
    "# numpy.nanstd(a, axis=None, dtype=None, out=None, ddof=0, keepdims=<no value>, *, where=<no value>)\n",
    "\n",
    "myArr = [[1, np.NaN,3], [4,np.NaN,6], [7,8,9]]\n",
    "print(\"Standard Deviation\",np.std(myArr))\n",
    "\n",
    "myArr = [[1, np.NaN,3], [4,np.NaN,6], [7,8,9]]\n",
    "print(\"NaN Standard Deviation\",np.nanstd(myArr))"
   ]
  },
  {
   "cell_type": "markdown",
   "id": "a632af1d",
   "metadata": {},
   "source": [
    "## 4. Variance"
   ]
  },
  {
   "cell_type": "code",
   "execution_count": 12,
   "id": "7089a0db",
   "metadata": {},
   "outputs": [
    {
     "name": "stdout",
     "output_type": "stream",
     "text": [
      "6.666666666666667\n",
      "739.3333333333334\n",
      "[1496.22222222  218.          203.55555556  548.66666667]\n",
      "[290.25 392.75 859.5 ]\n"
     ]
    }
   ],
   "source": [
    "# Variance \n",
    "# numpy.var(a, axis=None, dtype=None, out=None, ddof=0, keepdims=<no value>, *, where=<no value>)\n",
    "# Compute the variance along the specified axis.Returns the variance of the array elements, \n",
    "# a measure of the spread of a distribution. The variance is computed for the flattened array by default, \n",
    "# otherwise over the specified axis.\n",
    "\n",
    "myArr = [[1,2,3], [4,5,6], [7,8,9]]\n",
    "print(np.var(myArr))\n",
    "\n",
    "myArr = [[12, 0, 45, 9], [23, 15, 55, 61], [99, 36, 21, 56]]\n",
    "print(np.var(myArr))\n",
    "\n",
    "print(np.var(myArr, axis=0))\n",
    "\n",
    "print(np.var(myArr, axis=1))"
   ]
  },
  {
   "cell_type": "code",
   "execution_count": 13,
   "id": "27cebe0d",
   "metadata": {},
   "outputs": [
    {
     "name": "stdout",
     "output_type": "stream",
     "text": [
      "Variance nan\n",
      "NaN Variance 7.1020408163265305\n"
     ]
    }
   ],
   "source": [
    "# Finding variance by ignoring the nan values\n",
    "# numpy.nanvar(a, axis=None, dtype=None, out=None, ddof=0, keepdims=<no value>, *, where=<no value>)\n",
    "\n",
    "myArr = [[1, np.NaN,3], [4,np.NaN,6], [7,8,9]]\n",
    "print(\"Variance\",np.var(myArr))\n",
    "\n",
    "myArr = [[1, np.NaN,3], [4,np.NaN,6], [7,8,9]]\n",
    "print(\"NaN Variance\",np.nanvar(myArr))"
   ]
  },
  {
   "cell_type": "code",
   "execution_count": null,
   "id": "d32761dc",
   "metadata": {},
   "outputs": [],
   "source": []
  }
 ],
 "metadata": {
  "kernelspec": {
   "display_name": "Python 3 (ipykernel)",
   "language": "python",
   "name": "python3"
  },
  "language_info": {
   "codemirror_mode": {
    "name": "ipython",
    "version": 3
   },
   "file_extension": ".py",
   "mimetype": "text/x-python",
   "name": "python",
   "nbconvert_exporter": "python",
   "pygments_lexer": "ipython3",
   "version": "3.9.0"
  }
 },
 "nbformat": 4,
 "nbformat_minor": 5
}
