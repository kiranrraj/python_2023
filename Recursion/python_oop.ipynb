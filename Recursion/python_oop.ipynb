{
 "cells": [
  {
   "cell_type": "markdown",
   "id": "fc5b563d",
   "metadata": {},
   "source": [
    "# OOP"
   ]
  },
  {
   "cell_type": "code",
   "execution_count": 1,
   "id": "2eec3024",
   "metadata": {},
   "outputs": [],
   "source": [
    "class ClassName:\n",
    "    pass"
   ]
  },
  {
   "cell_type": "code",
   "execution_count": 2,
   "id": "fa4d40ea",
   "metadata": {},
   "outputs": [
    {
     "name": "stdout",
     "output_type": "stream",
     "text": [
      "False\n",
      "True\n"
     ]
    }
   ],
   "source": [
    "class DummyClass:\n",
    "    pass\n",
    "\n",
    "obj1 = DummyClass()\n",
    "obj2 = DummyClass()\n",
    "obj3 = obj2\n",
    "\n",
    "print(obj1 == obj2) \n",
    "\n",
    "print(obj3 == obj2)"
   ]
  },
  {
   "cell_type": "code",
   "execution_count": 3,
   "id": "10485190",
   "metadata": {},
   "outputs": [
    {
     "name": "stdout",
     "output_type": "stream",
     "text": [
      "{'name': 'I20', 'make': 2019, 'model': 'Sportz'}\n"
     ]
    }
   ],
   "source": [
    "class Car:\n",
    "    pass\n",
    "\n",
    "myCar = Car()\n",
    "myCar.name = \"I20\"\n",
    "myCar.make = 2019\n",
    "myCar.model = \"Sportz\"\n",
    "\n",
    "\n",
    "#  __dict__ is used to store attributes\n",
    "\n",
    "print(myCar.__dict__)\n",
    "# {'name': 'I20', 'make': 2019, 'model': 'Sportz'}"
   ]
  },
  {
   "cell_type": "markdown",
   "id": "805963e9",
   "metadata": {},
   "source": [
    "### `__init__`\n",
    "1. `__init__` method is called immediately and automatically after an instance has been created.\n",
    "2. There is no explicit constructor or destructor method in Python.\n",
    "3. `__init__` method can be anywhere in a class definition (but preferred as first method)."
   ]
  },
  {
   "cell_type": "code",
   "execution_count": 4,
   "id": "2790f455",
   "metadata": {},
   "outputs": [
    {
     "name": "stdout",
     "output_type": "stream",
     "text": [
      "Name: I20\n",
      "Make: 2019\n",
      "Model: Sportz\n"
     ]
    }
   ],
   "source": [
    "class Car:\n",
    "    def __init__(self, name, make, model):\n",
    "        self.name = name\n",
    "        self.make = make\n",
    "        self.model = model\n",
    "    def displayDetails(self):\n",
    "        print(f\"Name: {self.name}\\nMake: {self.make}\\nModel: {self.model}\")\n",
    "\n",
    "myCar = Car(\"I20\", 2019, \"Sportz\")\n",
    "myCar.displayDetails()\n"
   ]
  },
  {
   "cell_type": "markdown",
   "id": "f14a919b",
   "metadata": {},
   "source": [
    "1. Encapsulation is bundling of data with the methods that operate on that data. This is done using the getters and setters methods, getter methods are for accessing the values of attributes and setter method for setting (changing) the values of attribute.\n",
    "2. Information hiding is the principle that some data is hidden.\n",
    "3. Data Abstraction = Data Encapsulation + Data Hiding"
   ]
  },
  {
   "cell_type": "code",
   "execution_count": 5,
   "id": "ed5192fe",
   "metadata": {},
   "outputs": [
    {
     "name": "stdout",
     "output_type": "stream",
     "text": [
      "Name: None\n",
      "Make: None\n",
      "Model: None\n",
      "Name: I20\n",
      "Make: None\n",
      "Model: None\n",
      "Name: I20\n",
      "Make: 2019\n",
      "Model: Sportz\n"
     ]
    }
   ],
   "source": [
    "class Car:\n",
    "    def __init__(self, name=None, make=None, model=None):\n",
    "        self.name = name\n",
    "        self.make = make\n",
    "        self.model = model\n",
    "    def setName(self, name):\n",
    "        self.name = name\n",
    "    def setMake(self, make):\n",
    "        self.make = make\n",
    "    def setModel(self, model):\n",
    "        self.model = model\n",
    "    \n",
    "    def getName(self):\n",
    "        return self.name\n",
    "    def getMake(self):\n",
    "        return self.make\n",
    "    def getModel(self):\n",
    "        return self.model\n",
    "    \n",
    "    def displayDetails(self):\n",
    "        print(f\"Name: {self.getName()}\\nMake: {self.getMake()}\\nModel: {self.getModel()}\")\n",
    "\n",
    "myCar = Car()\n",
    "myCar.displayDetails()\n",
    "# Name: None\n",
    "# Make: None\n",
    "# Model: None\n",
    "\n",
    "myCar.setName(\"I20\")\n",
    "myCar.displayDetails()\n",
    "# Name: I20\n",
    "# Make: None\n",
    "# Model: None\n",
    "\n",
    "myCar.getName()\n",
    "# 'I20'\n",
    "\n",
    "myCar.setMake(2019)\n",
    "myCar.setModel(\"Sportz\")\n",
    "myCar.displayDetails()\n",
    "# Name: I20\n",
    "# Make: 2019\n",
    "# Model: Sportz"
   ]
  },
  {
   "cell_type": "markdown",
   "id": "542a929b",
   "metadata": {},
   "source": [
    "## Access Modifier\n",
    "\n",
    "#### A Class in Python has three types of access modifiers:\n",
    "\n",
    "1. ##### Public Access Modifier\n",
    "2. ##### Protected Access Modifier\n",
    "3. ##### Private Access Modifier\n",
    "\n",
    "\n",
    "`Public`: Attributes that can be accessed inside or outside a class definition. Attribute naming convention: name\n",
    "\n",
    "`Protected`: Attributes that should not be used outside the class definition, but can be used inside a subclass definition. Attribute naming convention: _name\n",
    "\n",
    "`Private`: Attribute which is not possible to use outside the class definition. Attribute naming convention: __name"
   ]
  },
  {
   "cell_type": "code",
   "execution_count": 16,
   "id": "3b5bd243",
   "metadata": {},
   "outputs": [
    {
     "name": "stdout",
     "output_type": "stream",
     "text": [
      "Dummy 30\n"
     ]
    }
   ],
   "source": [
    "class Dummy:\n",
    "    def __init__(self):\n",
    "        self.name = \"Dummy\"\n",
    "        self._age = 30\n",
    "        self.__salary = 85000\n",
    "        \n",
    "person1 = Dummy()\n",
    "\n",
    "# print(person1.name, person1._age, person1.__salary)\n",
    "# 'Dummy' object has no attribute '__salary'\n",
    "\n",
    "print(person1.name, person1._age)\n",
    "# Dummy 30"
   ]
  },
  {
   "cell_type": "code",
   "execution_count": 12,
   "id": "11abc02e",
   "metadata": {},
   "outputs": [
    {
     "name": "stdout",
     "output_type": "stream",
     "text": [
      "Name: I20\n",
      "Make: 2019\n",
      "Model: Sportz\n"
     ]
    }
   ],
   "source": [
    "# The attribute prefixed with __ is inaccessible and invisible to the outside of the class definition.\n",
    "\n",
    "class Car:\n",
    "    def __init__(self, name=None, make=None, model=None):\n",
    "        self.__name = name\n",
    "        self.__make = make\n",
    "        self.__model = model\n",
    "    def setName(self, name):\n",
    "        self.__name = name\n",
    "    def setMake(self, make):\n",
    "        self.__make = make\n",
    "    def setModel(self, model):\n",
    "        self.__model = model\n",
    "    \n",
    "    def getName(self):\n",
    "        return self.__name\n",
    "    def getMake(self):\n",
    "        return self.__make\n",
    "    def getModel(self):\n",
    "        return self.__model\n",
    "    \n",
    "    def displayDetails(self):\n",
    "        print(f\"Name: {self.getName()}\\nMake: {self.getMake()}\\nModel: {self.getModel()}\")\n",
    "\n",
    "myCar = Car(\"I20\", 2019, \"Sportz\")\n",
    "myCar.displayDetails()\n",
    "\n",
    "# print(myCar.__name) \n",
    "# 'Car' object has no attribute '__name'"
   ]
  },
  {
   "cell_type": "code",
   "execution_count": 11,
   "id": "3a747937",
   "metadata": {},
   "outputs": [
    {
     "name": "stdout",
     "output_type": "stream",
     "text": [
      "Name: I20\n",
      "Make: 2019\n",
      "Model: Sportz\n",
      "I20\n"
     ]
    }
   ],
   "source": [
    "class Car:\n",
    "    def __init__(self, name=None, make=None, model=None):\n",
    "        self.name = name\n",
    "        self.__make = make\n",
    "        self.__model = model\n",
    "    def setName(self, name):\n",
    "        self.name = name\n",
    "    def setMake(self, make):\n",
    "        self.__make = make\n",
    "    def setModel(self, model):\n",
    "        self.__model = model\n",
    "    \n",
    "    def getName(self):\n",
    "        return self.name\n",
    "    def getMake(self):\n",
    "        return self.__make\n",
    "    def getModel(self):\n",
    "        return self.__model\n",
    "    \n",
    "    def displayDetails(self):\n",
    "        print(f\"Name: {self.getName()}\\nMake: {self.getMake()}\\nModel: {self.getModel()}\")\n",
    "\n",
    "myCar = Car(\"I20\", 2019, \"Sportz\")\n",
    "myCar.displayDetails()\n",
    "\n",
    "print(myCar.name) # I20"
   ]
  },
  {
   "cell_type": "code",
   "execution_count": null,
   "id": "6e540ba6",
   "metadata": {},
   "outputs": [],
   "source": []
  }
 ],
 "metadata": {
  "kernelspec": {
   "display_name": "Python 3 (ipykernel)",
   "language": "python",
   "name": "python3"
  },
  "language_info": {
   "codemirror_mode": {
    "name": "ipython",
    "version": 3
   },
   "file_extension": ".py",
   "mimetype": "text/x-python",
   "name": "python",
   "nbconvert_exporter": "python",
   "pygments_lexer": "ipython3",
   "version": "3.9.0"
  }
 },
 "nbformat": 4,
 "nbformat_minor": 5
}
