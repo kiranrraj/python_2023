{
 "cells": [
  {
   "cell_type": "markdown",
   "id": "7d1e7daa",
   "metadata": {},
   "source": [
    "# OOP"
   ]
  },
  {
   "cell_type": "code",
   "execution_count": 1,
   "id": "2eec3024",
   "metadata": {},
   "outputs": [],
   "source": [
    "class ClassName:\n",
    "    pass"
   ]
  },
  {
   "cell_type": "code",
   "execution_count": 2,
   "id": "fa4d40ea",
   "metadata": {},
   "outputs": [
    {
     "name": "stdout",
     "output_type": "stream",
     "text": [
      "False\n",
      "True\n"
     ]
    }
   ],
   "source": [
    "class DummyClass:\n",
    "    pass\n",
    "\n",
    "obj1 = DummyClass()\n",
    "obj2 = DummyClass()\n",
    "obj3 = obj2\n",
    "\n",
    "print(obj1 == obj2) \n",
    "\n",
    "print(obj3 == obj2)"
   ]
  },
  {
   "cell_type": "code",
   "execution_count": 3,
   "id": "10485190",
   "metadata": {},
   "outputs": [
    {
     "name": "stdout",
     "output_type": "stream",
     "text": [
      "{'name': 'I20', 'make': 2019, 'model': 'Sportz'}\n"
     ]
    }
   ],
   "source": [
    "class Car:\n",
    "    pass\n",
    "\n",
    "myCar = Car()\n",
    "myCar.name = \"I20\"\n",
    "myCar.make = 2019\n",
    "myCar.model = \"Sportz\"\n",
    "\n",
    "\n",
    "#  __dict__ is used to store attributes\n",
    "\n",
    "print(myCar.__dict__)\n",
    "# {'name': 'I20', 'make': 2019, 'model': 'Sportz'}"
   ]
  },
  {
   "cell_type": "markdown",
   "id": "86c58330",
   "metadata": {},
   "source": [
    "### `__init__`\n",
    "1. `__init__` method is called immediately and automatically after an instance has been created.\n",
    "2. There is no explicit constructor or destructor method in Python.\n",
    "3. `__init__` method can be anywhere in a class definition (but preferred as first method)."
   ]
  },
  {
   "cell_type": "code",
   "execution_count": 4,
   "id": "241b68af",
   "metadata": {},
   "outputs": [
    {
     "name": "stdout",
     "output_type": "stream",
     "text": [
      "Name: I20\n",
      "Make: 2019\n",
      "Model: Sportz\n"
     ]
    }
   ],
   "source": [
    "class Car:\n",
    "    def __init__(self, name, make, model):\n",
    "        self.name = name\n",
    "        self.make = make\n",
    "        self.model = model\n",
    "    def displayDetails(self):\n",
    "        print(f\"Name: {self.name}\\nMake: {self.make}\\nModel: {self.model}\")\n",
    "\n",
    "myCar = Car(\"I20\", 2019, \"Sportz\")\n",
    "myCar.displayDetails()\n"
   ]
  },
  {
   "cell_type": "markdown",
   "id": "4b679cf2",
   "metadata": {},
   "source": [
    "1. Encapsulation is bundling of data with the methods that operate on that data. This is done using the getters and setters methods, getter methods are for accessing the values of attributes and setter method for setting (changing) the values of attribute.\n",
    "2. Information hiding is the principle that some data is hidden.\n",
    "3. Data Abstraction = Data Encapsulation + Data Hiding"
   ]
  },
  {
   "cell_type": "code",
   "execution_count": 5,
   "id": "9330bed2",
   "metadata": {},
   "outputs": [
    {
     "name": "stdout",
     "output_type": "stream",
     "text": [
      "Name: None\n",
      "Make: None\n",
      "Model: None\n",
      "Name: I20\n",
      "Make: None\n",
      "Model: None\n",
      "Name: I20\n",
      "Make: 2019\n",
      "Model: Sportz\n"
     ]
    }
   ],
   "source": [
    "class Car:\n",
    "    def __init__(self, name=None, make=None, model=None):\n",
    "        self.name = name\n",
    "        self.make = make\n",
    "        self.model = model\n",
    "    def setName(self, name):\n",
    "        self.name = name\n",
    "    def setMake(self, make):\n",
    "        self.make = make\n",
    "    def setModel(self, model):\n",
    "        self.model = model\n",
    "    \n",
    "    def getName(self):\n",
    "        return self.name\n",
    "    def getMake(self):\n",
    "        return self.make\n",
    "    def getModel(self):\n",
    "        return self.model\n",
    "    \n",
    "    def displayDetails(self):\n",
    "        print(f\"Name: {self.getName()}\\nMake: {self.getMake()}\\nModel: {self.getModel()}\")\n",
    "\n",
    "myCar = Car()\n",
    "myCar.displayDetails()\n",
    "# Name: None\n",
    "# Make: None\n",
    "# Model: None\n",
    "\n",
    "myCar.setName(\"I20\")\n",
    "myCar.displayDetails()\n",
    "# Name: I20\n",
    "# Make: None\n",
    "# Model: None\n",
    "\n",
    "myCar.getName()\n",
    "# 'I20'\n",
    "\n",
    "myCar.setMake(2019)\n",
    "myCar.setModel(\"Sportz\")\n",
    "myCar.displayDetails()\n",
    "# Name: I20\n",
    "# Make: 2019\n",
    "# Model: Sportz"
   ]
  },
  {
   "cell_type": "code",
   "execution_count": null,
   "id": "49f41284",
   "metadata": {},
   "outputs": [],
   "source": []
  }
 ],
 "metadata": {
  "kernelspec": {
   "display_name": "Python 3 (ipykernel)",
   "language": "python",
   "name": "python3"
  },
  "language_info": {
   "codemirror_mode": {
    "name": "ipython",
    "version": 3
   },
   "file_extension": ".py",
   "mimetype": "text/x-python",
   "name": "python",
   "nbconvert_exporter": "python",
   "pygments_lexer": "ipython3",
   "version": "3.9.0"
  }
 },
 "nbformat": 4,
 "nbformat_minor": 5
}
