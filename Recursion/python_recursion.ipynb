{
 "cells": [
  {
   "cell_type": "code",
   "execution_count": 1,
   "id": "6770f0ea",
   "metadata": {},
   "outputs": [
    {
     "name": "stdout",
     "output_type": "stream",
     "text": [
      "Recursion\n"
     ]
    }
   ],
   "source": [
    "print(\"Recursion\")"
   ]
  },
  {
   "cell_type": "markdown",
   "id": "fa33a78d",
   "metadata": {},
   "source": [
    "Recursion is a method of programming in which a function calls itself one or more times in its body."
   ]
  },
  {
   "cell_type": "markdown",
   "id": "5a91e435",
   "metadata": {},
   "source": [
    "With every recursive call, solution of the problem is made smaller and smaller finally it reaches a base case, which is a case in which the problem can be solved without any further recursion. A recursion will end up in an infinite loop, if the base case is not met, we need to specify a termination condition in the base case."
   ]
  },
  {
   "cell_type": "code",
   "execution_count": 3,
   "id": "8148448d",
   "metadata": {},
   "outputs": [
    {
     "name": "stdout",
     "output_type": "stream",
     "text": [
      "6\n"
     ]
    }
   ],
   "source": [
    "def factorial(n):\n",
    "    if n == 0:\n",
    "        return 1\n",
    "    else:\n",
    "        return n * factorial(n-1)\n",
    "    \n",
    "print(factorial(3))"
   ]
  },
  {
   "cell_type": "code",
   "execution_count": null,
   "id": "718f58a1",
   "metadata": {},
   "outputs": [],
   "source": []
  }
 ],
 "metadata": {
  "kernelspec": {
   "display_name": "Python 3 (ipykernel)",
   "language": "python",
   "name": "python3"
  },
  "language_info": {
   "codemirror_mode": {
    "name": "ipython",
    "version": 3
   },
   "file_extension": ".py",
   "mimetype": "text/x-python",
   "name": "python",
   "nbconvert_exporter": "python",
   "pygments_lexer": "ipython3",
   "version": "3.9.0"
  }
 },
 "nbformat": 4,
 "nbformat_minor": 5
}
