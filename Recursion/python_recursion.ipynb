{
 "cells": [
  {
   "cell_type": "code",
   "execution_count": 1,
   "id": "6770f0ea",
   "metadata": {},
   "outputs": [
    {
     "name": "stdout",
     "output_type": "stream",
     "text": [
      "Recursion\n"
     ]
    }
   ],
   "source": [
    "print(\"Recursion\")"
   ]
  },
  {
   "cell_type": "markdown",
   "id": "fa33a78d",
   "metadata": {},
   "source": [
    "Recursion is a method of programming in which a function calls itself one or more times in its body."
   ]
  },
  {
   "cell_type": "markdown",
   "id": "5a91e435",
   "metadata": {},
   "source": [
    "With every recursive call, solution of the problem is made smaller and smaller finally it reaches a base case, which is a case in which the problem can be solved without any further recursion. A recursion will end up in an infinite loop, if the base case is not met, we need to specify a termination condition in the base case.\n",
    "\n",
    "Things to keep in mind when you use a Recursive function.\n",
    "\n",
    "1. A base cases that are directly solvable without the need for further recursion.\n",
    "2. Each recursive call moves closer to the base case."
   ]
  },
  {
   "cell_type": "code",
   "execution_count": 3,
   "id": "8148448d",
   "metadata": {},
   "outputs": [
    {
     "name": "stdout",
     "output_type": "stream",
     "text": [
      "6\n"
     ]
    }
   ],
   "source": [
    "# Implement finding factorial of a number using recursion\n",
    "\n",
    "def factorial(n):\n",
    "    if n == 0:\n",
    "        return 1\n",
    "    else:\n",
    "        return n * factorial(n-1)\n",
    "    \n",
    "print(factorial(3))"
   ]
  },
  {
   "cell_type": "code",
   "execution_count": 8,
   "id": "4ad24517",
   "metadata": {},
   "outputs": [
    {
     "name": "stdout",
     "output_type": "stream",
     "text": [
      "True\n",
      "False\n",
      "True\n"
     ]
    }
   ],
   "source": [
    "# Implementing palindrome using recursion\n",
    "\n",
    "def palindrome(word):\n",
    "    if len(word) <= 1:\n",
    "        return True\n",
    "    else:\n",
    "        return (word[0] == word[-1]) and palindrome(word[1:-1])\n",
    "\n",
    "print(palindrome(\"malayalam\"))\n",
    "print(palindrome(\"Cat\"))\n",
    "print(palindrome(\"iiiiiiiiii\"))\n",
    "    "
   ]
  },
  {
   "cell_type": "code",
   "execution_count": 1,
   "id": "718f58a1",
   "metadata": {},
   "outputs": [
    {
     "name": "stdout",
     "output_type": "stream",
     "text": [
      "10\n",
      "9\n",
      "8\n",
      "7\n",
      "6\n",
      "5\n",
      "4\n",
      "3\n",
      "2\n",
      "1\n",
      "0\n"
     ]
    }
   ],
   "source": [
    "# Implement Count down function using recursion \n",
    "\n",
    "def countDown(num):\n",
    "    print(num)\n",
    "    if num == 0:\n",
    "        return 0\n",
    "    else:\n",
    "        countDown(num-1)\n",
    "        \n",
    "countDown(10)"
   ]
  },
  {
   "cell_type": "code",
   "execution_count": 6,
   "id": "e018c476",
   "metadata": {},
   "outputs": [
    {
     "name": "stdout",
     "output_type": "stream",
     "text": [
      "10\n"
     ]
    }
   ],
   "source": [
    "# Implement count elements in a nested list\n",
    "\n",
    "def countNodes(userList):\n",
    "    nodeCount = 0\n",
    "    for node in userList:\n",
    "        if isinstance(node, list):\n",
    "            # if the node is instance of list, it means it is not a leaf node.\n",
    "            nodeCount += countNodes(node)\n",
    "        else:\n",
    "            # If leaf node\n",
    "            nodeCount += 1\n",
    "    return nodeCount\n",
    "\n",
    "myList = [[1, 2, 3, 4], [2, 3], [6, 7], 5, 6]\n",
    "print(countNodes(myList))         "
   ]
  },
  {
   "cell_type": "code",
   "execution_count": null,
   "id": "d307b4f0",
   "metadata": {},
   "outputs": [],
   "source": []
  }
 ],
 "metadata": {
  "kernelspec": {
   "display_name": "Python 3 (ipykernel)",
   "language": "python",
   "name": "python3"
  },
  "language_info": {
   "codemirror_mode": {
    "name": "ipython",
    "version": 3
   },
   "file_extension": ".py",
   "mimetype": "text/x-python",
   "name": "python",
   "nbconvert_exporter": "python",
   "pygments_lexer": "ipython3",
   "version": "3.9.0"
  }
 },
 "nbformat": 4,
 "nbformat_minor": 5
}
